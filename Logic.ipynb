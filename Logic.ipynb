{
 "cells": [
  {
   "cell_type": "markdown",
   "id": "removed-peripheral",
   "metadata": {},
   "source": [
    "## Notes\n",
    "\n",
    "1. The notebooks are largely self-contained, i.e, if you see a symbol there will be an explanation about it at some point in the notebook.\n",
    "    - Most often there will be links to the cell where the symbols are explained\n",
    "    - If the symbols are not explained in this notebook, a reference to the appropriate notebook will be provided\n",
    "    \n",
    "    \n",
    "2. **Github does a poor job of rendering this notebook**. The online render of this notebook is missing links, symbols, and notations are badly formatted. It is advised that you clone a local copy (or download the notebook) and open it locally."
   ]
  },
  {
   "cell_type": "markdown",
   "id": "urban-tender",
   "metadata": {},
   "source": [
    "# Contents\n",
    "\n",
    "1. [Logic](#logic)\n",
    "    - [Boolean operations](#logicboolean)\n",
    "        - [And](#logicbooleanand)\n",
    "        - [Or](#logicbooleanor)\n",
    "        - [Not](#logicbooleannot)\n",
    "        - [Exclusive Or](#logicbooleanexor)\n",
    "        - [Nand](#logicbooleannand)\n",
    "    - [Proof symbols](#logicproof)\n",
    "        - [Implies](#logicproofimplies)\n",
    "        - [Implied by](#logicproofimpliedby)\n",
    "        - [If and only if](#logicproofiff)\n",
    "    - [Quantifiers](#logicquantifiers)\n",
    "        - [For all](#logicquantifiersforall)"
   ]
  },
  {
   "cell_type": "markdown",
   "id": "australian-swiss",
   "metadata": {},
   "source": [
    "## Importing Libraries"
   ]
  },
  {
   "cell_type": "code",
   "execution_count": 1,
   "id": "tribal-album",
   "metadata": {},
   "outputs": [],
   "source": [
    "import random\n",
    "import math"
   ]
  },
  {
   "cell_type": "markdown",
   "id": "executive-voluntary",
   "metadata": {},
   "source": [
    "<a id='logic'></a>\n",
    "<a id='logicboolean'></a>\n",
    "<a id='logicbooleanand'></a>"
   ]
  },
  {
   "cell_type": "markdown",
   "id": "under-floor",
   "metadata": {},
   "source": [
    "---\n",
    "\n",
    "<u>**Boolean Operations**</u>\n",
    "\n",
    "<u>**And**</u>\n",
    "\n",
    "The Boolean And operation is denoted using $\\wedge$\n",
    "\n",
    "$$ p \\wedge q $$"
   ]
  },
  {
   "cell_type": "code",
   "execution_count": 2,
   "id": "superb-plant",
   "metadata": {},
   "outputs": [
    {
     "data": {
      "text/plain": [
       "False"
      ]
     },
     "execution_count": 2,
     "metadata": {},
     "output_type": "execute_result"
    }
   ],
   "source": [
    "p = bool()\n",
    "q = bool()\n",
    "\n",
    "p and q"
   ]
  },
  {
   "cell_type": "markdown",
   "id": "attended-paste",
   "metadata": {},
   "source": [
    "<a id='logicbooleanor'></a>"
   ]
  },
  {
   "cell_type": "markdown",
   "id": "selective-transition",
   "metadata": {},
   "source": [
    "---\n",
    "\n",
    "<u>**Or**</u>\n",
    "\n",
    "The Boolean Or operation is denoted using $\\vee$\n",
    "\n",
    "$$ p \\vee q $$"
   ]
  },
  {
   "cell_type": "code",
   "execution_count": 3,
   "id": "buried-cocktail",
   "metadata": {},
   "outputs": [
    {
     "data": {
      "text/plain": [
       "False"
      ]
     },
     "execution_count": 3,
     "metadata": {},
     "output_type": "execute_result"
    }
   ],
   "source": [
    "p = bool()\n",
    "q = bool()\n",
    "\n",
    "p or q"
   ]
  },
  {
   "cell_type": "markdown",
   "id": "reasonable-logic",
   "metadata": {},
   "source": [
    "<a id='logicbooleannot'> </a>"
   ]
  },
  {
   "cell_type": "markdown",
   "id": "nervous-setting",
   "metadata": {},
   "source": [
    "---\n",
    "\n",
    "<u>**Not**</u>\n",
    "\n",
    "The Boolean Not operation is denoted using $\\sim$ or $\\neg$ and sometimes just the text 'not' is used:\n",
    "\n",
    "$$ \\sim p $$\n",
    "or\n",
    "$$ \\neg p $$\n",
    "or\n",
    "$$\\text{not} \\; p$$"
   ]
  },
  {
   "cell_type": "code",
   "execution_count": 4,
   "id": "accessory-toronto",
   "metadata": {},
   "outputs": [
    {
     "data": {
      "text/plain": [
       "True"
      ]
     },
     "execution_count": 4,
     "metadata": {},
     "output_type": "execute_result"
    }
   ],
   "source": [
    "p = bool()\n",
    "\n",
    "not p"
   ]
  },
  {
   "cell_type": "markdown",
   "id": "naked-cologne",
   "metadata": {},
   "source": [
    "<a id='logicbooleanexor'> </a>"
   ]
  },
  {
   "cell_type": "markdown",
   "id": "documented-madagascar",
   "metadata": {},
   "source": [
    "---\n",
    "\n",
    "<u>**Exclusive Or**</u>\n",
    "\n",
    "The Exclusive Or operation is denoted using $\\veebar$ or $\\oplus$ or just $\\rm{\\small{XOR}}$\n",
    "\n",
    "$$ p \\veebar q $$\n",
    "or\n",
    "$$ p \\oplus q $$\n",
    "or\n",
    "$$ p \\;\\rm{\\small{XOR}}\\; q$$"
   ]
  },
  {
   "cell_type": "code",
   "execution_count": 5,
   "id": "banned-height",
   "metadata": {},
   "outputs": [
    {
     "data": {
      "text/plain": [
       "(False, False)"
      ]
     },
     "execution_count": 5,
     "metadata": {},
     "output_type": "execute_result"
    }
   ],
   "source": [
    "p = bool()\n",
    "q = bool()\n",
    "\n",
    "#Shorter code since bool Xor equivalent to bitwise Xor\n",
    "XOR_short = p ^ q\n",
    "\n",
    "#Longer code by definition\n",
    "XOR_long = (not q and p) or (not p and q) \n",
    "\n",
    "XOR_short, XOR_long"
   ]
  },
  {
   "cell_type": "markdown",
   "id": "trained-destiny",
   "metadata": {},
   "source": [
    "<a id='logicbooleannand'> </a>"
   ]
  },
  {
   "cell_type": "markdown",
   "id": "retained-reader",
   "metadata": {},
   "source": [
    "---\n",
    "\n",
    "<u>**Nand**</u>\n",
    "\n",
    "The Nand operation is denoted using $\\barwedge$\n",
    "\n",
    "$$ p \\barwedge q $$\n",
    "\n",
    "The Nand operator can be expanded to: $p \\barwedge q = \\neg ( p \\vee q )$"
   ]
  },
  {
   "cell_type": "code",
   "execution_count": 6,
   "id": "impressed-preserve",
   "metadata": {},
   "outputs": [
    {
     "data": {
      "text/plain": [
       "True"
      ]
     },
     "execution_count": 6,
     "metadata": {},
     "output_type": "execute_result"
    }
   ],
   "source": [
    "p = bool()\n",
    "q = bool()\n",
    "\n",
    "not (p and q)"
   ]
  },
  {
   "cell_type": "markdown",
   "id": "canadian-shade",
   "metadata": {},
   "source": [
    "<a id='logicproof'> </a>\n",
    "<a id='logicproofimplies'> </a>"
   ]
  },
  {
   "cell_type": "markdown",
   "id": "brilliant-efficiency",
   "metadata": {},
   "source": [
    "---\n",
    "\n",
    "<u>**Proof Symbols**</u>\n",
    "\n",
    "<u>**Implies**</u>\n",
    "\n",
    "In mathematical proofs, the term 'implies' means 'if $a$ then $b$' or '$a$ implies $b$' and this is denoted using the symbol: $\\Rightarrow$\n",
    "\n",
    "$$a \\Rightarrow b$$\n",
    "\n",
    "Here $a$ and $b$ are any mathematical concepts (or _logical predicates_) "
   ]
  },
  {
   "cell_type": "code",
   "execution_count": 7,
   "id": "welsh-accident",
   "metadata": {},
   "outputs": [
    {
     "name": "stdout",
     "output_type": "stream",
     "text": [
      "a:  True b:  True , a implies b : True\n",
      "a:  True b:  False , a implies b : False\n",
      "a:  False b:  True , a implies b : True\n",
      "a:  False b:  False , a implies b : True\n"
     ]
    }
   ],
   "source": [
    "boo = [True, False]\n",
    "\n",
    "for a in boo:\n",
    "    for b in boo:\n",
    "        print('a: ', a, 'b: ',b,', a implies b :', b or (not a))"
   ]
  },
  {
   "cell_type": "markdown",
   "id": "wooden-florence",
   "metadata": {},
   "source": [
    "To prove a theorem of this form, you must prove that $b$ is true whenever $a$ is true. Example: $x$ is greater than or equal to $4$, then $2^x \\geq x^2$   $$\\forall x \\in \\mathbb{R},\\; x \\ge 4 \\Rightarrow 2^x \\geq x^2$$\n",
    "\n",
    "i.e: if ($a$ = $x$ is greater than or equal to $4$), then  ($b$ = $2^x \\geq x^2$) \n",
    "\n",
    "(See: [For all](#logicquantifiersforall))\n",
    "\n",
    "**For more information on the real set and the belongs to notation see the Collections notebook**"
   ]
  },
  {
   "cell_type": "code",
   "execution_count": 8,
   "id": "parallel-width",
   "metadata": {
    "scrolled": true
   },
   "outputs": [
    {
     "name": "stdout",
     "output_type": "stream",
     "text": [
      "if a then b\n",
      "x : -10.0 , x>=4, a:  False , 2^x>=x^2, b:  False\n",
      "x : -2.2 , x>=4, a:  False , 2^x>=x^2, b:  False\n",
      "x : 0.0 , x>=4, a:  False , 2^x>=x^2, b:  True\n",
      "x : 2.0 , x>=4, a:  False , 2^x>=x^2, b:  True\n",
      "x : 3.1 , x>=4, a:  False , 2^x>=x^2, b:  False\n",
      "x : 4.0 , x>=4, a:  True , 2^x>=x^2, b:  True\n",
      "x : 5.5 , x>=4, a:  True , 2^x>=x^2, b:  True\n",
      "x : 6.0 , x>=4, a:  True , 2^x>=x^2, b:  True\n",
      "x : 7.8 , x>=4, a:  True , 2^x>=x^2, b:  True\n"
     ]
    }
   ],
   "source": [
    "print('if a then b')\n",
    "\n",
    "X   = [-10.00,-2.20,0.00,2.00,3.10,4.00,5.5,6.00,7.8]\n",
    "\n",
    "for x in X:\n",
    "    condition_a = x >= 4\n",
    "    condition_b = 2**x >= x**2\n",
    "    print('x :', x, ', x>=4, a: ',condition_a,', 2^x>=x^2, b: ', condition_b)"
   ]
  },
  {
   "cell_type": "markdown",
   "id": "quarterly-enhancement",
   "metadata": {},
   "source": [
    "<a id='logicproofimpliedby'> </a>"
   ]
  },
  {
   "cell_type": "markdown",
   "id": "excellent-messenger",
   "metadata": {},
   "source": [
    "---\n",
    "\n",
    "<u>**Implied by**</u>\n",
    "\n",
    "In mathematical proofs, the term 'implied by' means 'if $b$ then $a$' or '$a$ is implied by $b$' and this is denoted using the symbol: $\\Leftarrow$\n",
    "\n",
    "$$a \\Leftarrow b$$\n",
    "\n",
    "Here $a$ and $b$ are any mathematical concepts (or _logical predicates_) "
   ]
  },
  {
   "cell_type": "code",
   "execution_count": 9,
   "id": "sealed-helen",
   "metadata": {},
   "outputs": [
    {
     "name": "stdout",
     "output_type": "stream",
     "text": [
      "a:  True b:  True , a implied by b : True\n",
      "a:  True b:  False , a implied by b : True\n",
      "a:  False b:  True , a implied by b : False\n",
      "a:  False b:  False , a implied by b : True\n"
     ]
    }
   ],
   "source": [
    "boo = [True, False]\n",
    "\n",
    "for a in boo:\n",
    "    for b in boo:\n",
    "        print('a: ', a, 'b: ',b,', a implied by b :', a or (not b))"
   ]
  },
  {
   "cell_type": "markdown",
   "id": "transparent-stress",
   "metadata": {},
   "source": [
    "To prove a theorem of this form, you must prove that $a$ true whenever $b$ is true."
   ]
  },
  {
   "cell_type": "markdown",
   "id": "czech-citizen",
   "metadata": {},
   "source": [
    "<a id='logicproofiff'> </a>"
   ]
  },
  {
   "cell_type": "markdown",
   "id": "traditional-intro",
   "metadata": {},
   "source": [
    "---\n",
    "\n",
    "<u>**If and only if**</u>\n",
    "\n",
    "In mathematical proofs, the term 'if and only if' means 'if $a$ then $b$' as well as 'if $b$ then $a$' and this is denoted using the symbol: $\\iff$ but it is also sometimes abbreviated as: $\\text{iff}$\n",
    "\n",
    "$$a \\iff b$$\n",
    "or\n",
    "$$a \\;\\text{iff}\\; b$$\n",
    "\n",
    "The concept of $\\text{iff}$ is also logically equivalent to $(a \\Rightarrow b) \\wedge (b \\Rightarrow a)$\n",
    "\n",
    "Here $a$ and $b$ are any mathematical concepts (or _logical predicates_).\n",
    "\n"
   ]
  },
  {
   "cell_type": "code",
   "execution_count": 10,
   "id": "attached-porcelain",
   "metadata": {},
   "outputs": [
    {
     "name": "stdout",
     "output_type": "stream",
     "text": [
      "a:  True b:  True , a iff b : True\n",
      "a:  True b:  False , a iff b : False\n",
      "a:  False b:  True , a iff b : False\n",
      "a:  False b:  False , a iff b : True\n"
     ]
    }
   ],
   "source": [
    "boo = [True, False]\n",
    "\n",
    "for a in boo:\n",
    "    for b in boo:\n",
    "        print('a: ', a, 'b: ',b,', a iff b :', (b or (not a)) and (a or (not b)))"
   ]
  },
  {
   "cell_type": "markdown",
   "id": "diverse-equality",
   "metadata": {},
   "source": [
    "To prove a theorem of this form, you must prove that $a$ and $b$ are equivalent. Not only is $b$ true whenever $a$ is true, but $a$ is true whenever $b$ is true. Example: The integer $n$ is odd if and only if $n^2$ is odd. $$\\forall n \\in \\mathbb{Z},\\; n \\;\\text{is odd} \\iff n^2 \\;\\text{is odd}$$\n",
    "\n",
    "i.e: ($a$ = $n$ is odd) iff ($b$ = $n^2$ is odd)\n",
    "\n",
    "(See: [For all](#logicquantifiersforall))\n",
    "\n",
    "**For more information on the integer set and the belongs to notation see the Collections notebook**"
   ]
  },
  {
   "cell_type": "code",
   "execution_count": 11,
   "id": "brief-nerve",
   "metadata": {},
   "outputs": [
    {
     "name": "stdout",
     "output_type": "stream",
     "text": [
      "if a then b\n",
      "n:  34 , odd(n), a: True \n",
      "n2:  1156 , odd(n2), b: True \n",
      "\n",
      "n:  0 , odd(n), a: True \n",
      "n2:  0 , odd(n2), b: True \n",
      "\n",
      "n:  -35 , odd(n), a: False \n",
      "n2:  1225 , odd(n2), b: False \n",
      "\n",
      "n:  71 , odd(n), a: False \n",
      "n2:  5041 , odd(n2), b: False \n",
      "\n",
      "n:  89 , odd(n), a: False \n",
      "n2:  7921 , odd(n2), b: False \n",
      "\n",
      "if b then a\n",
      "n2:  1296 , odd(n2), a: True \n",
      "n:  36 , odd(n):  True \n",
      "\n",
      "n2:  6241 , odd(n2), a: False \n",
      "n:  79 , odd(n):  False \n",
      "\n",
      "n2:  2209 , odd(n2), a: False \n",
      "n:  47 , odd(n):  False \n",
      "\n",
      "n2:  6889 , odd(n2), a: False \n",
      "n:  83 , odd(n):  False \n",
      "\n",
      "n2:  625 , odd(n2), a: False \n",
      "n:  25 , odd(n):  False \n",
      "\n"
     ]
    }
   ],
   "source": [
    "def is_odd(x):\n",
    "    return (x%2 == 0)\n",
    "\n",
    "print('if a then b')\n",
    "\n",
    "#Check if a then b\n",
    "N = [random.randint(-100,100) for i in range(5)]\n",
    "for n in N:\n",
    "    print('n: ', n, ', odd(n), a:',is_odd(n),\n",
    "          '\\nn2: ',n**2,', odd(n2), b:', is_odd(n**2),'\\n')\n",
    "\n",
    "print('if b then a')\n",
    "#Check if b then a:\n",
    "N_new = [random.randint(-100,100)**2 for i in range(5)]\n",
    "for n_squared in N_new:\n",
    "    n = int(math.sqrt(n_squared))\n",
    "    print('n2: ',n_squared,', odd(n2), a:', is_odd(n_squared),\n",
    "          '\\nn: ', n, ', odd(n): ',all([is_odd(n),is_odd(-n)]), '\\n')"
   ]
  },
  {
   "cell_type": "markdown",
   "id": "positive-dating",
   "metadata": {},
   "source": [
    "<a id='logicquantifiers'></a>\n",
    "<a id='logicquantifiersforall'></a>"
   ]
  },
  {
   "cell_type": "markdown",
   "id": "monetary-aging",
   "metadata": {},
   "source": [
    "---\n",
    "\n",
    "<u>**Quantifiers**</u>\n",
    "\n",
    "<u>**For all**</u>\n",
    "\n",
    "Also called a universal quantifier. The 'for all' symbol is used simply to denote that a concept or relation is applied to every member of the domain. Denoted by $\\forall$\n",
    "\n",
    "Squares of all real numbers are positive or zero can be expressed through:\n",
    "\n",
    "$$ \\forall x \\in \\mathbb{R}, x^2 \\ge 0 $$\n",
    "Which can be read as, for all x belonging to the set of real numbers, the square of x is always greater or equal to zero. "
   ]
  },
  {
   "cell_type": "code",
   "execution_count": 12,
   "id": "democratic-settlement",
   "metadata": {},
   "outputs": [
    {
     "name": "stdout",
     "output_type": "stream",
     "text": [
      "True\n",
      "True\n",
      "True\n",
      "True\n",
      "True\n"
     ]
    }
   ],
   "source": [
    "trials = 5\n",
    "\n",
    "for i in range(trials):\n",
    "    x = random.uniform(-100000, 100000)**2 \n",
    "    print(x >= 0)"
   ]
  }
 ],
 "metadata": {
  "kernelspec": {
   "display_name": "Python 3",
   "language": "python",
   "name": "python3"
  },
  "language_info": {
   "codemirror_mode": {
    "name": "ipython",
    "version": 3
   },
   "file_extension": ".py",
   "mimetype": "text/x-python",
   "name": "python",
   "nbconvert_exporter": "python",
   "pygments_lexer": "ipython3",
   "version": "3.8.6"
  }
 },
 "nbformat": 4,
 "nbformat_minor": 5
}
