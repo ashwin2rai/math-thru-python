{
 "cells": [
  {
   "cell_type": "markdown",
   "id": "removed-peripheral",
   "metadata": {},
   "source": [
    "## Notes\n",
    "\n",
    "1. The notebooks are largely self-contained, i.e, if you see a symbol there will be an explanation about it at some point in the notebook.\n",
    "    - Most often there will be links to the cell where the symbols are explained\n",
    "    - If the symbols are not explained in this notebook, a reference to the appropriate notebook will be provided\n",
    "    \n",
    "    \n",
    "2. **Github does a poor job of rendering this notebook**. The online render of this notebook is missing links, symbols, and notations are badly formatted. It is advised that you clone a local copy (or download the notebook) and open it locally."
   ]
  },
  {
   "cell_type": "markdown",
   "id": "urban-tender",
   "metadata": {},
   "source": [
    "# Contents\n",
    "\n",
    "1. [Logic](#logic)\n",
    "    - [Boolean operations](#logicboolean)\n",
    "        - [And](#logicbooleanand)\n",
    "        - [Or](#logicbooleanor)\n",
    "        - [Not](#logicbooleannot)\n",
    "        - [Exclusive Or](#logicbooleanexor)\n",
    "        - [Nand](#logicbooleannand)\n",
    "    - [Proof symbols](#logicproof)\n",
    "        - [Implies](#logicproofimplies)\n",
    "        - [Implied by](#logicproofimpliedby)\n",
    "        - [If and only if](#logicproofiff)\n",
    "        - [Therefore](#logicprooftherefore)\n",
    "        - [Because](#logicproofbecause)\n",
    "        - [Contradiction](#logicproofcontradiction)\n",
    "        - [End of Proof](#logicproofendofproof)\n",
    "    - [Quantifiers](#logicquantifiers)\n",
    "        - [For all](#logicquantifiersforall)\n",
    "        - [There exists](#logicquantifiersthereexists)\n",
    "        - [There exists uniquely](#logicquantifiersthereexistsuniquely)\n",
    "        - [Combining quantifiers](#logicquantifierscombining)"
   ]
  },
  {
   "cell_type": "markdown",
   "id": "australian-swiss",
   "metadata": {},
   "source": [
    "## Importing Libraries"
   ]
  },
  {
   "cell_type": "code",
   "execution_count": 1,
   "id": "tribal-album",
   "metadata": {},
   "outputs": [],
   "source": [
    "import random\n",
    "import math"
   ]
  },
  {
   "cell_type": "markdown",
   "id": "executive-voluntary",
   "metadata": {},
   "source": [
    "<a id='logic'></a>\n",
    "<a id='logicboolean'></a>\n",
    "<a id='logicbooleanand'></a>"
   ]
  },
  {
   "cell_type": "markdown",
   "id": "under-floor",
   "metadata": {},
   "source": [
    "---\n",
    "\n",
    "<u>**Boolean Operations**</u>\n",
    "\n",
    "<u>**And**</u>\n",
    "\n",
    "The Boolean And operation is denoted using $\\wedge$\n",
    "\n",
    "$$ p \\wedge q $$"
   ]
  },
  {
   "cell_type": "code",
   "execution_count": 2,
   "id": "superb-plant",
   "metadata": {},
   "outputs": [
    {
     "data": {
      "text/plain": [
       "False"
      ]
     },
     "execution_count": 2,
     "metadata": {},
     "output_type": "execute_result"
    }
   ],
   "source": [
    "p = bool()\n",
    "q = bool()\n",
    "\n",
    "p and q"
   ]
  },
  {
   "cell_type": "markdown",
   "id": "attended-paste",
   "metadata": {},
   "source": [
    "<a id='logicbooleanor'></a>"
   ]
  },
  {
   "cell_type": "markdown",
   "id": "selective-transition",
   "metadata": {},
   "source": [
    "---\n",
    "\n",
    "<u>**Or**</u>\n",
    "\n",
    "The Boolean Or operation is denoted using $\\vee$\n",
    "\n",
    "$$ p \\vee q $$"
   ]
  },
  {
   "cell_type": "code",
   "execution_count": 3,
   "id": "buried-cocktail",
   "metadata": {},
   "outputs": [
    {
     "data": {
      "text/plain": [
       "False"
      ]
     },
     "execution_count": 3,
     "metadata": {},
     "output_type": "execute_result"
    }
   ],
   "source": [
    "p = bool()\n",
    "q = bool()\n",
    "\n",
    "p or q"
   ]
  },
  {
   "cell_type": "markdown",
   "id": "reasonable-logic",
   "metadata": {},
   "source": [
    "<a id='logicbooleannot'> </a>"
   ]
  },
  {
   "cell_type": "markdown",
   "id": "nervous-setting",
   "metadata": {},
   "source": [
    "---\n",
    "\n",
    "<u>**Not**</u>\n",
    "\n",
    "The Boolean Not operation is denoted using $\\sim$ or $\\neg$ and sometimes just the text 'not' is used:\n",
    "\n",
    "$$ \\sim p $$\n",
    "or\n",
    "$$ \\neg p $$\n",
    "or\n",
    "$$\\text{not} \\; p$$"
   ]
  },
  {
   "cell_type": "code",
   "execution_count": 4,
   "id": "accessory-toronto",
   "metadata": {},
   "outputs": [
    {
     "data": {
      "text/plain": [
       "True"
      ]
     },
     "execution_count": 4,
     "metadata": {},
     "output_type": "execute_result"
    }
   ],
   "source": [
    "p = bool()\n",
    "\n",
    "not p"
   ]
  },
  {
   "cell_type": "markdown",
   "id": "naked-cologne",
   "metadata": {},
   "source": [
    "<a id='logicbooleanexor'> </a>"
   ]
  },
  {
   "cell_type": "markdown",
   "id": "documented-madagascar",
   "metadata": {},
   "source": [
    "---\n",
    "\n",
    "<u>**Exclusive Or**</u>\n",
    "\n",
    "The Exclusive Or operation is denoted using $\\veebar$ or $\\oplus$ or just $\\rm{\\small{XOR}}$\n",
    "\n",
    "$$ p \\veebar q $$\n",
    "or\n",
    "$$ p \\oplus q $$\n",
    "or\n",
    "$$ p \\;\\rm{\\small{XOR}}\\; q$$"
   ]
  },
  {
   "cell_type": "code",
   "execution_count": 5,
   "id": "banned-height",
   "metadata": {},
   "outputs": [
    {
     "data": {
      "text/plain": [
       "(False, False)"
      ]
     },
     "execution_count": 5,
     "metadata": {},
     "output_type": "execute_result"
    }
   ],
   "source": [
    "p = bool()\n",
    "q = bool()\n",
    "\n",
    "#Shorter code since bool Xor equivalent to bitwise Xor\n",
    "XOR_short = p ^ q\n",
    "\n",
    "#Longer code by definition\n",
    "XOR_long = (not q and p) or (not p and q) \n",
    "\n",
    "XOR_short, XOR_long"
   ]
  },
  {
   "cell_type": "markdown",
   "id": "trained-destiny",
   "metadata": {},
   "source": [
    "<a id='logicbooleannand'> </a>"
   ]
  },
  {
   "cell_type": "markdown",
   "id": "retained-reader",
   "metadata": {},
   "source": [
    "---\n",
    "\n",
    "<u>**Nand**</u>\n",
    "\n",
    "The Nand operation is denoted using $\\barwedge$\n",
    "\n",
    "$$ p \\barwedge q $$\n",
    "\n",
    "The Nand operator can be expanded to: $p \\barwedge q = \\neg ( p \\vee q )$"
   ]
  },
  {
   "cell_type": "code",
   "execution_count": 6,
   "id": "impressed-preserve",
   "metadata": {},
   "outputs": [
    {
     "data": {
      "text/plain": [
       "True"
      ]
     },
     "execution_count": 6,
     "metadata": {},
     "output_type": "execute_result"
    }
   ],
   "source": [
    "p = bool()\n",
    "q = bool()\n",
    "\n",
    "not (p and q)"
   ]
  },
  {
   "cell_type": "markdown",
   "id": "canadian-shade",
   "metadata": {},
   "source": [
    "<a id='logicproof'> </a>\n",
    "<a id='logicproofimplies'> </a>"
   ]
  },
  {
   "cell_type": "markdown",
   "id": "brilliant-efficiency",
   "metadata": {},
   "source": [
    "---\n",
    "\n",
    "<u>**Proof Symbols**</u>\n",
    "\n",
    "<u>**Implies**</u>\n",
    "\n",
    "In mathematical proofs, the term 'implies' means 'if $a$ then $b$' or '$a$ implies $b$' and this is denoted using the symbol: $\\Rightarrow$\n",
    "\n",
    "$$a \\Rightarrow b$$\n",
    "\n",
    "Here $a$ and $b$ are any mathematical concepts (or _logical predicates_) \n",
    "\n",
    "Logically, $a \\Rightarrow b$ is equivalent to $b \\vee \\neg a$\n",
    "\n",
    "(See: [Or](#logicbooleanor))"
   ]
  },
  {
   "cell_type": "code",
   "execution_count": 7,
   "id": "welsh-accident",
   "metadata": {},
   "outputs": [
    {
     "name": "stdout",
     "output_type": "stream",
     "text": [
      "a implies b truth table\n",
      "\n",
      "a:  True b:  True , a implies b : True\n",
      "a:  True b:  False , a implies b : False\n",
      "a:  False b:  True , a implies b : True\n",
      "a:  False b:  False , a implies b : True\n"
     ]
    }
   ],
   "source": [
    "boo = [True, False]\n",
    "print('a implies b truth table\\n')\n",
    "for a in boo:\n",
    "    for b in boo:\n",
    "        print('a: ', a, 'b: ',b,', a implies b :', b or (not a))"
   ]
  },
  {
   "cell_type": "markdown",
   "id": "wooden-florence",
   "metadata": {},
   "source": [
    "To prove a theorem of this form, you must prove that $b$ is true whenever $a$ is true. Example: if $x$ is greater than or equal to $4$, then $2^x \\geq x^2$   $$\\forall x \\in \\mathbb{R},\\; x \\ge 4 \\Rightarrow 2^x \\geq x^2$$\n",
    "\n",
    "i.e: if $a$ = ($x \\ge 4$), then  $b$ = ($2^x \\geq x^2$) \n",
    "\n",
    "Notice from the above truth table that $a$ may be False when $b$ is True. However, $b$ **must** be True when $a$ is True. Hence, we can prove that $b$ is True whenever $a$ is True for $a \\Rightarrow b$ but also, if we show that $b$ is False when $a$ is True, we have invalidated the $a \\Rightarrow b$ statement.\n",
    "\n",
    "(See: [For all](#logicquantifiersforall))\n",
    "\n",
    "**For more information on the real set and the belongs to notation see the Collections notebook**"
   ]
  },
  {
   "cell_type": "code",
   "execution_count": 8,
   "id": "parallel-width",
   "metadata": {
    "scrolled": true
   },
   "outputs": [
    {
     "name": "stdout",
     "output_type": "stream",
     "text": [
      "if a then b\n",
      "x : -10.0 , x>=4, a:  False , 2^x>=x^2, b:  False\n",
      "x : -2.2 , x>=4, a:  False , 2^x>=x^2, b:  False\n",
      "x : 0.0 , x>=4, a:  False , 2^x>=x^2, b:  True\n",
      "x : 2.0 , x>=4, a:  False , 2^x>=x^2, b:  True\n",
      "x : 3.1 , x>=4, a:  False , 2^x>=x^2, b:  False\n",
      "x : 4.0 , x>=4, a:  True , 2^x>=x^2, b:  True\n",
      "x : 5.5 , x>=4, a:  True , 2^x>=x^2, b:  True\n",
      "x : 6.0 , x>=4, a:  True , 2^x>=x^2, b:  True\n",
      "x : 7.8 , x>=4, a:  True , 2^x>=x^2, b:  True\n",
      "\n",
      "Compared with the truth table above\n",
      "a implies b:  True\n"
     ]
    }
   ],
   "source": [
    "print('if a then b')\n",
    "\n",
    "X   = [-10.00,-2.20,0.00,2.00,3.10,4.00,5.5,6.00,7.8] #Subset of R used as an example\n",
    "\n",
    "a_implies_b =[]\n",
    "\n",
    "for x in X:\n",
    "    condition_a = x >= 4\n",
    "    condition_b = 2**x >= x**2\n",
    "    print('x :', x, ', x>=4, a: ',condition_a,', 2^x>=x^2, b: ', condition_b)\n",
    "    \n",
    "    a_implies_b.append(condition_b or (not condition_a))\n",
    "    \n",
    "print('\\nCompared with the truth table above')\n",
    "print('a implies b: ', all(a_implies_b))\n",
    "#Atleast for this subset of R"
   ]
  },
  {
   "cell_type": "markdown",
   "id": "quarterly-enhancement",
   "metadata": {},
   "source": [
    "<a id='logicproofimpliedby'> </a>"
   ]
  },
  {
   "cell_type": "markdown",
   "id": "excellent-messenger",
   "metadata": {},
   "source": [
    "---\n",
    "\n",
    "<u>**Implied by**</u>\n",
    "\n",
    "In mathematical proofs, the term 'implied by' means 'if $b$ then $a$' or '$a$ is implied by $b$' and this is denoted using the symbol: $\\Leftarrow$\n",
    "\n",
    "$$a \\Leftarrow b$$\n",
    "\n",
    "Here $a$ and $b$ are any mathematical concepts (or _logical predicates_) \n",
    "\n",
    "Logically, $a \\Leftarrow b$ is equivalent to $a \\vee \\neg b$\n",
    "\n",
    "(See: [Or](#logicbooleanor))"
   ]
  },
  {
   "cell_type": "code",
   "execution_count": 9,
   "id": "sealed-helen",
   "metadata": {},
   "outputs": [
    {
     "name": "stdout",
     "output_type": "stream",
     "text": [
      "a implied by b truth table\n",
      "\n",
      "a:  True b:  True , a implied by b : True\n",
      "a:  True b:  False , a implied by b : True\n",
      "a:  False b:  True , a implied by b : False\n",
      "a:  False b:  False , a implied by b : True\n"
     ]
    }
   ],
   "source": [
    "boo = [True, False]\n",
    "print('a implied by b truth table\\n')\n",
    "for a in boo:\n",
    "    for b in boo:\n",
    "        print('a: ', a, 'b: ',b,', a implied by b :', a or (not b))"
   ]
  },
  {
   "cell_type": "markdown",
   "id": "transparent-stress",
   "metadata": {},
   "source": [
    "To prove a theorem of this form, you must prove that $a$ true whenever $b$ is true. To explain the concept, lets expand on the previous example, but here let's assume that the opposite condition is true, i.e: $x \\ge 4$ is implied by $2^x \\geq x^2$   $$\\forall x \\in \\mathbb{R},\\; x \\ge 4 \\Leftarrow 2^x \\geq x^2$$\n",
    "\n",
    "So based on our truth table above we have: $a = (x \\ge 4), b = (2^x \\geq x^2)$. Interestingly, if this is true we would have proved that $x \\ge 4$ if and only if $2^x \\geq x^2$ (See: if and only if)\n",
    "\n",
    "(See: [For all](#logicquantifiersforall))\n",
    "\n",
    "**For more information on the real set and the belongs to notation see the Collections notebook**\n",
    "\n",
    "Now based on the truth table above if we observe $a$ is False when $b$ is True we have essentially disproved the implied by assertion:"
   ]
  },
  {
   "cell_type": "code",
   "execution_count": 10,
   "id": "revolutionary-heart",
   "metadata": {},
   "outputs": [
    {
     "name": "stdout",
     "output_type": "stream",
     "text": [
      "if b then a\n",
      "x : 0.0 , 2^x>=x^2, b:  True , x>=4, a:  False\n",
      "x : 2.0 , 2^x>=x^2, b:  True , x>=4, a:  False\n",
      "\n",
      "Compared with the truth table above\n",
      "a implied by b:  False\n"
     ]
    }
   ],
   "source": [
    "print('if b then a')\n",
    "\n",
    "X   = [0.00,2.00] #Subset of R used as an example\n",
    "\n",
    "a_implied_by_b =[]\n",
    "\n",
    "for x in X:\n",
    "    condition_a = x >= 4\n",
    "    condition_b = 2**x >= x**2\n",
    "    print('x :', x,', 2^x>=x^2, b: ', condition_b, ', x>=4, a: ',condition_a,)\n",
    "    \n",
    "    a_implied_by_b.append(condition_a or (not condition_b))\n",
    "\n",
    "print('\\nCompared with the truth table above')\n",
    "print('a implied by b: ',all(a_implied_by_b))"
   ]
  },
  {
   "cell_type": "markdown",
   "id": "czech-citizen",
   "metadata": {},
   "source": [
    "<a id='logicproofiff'> </a>"
   ]
  },
  {
   "cell_type": "markdown",
   "id": "traditional-intro",
   "metadata": {},
   "source": [
    "---\n",
    "\n",
    "<u>**If and only if**</u>\n",
    "\n",
    "In mathematical proofs, the term 'if and only if' means 'if $a$ then $b$' as well as 'if $b$ then $a$' and this is denoted using the symbol: $\\iff$ but it is also sometimes abbreviated as: $\\text{iff}$\n",
    "\n",
    "$$a \\iff b$$\n",
    "or\n",
    "$$a \\;\\text{iff}\\; b$$\n",
    "\n",
    "The concept of $\\text{iff}$ is also logically equivalent to $(a \\Rightarrow b) \\wedge (b \\Rightarrow a)$\n",
    "\n",
    "(See: [And](#logicbooleanand) and [Implies](#logicproofimplies))\n",
    "\n",
    "Here $a$ and $b$ are any mathematical concepts (or _logical predicates_).\n",
    "\n"
   ]
  },
  {
   "cell_type": "code",
   "execution_count": 11,
   "id": "attached-porcelain",
   "metadata": {},
   "outputs": [
    {
     "name": "stdout",
     "output_type": "stream",
     "text": [
      "a iff b truth table\n",
      "\n",
      "a:  True b:  True , a iff b : True\n",
      "a:  True b:  False , a iff b : False\n",
      "a:  False b:  True , a iff b : False\n",
      "a:  False b:  False , a iff b : True\n"
     ]
    }
   ],
   "source": [
    "boo = [True, False]\n",
    "print('a iff b truth table\\n')\n",
    "for a in boo:\n",
    "    for b in boo:\n",
    "        print('a: ', a, 'b: ',b,', a iff b :', (b or (not a)) and (a or (not b)))"
   ]
  },
  {
   "cell_type": "markdown",
   "id": "diverse-equality",
   "metadata": {},
   "source": [
    "To prove a theorem of this form, you must prove that $a$ and $b$ are equivalent. Not only is $b$ true whenever $a$ is true, but $a$ is true whenever $b$ is true. Example: The integer $n$ is odd if and only if $n^2$ is odd. $$\\forall n \\in \\mathbb{Z},\\; n \\;\\text{is odd} \\iff n^2 \\;\\text{is odd}$$\n",
    "\n",
    "i.e: ($a$ = $n$ is odd) iff ($b$ = $n^2$ is odd)\n",
    "\n",
    "(See: [For all](#logicquantifiersforall))\n",
    "\n",
    "**For more information on the integer set and the belongs to notation see the Collections notebook**"
   ]
  },
  {
   "cell_type": "code",
   "execution_count": 12,
   "id": "brief-nerve",
   "metadata": {
    "scrolled": false
   },
   "outputs": [
    {
     "name": "stdout",
     "output_type": "stream",
     "text": [
      "if a then b\n",
      "n:  505 , odd(n), a: True \n",
      "n2:  255025 , odd(n2), b: True \n",
      "\n",
      "n:  -449 , odd(n), a: True \n",
      "n2:  201601 , odd(n2), b: True \n",
      "\n",
      "n:  117 , odd(n), a: True \n",
      "n2:  13689 , odd(n2), b: True \n",
      "\n",
      "n:  -33 , odd(n), a: True \n",
      "n2:  1089 , odd(n2), b: True \n",
      "\n",
      "n:  -690 , odd(n), a: False \n",
      "n2:  476100 , odd(n2), b: False \n",
      "\n",
      "if b then a\n",
      "n2:  14884 , odd(n2), a: False \n",
      "n:  122 , odd(n), b:  False \n",
      "\n",
      "n2:  67081 , odd(n2), a: True \n",
      "n:  259 , odd(n), b:  True \n",
      "\n",
      "n2:  82944 , odd(n2), a: False \n",
      "n:  288 , odd(n), b:  False \n",
      "\n",
      "n2:  35721 , odd(n2), a: True \n",
      "n:  189 , odd(n), b:  True \n",
      "\n",
      "n2:  123904 , odd(n2), a: False \n",
      "n:  352 , odd(n), b:  False \n",
      "\n",
      "\n",
      "Compared with the truth table above\n",
      "a iff b:  True\n"
     ]
    }
   ],
   "source": [
    "def is_odd(x):\n",
    "    \"\"\"returns whether x is Odd\"\"\"\n",
    "    return not (x%2 == 0)\n",
    "\n",
    "a_iff_b = []\n",
    "\n",
    "print('if a then b')\n",
    "N = [random.randint(-1000,1000) for i in range(5)] #Subset of Z used as an example\n",
    "\n",
    "for n in N:\n",
    "    condition_a = is_odd(n)\n",
    "    condition_b = is_odd(n**2)\n",
    "    print('n: ', n, ', odd(n), a:',condition_a,\n",
    "          '\\nn2: ',n**2,', odd(n2), b:', condition_b,'\\n')\n",
    "    \n",
    "    a_iff_b.append((condition_b or (not condition_a)) and (condition_a or (not condition_b)))\n",
    "\n",
    "\n",
    "print('if b then a')\n",
    "N_new = [random.randint(-1000,1000)**2 for i in range(5)] #Subset of Z used as an example\n",
    "\n",
    "for n_squared in N_new:\n",
    "    n = int(math.sqrt(n_squared))\n",
    "    condition_b = is_odd(n_squared)\n",
    "    condition_a = all([is_odd(n), is_odd(-n)])\n",
    "    \n",
    "    print('n2: ',n_squared,', odd(n2), a:', condition_b,\n",
    "          '\\nn: ', n, ', odd(n), b: ', condition_a, '\\n')\n",
    "    \n",
    "    a_iff_b.append((condition_b or (not condition_a)) and (condition_a or (not condition_b)))\n",
    "    \n",
    "print('\\nCompared with the truth table above')\n",
    "print('a iff b: ',all(a_iff_b))"
   ]
  },
  {
   "cell_type": "markdown",
   "id": "backed-penetration",
   "metadata": {},
   "source": [
    "<a id='logicprooftherefore'> </a>"
   ]
  },
  {
   "cell_type": "markdown",
   "id": "racial-chapel",
   "metadata": {},
   "source": [
    "---\n",
    "\n",
    "<u>**Therefore**</u>\n",
    "\n",
    "The term _therefore_ is denoted by: $\\;\\therefore$ \n",
    "$$r^2 + \\lambda^2 c^2 = 0$$\n",
    "$$\\therefore r = \\pm\\lambda ci$$"
   ]
  },
  {
   "cell_type": "markdown",
   "id": "successful-interim",
   "metadata": {},
   "source": [
    "<a id='logicproofbecause'> </a>"
   ]
  },
  {
   "cell_type": "markdown",
   "id": "attended-leisure",
   "metadata": {},
   "source": [
    "---\n",
    "\n",
    "<u>**Because**</u>\n",
    "\n",
    "The term _because_ is denoted by: $\\; \\because$\n",
    "\n",
    "$$\\because x+1=10\\\\\n",
    "\\therefore x=9$$"
   ]
  },
  {
   "cell_type": "markdown",
   "id": "elect-layer",
   "metadata": {},
   "source": [
    "<a id='logicproofcontradiction'> </a>"
   ]
  },
  {
   "cell_type": "markdown",
   "id": "adequate-document",
   "metadata": {},
   "source": [
    "---\n",
    "\n",
    "<u>**Contradiction**</u>\n",
    "\n",
    "Contradiction in a proof is denoted by: $\\Rightarrow\\!\\Leftarrow$\n",
    "\n",
    "Used to show that the supposition was False"
   ]
  },
  {
   "cell_type": "markdown",
   "id": "korean-handling",
   "metadata": {},
   "source": [
    "<a id='logicproofendofproof'> </a>"
   ]
  },
  {
   "cell_type": "markdown",
   "id": "dietary-teach",
   "metadata": {},
   "source": [
    "---\n",
    "\n",
    "<u>**End of Proof**</u>\n",
    "\n",
    "The end of a proof is show using the following notations or text: \n",
    "\n",
    "Just a square box: $$\\Box$$ \n",
    "a filled square box: $$\\blacksquare$$\n",
    "or the text: $$\\text{QED}$$"
   ]
  },
  {
   "cell_type": "markdown",
   "id": "positive-dating",
   "metadata": {},
   "source": [
    "<a id='logicquantifiers'></a>\n",
    "<a id='logicquantifiersforall'></a>"
   ]
  },
  {
   "cell_type": "markdown",
   "id": "monetary-aging",
   "metadata": {},
   "source": [
    "---\n",
    "\n",
    "<u>**Quantifiers**</u>\n",
    "\n",
    "<u>**For all**</u>\n",
    "\n",
    "Also called a universal quantifier. The 'for all' symbol is used simply to denote that a concept or relation (or _logical predicates_) is applied to every member of the domain. Denoted by $\\forall$\n",
    "\n",
    "For example: squares of all real numbers are positive or zero can be expressed through:\n",
    "\n",
    "$$ \\forall x \\in \\mathbb{R}, x^2 \\ge 0 $$\n",
    "Which can be read as, for all x belonging to the set of real numbers (essentially any real number), the square of x is always greater or equal to zero. \n",
    "\n",
    "**For more information on the real set and the belongs to notation see the Collections notebook**"
   ]
  },
  {
   "cell_type": "code",
   "execution_count": 13,
   "id": "democratic-settlement",
   "metadata": {
    "scrolled": true
   },
   "outputs": [
    {
     "name": "stdout",
     "output_type": "stream",
     "text": [
      "True\n",
      "True\n",
      "True\n",
      "True\n",
      "True\n"
     ]
    }
   ],
   "source": [
    "trials = 5\n",
    "\n",
    "for i in range(trials):\n",
    "    x = random.uniform(-100000, 100000)**2 \n",
    "    print(x >= 0)"
   ]
  },
  {
   "cell_type": "markdown",
   "id": "matched-cooking",
   "metadata": {},
   "source": [
    "The for all $\\forall$ notations can be extended to denote complex statements. For example the commutative property of addition can be denoted using: $$\\forall x \\in \\mathbb{R}, \\forall y \\in \\mathbb{R}, x + y = y + x$$"
   ]
  },
  {
   "cell_type": "markdown",
   "id": "ceramic-planet",
   "metadata": {},
   "source": [
    "<a id='logicquantifiersthereexists'></a>"
   ]
  },
  {
   "cell_type": "markdown",
   "id": "elder-assignment",
   "metadata": {},
   "source": [
    "---\n",
    "\n",
    "<u>**There exists**</u>\n",
    "\n",
    "Also called an existential quantifier. This symbol can be interpreted as 'there exists', 'there is at least one', or 'for some' and applied to a mathematical concept (or _logical predicates_); it is denoted by: $\\exists$\n",
    "\n",
    "For example: there exists at least one real number $x$ whose square equals 2 $$\\exists x \\in \\mathbb{R}, x^2 = 2$$\n",
    "\n",
    "This can be read as there exists at least one $x$ belonging to the real set of numbers such that $x^2 = 2$. With this symbol, an assertion is being made about an object's existence which fulfills a criteria, which is true in this case since both $x = +\\sqrt{2}$ and $x = -\\sqrt{2}$ satisfy this condition. \n",
    "\n",
    "Sometimes for readability, some authors will use the abbreviation for **such that** (_s.t._) : $$\\exists x \\in \\mathbb{R} \\;\\text{s.t.}\\; x^2 = 2$$\n",
    "\n",
    "**For more information on the real set and the belongs to notation see the Collections notebook**"
   ]
  },
  {
   "cell_type": "code",
   "execution_count": 14,
   "id": "compatible-locator",
   "metadata": {},
   "outputs": [
    {
     "data": {
      "text/plain": [
       "(True, True)"
      ]
     },
     "execution_count": 14,
     "metadata": {},
     "output_type": "execute_result"
    }
   ],
   "source": [
    "x_square = 2\n",
    "x_1 = math.sqrt(2)\n",
    "x_2 = -math.sqrt(2)\n",
    "\n",
    "type(x_1) == float, type(x_2) == float \n",
    "\n",
    "#There may be more x's but we've shown enough to prove this statement to be true"
   ]
  },
  {
   "cell_type": "markdown",
   "id": "devoted-incentive",
   "metadata": {},
   "source": [
    "<a id='logicquantifiersthereexistsuniquely'></a>"
   ]
  },
  {
   "cell_type": "markdown",
   "id": "proved-bahamas",
   "metadata": {},
   "source": [
    "---\n",
    "\n",
    "<u>**There exists uniquely**</u>\n",
    "\n",
    "When the existential quantifier symbol is followed by an exclamation point, it means there exists a **unique** object that fulfills a given criteria: $\\exists!$\n",
    "\n",
    "For example: there exists a unique real number $x$ whose square equals 0 $$\\exists! x \\in \\mathbb{R}, x^2 = 0$$\n",
    "\n",
    "which is true in this case since only $x = 0$ satisfies this condition. \n",
    "\n",
    "**For more information on the real set and the belongs to notation see the Collections notebook**"
   ]
  },
  {
   "cell_type": "code",
   "execution_count": 15,
   "id": "sacred-residence",
   "metadata": {},
   "outputs": [
    {
     "name": "stdout",
     "output_type": "stream",
     "text": [
      "x:  -0.5 , x2 == 0 False\n",
      "x:  -0.4 , x2 == 0 False\n",
      "x:  -0.3 , x2 == 0 False\n",
      "x:  -0.2 , x2 == 0 False\n",
      "x:  -0.1 , x2 == 0 False\n",
      "x:  0.0 , x2 == 0 True\n",
      "x:  0.1 , x2 == 0 False\n",
      "x:  0.2 , x2 == 0 False\n",
      "x:  0.3 , x2 == 0 False\n",
      "x:  0.4 , x2 == 0 False\n"
     ]
    }
   ],
   "source": [
    "#range(-5,5) is shown as an example, in reality you would have to look at each element\n",
    "#in the infinite real set to prove uniqueness\n",
    "for x in range(-5,5):\n",
    "    print('x: ',(x/10),', x2 == 0', (x/10)**2 == 0)"
   ]
  },
  {
   "cell_type": "markdown",
   "id": "structured-owner",
   "metadata": {},
   "source": [
    "<a id='logicquantifierscombining'></a>"
   ]
  },
  {
   "cell_type": "markdown",
   "id": "empty-aircraft",
   "metadata": {},
   "source": [
    "---\n",
    "\n",
    "<u>**Combining quantifiers**</u>\n",
    "\n",
    "The for all $\\forall$ and exists $\\exists$ notations can be combined to denote complex statements.\n",
    "\n",
    "For example: For all x in the real number set, there exists at least one real number $y$ such that $x+y = 0$ $$\\forall x \\in \\mathbb{R}, \\exists y \\in \\mathbb{R}, x+y=0$$\n",
    "\n",
    "This statement means that if we were to pick **any** real number $x$, we can find at least one number $y$ so that we get $x+y=0$. We know this to be a True statement since we can always find a number $y = -x$  \n",
    "\n",
    "**For more information on the real set and the belongs to notation see the Collections notebook**"
   ]
  },
  {
   "cell_type": "code",
   "execution_count": 16,
   "id": "bibliographic-settle",
   "metadata": {},
   "outputs": [
    {
     "data": {
      "text/plain": [
       "True"
      ]
     },
     "execution_count": 16,
     "metadata": {},
     "output_type": "execute_result"
    }
   ],
   "source": [
    "R_sample = [random.random() for i in range(10)] #checking for a small subset of the real number \n",
    "#set as an example. In reality we would have to loop over the entire infinite Real number set \n",
    "#to check for all x\n",
    "\n",
    "condition = []\n",
    "\n",
    "for x in R_sample:\n",
    "    y = -x  #this y will always have the property 'x + y = 0'; for any x in R\n",
    "    condition.append(x+ y == 0)\n",
    "\n",
    "all(condition) #Check if our condition was tested as True for ALL x in R"
   ]
  },
  {
   "cell_type": "markdown",
   "id": "mental-alexander",
   "metadata": {},
   "source": [
    "**Note:** The statement order is very important since it evolves logically and combines to form a logical assertion. The above example was well ordered but consider the following example: $$\\exists y \\in \\mathbb{R}, \\forall x \\in \\mathbb{R}, x+y=0$$\n",
    "\n",
    "In this case we make an assertion that there exists a real number $y$ which will have the property $x+y =0$ for any real number $x$. Such a real number $y$ does not exist and so this assertion is **False**. "
   ]
  },
  {
   "cell_type": "code",
   "execution_count": 17,
   "id": "rocky-aerospace",
   "metadata": {},
   "outputs": [
    {
     "data": {
      "text/plain": [
       "False"
      ]
     },
     "execution_count": 17,
     "metadata": {},
     "output_type": "execute_result"
    }
   ],
   "source": [
    "R_sample = [random.random() for i in range(10)] #checking for a small subset of the real number \n",
    "#set as an example. In reality we would have to loop over the entire infinite Real number set \n",
    "#to check for all y\n",
    "\n",
    "all_y_conditions = []\n",
    "\n",
    "for y in R_sample: #Searching for the 'magic' y\n",
    "    condition = all([ x + y == 0 for x in R_sample]) #The magic y has the property 'x + y = 0' for any x\n",
    "    all_y_conditions.append(condition)    \n",
    "\n",
    "any(all_y_conditions) #Check if we found at least one 'magic' y ?"
   ]
  }
 ],
 "metadata": {
  "kernelspec": {
   "display_name": "Python 3",
   "language": "python",
   "name": "python3"
  },
  "language_info": {
   "codemirror_mode": {
    "name": "ipython",
    "version": 3
   },
   "file_extension": ".py",
   "mimetype": "text/x-python",
   "name": "python",
   "nbconvert_exporter": "python",
   "pygments_lexer": "ipython3",
   "version": "3.8.6"
  }
 },
 "nbformat": 4,
 "nbformat_minor": 5
}
