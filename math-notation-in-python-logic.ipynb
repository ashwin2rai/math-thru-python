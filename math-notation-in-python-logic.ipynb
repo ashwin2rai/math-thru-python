{
 "cells": [
  {
   "cell_type": "markdown",
   "id": "adjacent-while",
   "metadata": {},
   "source": [
    "# Contents\n",
    "\n",
    "1. [Logic](#logic)\n",
    "    - [Boolean operations](#logicboolean)\n",
    "        - [And](#logicbooleanand)\n",
    "        - [Or](#logicbooleanor)\n",
    "        - [Not](#logicbooleannot)\n",
    "        - [Exclusive Or](#logicbooleanexor)\n",
    "        - [Nand](#logicbooleannand)\n",
    "    - [Proof symbols](#logicproof)\n",
    "        - [Implies](#logicproofimplies)\n",
    "    - [Quantifiers](#logicquantifiers)\n",
    "        - [For all](#logicquantifiersforall)"
   ]
  },
  {
   "cell_type": "markdown",
   "id": "indie-graduate",
   "metadata": {},
   "source": [
    "## Importing Libraries"
   ]
  },
  {
   "cell_type": "code",
   "execution_count": 43,
   "id": "certified-friendship",
   "metadata": {},
   "outputs": [],
   "source": [
    "import random"
   ]
  },
  {
   "cell_type": "markdown",
   "id": "imperial-bermuda",
   "metadata": {},
   "source": [
    "<a id='logic'></a>\n",
    "<a id='logicboolean'></a>\n",
    "<a id='logicbooleanand'></a>"
   ]
  },
  {
   "cell_type": "markdown",
   "id": "equipped-found",
   "metadata": {},
   "source": [
    "---\n",
    "\n",
    "<u>**Boolean Operations**</u>\n",
    "\n",
    "<u>**And**</u>\n",
    "\n",
    "The Boolean And operation is denoted using $\\wedge$\n",
    "\n",
    "$$ p \\wedge q $$"
   ]
  },
  {
   "cell_type": "code",
   "execution_count": 44,
   "id": "jewish-princeton",
   "metadata": {},
   "outputs": [
    {
     "data": {
      "text/plain": [
       "False"
      ]
     },
     "execution_count": 44,
     "metadata": {},
     "output_type": "execute_result"
    }
   ],
   "source": [
    "p = bool()\n",
    "q = bool()\n",
    "\n",
    "p and q"
   ]
  },
  {
   "cell_type": "markdown",
   "id": "sixth-manchester",
   "metadata": {},
   "source": [
    "<a id='logicbooleanor'></a>"
   ]
  },
  {
   "cell_type": "markdown",
   "id": "incorrect-personality",
   "metadata": {},
   "source": [
    "---\n",
    "\n",
    "<u>**Or**</u>\n",
    "\n",
    "The Boolean Or operation is denoted using $\\vee$\n",
    "\n",
    "$$ p \\vee q $$"
   ]
  },
  {
   "cell_type": "code",
   "execution_count": 45,
   "id": "respected-opinion",
   "metadata": {},
   "outputs": [
    {
     "data": {
      "text/plain": [
       "False"
      ]
     },
     "execution_count": 45,
     "metadata": {},
     "output_type": "execute_result"
    }
   ],
   "source": [
    "p = bool()\n",
    "q = bool()\n",
    "\n",
    "p or q"
   ]
  },
  {
   "cell_type": "markdown",
   "id": "changed-treasurer",
   "metadata": {},
   "source": [
    "<a id='logicbooleannot'> </a>"
   ]
  },
  {
   "cell_type": "markdown",
   "id": "alien-blair",
   "metadata": {},
   "source": [
    "---\n",
    "\n",
    "<u>**Not**</u>\n",
    "\n",
    "The Boolean Not operation is denoted using $\\sim$ or $\\neg$ and sometimes just the text 'not' is used:\n",
    "\n",
    "$$ \\sim p $$\n",
    "or\n",
    "$$ \\neg p $$\n",
    "or\n",
    "$$\\text{not} \\; p$$"
   ]
  },
  {
   "cell_type": "code",
   "execution_count": 46,
   "id": "robust-ethiopia",
   "metadata": {},
   "outputs": [
    {
     "data": {
      "text/plain": [
       "True"
      ]
     },
     "execution_count": 46,
     "metadata": {},
     "output_type": "execute_result"
    }
   ],
   "source": [
    "p = bool()\n",
    "\n",
    "not p"
   ]
  },
  {
   "cell_type": "markdown",
   "id": "infinite-junior",
   "metadata": {},
   "source": [
    "<a id='logicbooleanexor'> </a>"
   ]
  },
  {
   "cell_type": "markdown",
   "id": "banned-voluntary",
   "metadata": {},
   "source": [
    "---\n",
    "\n",
    "<u>**Exclusive Or**</u>\n",
    "\n",
    "The Exclusive Or operation is denoted using $\\veebar$ or $\\oplus$ or just $\\rm{\\small{XOR}}$\n",
    "\n",
    "$$ p \\veebar q $$\n",
    "or\n",
    "$$ p \\oplus q $$\n",
    "or\n",
    "$$ p \\;\\rm{\\small{XOR}}\\; q$$"
   ]
  },
  {
   "cell_type": "code",
   "execution_count": 47,
   "id": "signed-failing",
   "metadata": {},
   "outputs": [
    {
     "data": {
      "text/plain": [
       "(False, False)"
      ]
     },
     "execution_count": 47,
     "metadata": {},
     "output_type": "execute_result"
    }
   ],
   "source": [
    "p = bool()\n",
    "q = bool()\n",
    "\n",
    "#Shorter code since bool Xor equivalent to bitwise Xor\n",
    "XOR_short = p ^ q\n",
    "\n",
    "#Longer code by definition\n",
    "XOR_long = (not q and p) or (not p and q) \n",
    "\n",
    "XOR_short, XOR_long"
   ]
  },
  {
   "cell_type": "markdown",
   "id": "documented-mailman",
   "metadata": {},
   "source": [
    "<a id='logicbooleannand'> </a>"
   ]
  },
  {
   "cell_type": "markdown",
   "id": "owned-helicopter",
   "metadata": {},
   "source": [
    "---\n",
    "\n",
    "<u>**Nand**</u>\n",
    "\n",
    "The Nand operation is denoted using $\\barwedge$\n",
    "\n",
    "$$ p \\barwedge q $$\n",
    "\n",
    "The Nand operator can be expanded to: $p \\barwedge q = \\neg ( p \\vee q )$"
   ]
  },
  {
   "cell_type": "code",
   "execution_count": 48,
   "id": "representative-virgin",
   "metadata": {},
   "outputs": [
    {
     "data": {
      "text/plain": [
       "True"
      ]
     },
     "execution_count": 48,
     "metadata": {},
     "output_type": "execute_result"
    }
   ],
   "source": [
    "p = bool()\n",
    "q = bool()\n",
    "\n",
    "not (p and q)"
   ]
  },
  {
   "cell_type": "markdown",
   "id": "strong-shoot",
   "metadata": {},
   "source": [
    "<a id='logicproof'> </a>\n",
    "<a id='logicproofimplies'> </a>"
   ]
  },
  {
   "cell_type": "markdown",
   "id": "coral-possibility",
   "metadata": {},
   "source": [
    "---\n",
    "\n",
    "<u>**Proof Symbols**</u>\n",
    "\n",
    "<u>**Implies**</u>"
   ]
  },
  {
   "cell_type": "code",
   "execution_count": null,
   "id": "chemical-accounting",
   "metadata": {},
   "outputs": [],
   "source": []
  },
  {
   "cell_type": "markdown",
   "id": "understood-coach",
   "metadata": {},
   "source": [
    "<a id='logicquantifiers'></a>\n",
    "<a id='logicquantifiersforall'></a>"
   ]
  },
  {
   "cell_type": "markdown",
   "id": "clear-poison",
   "metadata": {},
   "source": [
    "---\n",
    "\n",
    "<u>**For all**</u>\n",
    "\n",
    "Also called a universal quantifier. The 'for all' symbol is used simply to denote that a concept or relation is applied to every member of the domain. Denoted by $\\forall$\n",
    "\n",
    "Squares of all real numbers are positive or zero can be expressed through:\n",
    "\n",
    "$$ \\forall x \\in \\mathbb{R}, x^2 \\ge 0 $$\n",
    "Which can be read as, for all x belonging to the set of real numbers, the square of x is always greater or equal to zero. "
   ]
  },
  {
   "cell_type": "code",
   "execution_count": 49,
   "id": "spare-harvest",
   "metadata": {},
   "outputs": [
    {
     "name": "stdout",
     "output_type": "stream",
     "text": [
      "True\n",
      "True\n",
      "True\n",
      "True\n",
      "True\n"
     ]
    }
   ],
   "source": [
    "trials = 5\n",
    "\n",
    "for i in range(trials):\n",
    "    x = random.uniform(-100000, 100000)**2 \n",
    "    print(x >= 0)"
   ]
  }
 ],
 "metadata": {
  "kernelspec": {
   "display_name": "Python 3",
   "language": "python",
   "name": "python3"
  },
  "language_info": {
   "codemirror_mode": {
    "name": "ipython",
    "version": 3
   },
   "file_extension": ".py",
   "mimetype": "text/x-python",
   "name": "python",
   "nbconvert_exporter": "python",
   "pygments_lexer": "ipython3",
   "version": "3.8.6"
  }
 },
 "nbformat": 4,
 "nbformat_minor": 5
}
