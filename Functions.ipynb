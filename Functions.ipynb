{
 "cells": [
  {
   "cell_type": "markdown",
   "metadata": {},
   "source": [
    "## Notes\n",
    "\n",
    "1. The notebooks are largely self-contained, i.e, if you see a symbol there will be an explanation about it at some point in the notebook.\n",
    "    - Most often there will be links to the cell where the symbols are explained\n",
    "    - If the symbols are not explained in this notebook, a reference to the appropriate notebook will be provided\n",
    "    \n",
    "    \n",
    "2. **Github does a poor job of rendering this notebook**. The online render of this notebook is missing links, symbols, and notations are badly formatted. It is advised that you clone a local copy (or download the notebook) and open it locally.\n",
    "\n",
    "\n",
    "3. **See the Collections notebook before this notebook to gain familiarity with set notations**"
   ]
  },
  {
   "cell_type": "markdown",
   "metadata": {},
   "source": [
    "# Contents\n",
    "\n",
    "1. [Functions](#functions)\n",
    "    - [Fundamentals](#functionsfund)\n",
    "        - [Set map](#functionsfundset)\n",
    "        - [Image of a function](#functionsfundimage)\n",
    "        - [Value notation](#functionsfundvalue)\n",
    "        - [Map notation](#functionsfundmap)\n",
    "        - [Operator/Transform](#functionsfundoperator)\n",
    "        - [Piece-wise notation](#functionsfundpiecewise)"
   ]
  },
  {
   "cell_type": "markdown",
   "metadata": {},
   "source": [
    "## Importing Libraries"
   ]
  },
  {
   "cell_type": "code",
   "execution_count": 1,
   "metadata": {},
   "outputs": [],
   "source": [
    "import math\n",
    "import random"
   ]
  },
  {
   "cell_type": "markdown",
   "metadata": {},
   "source": [
    "<a id='functions'></a>\n",
    "<a id='functionsfund'></a>\n",
    "<a id='functionsfundset'></a>"
   ]
  },
  {
   "cell_type": "markdown",
   "metadata": {},
   "source": [
    "---\n",
    "\n",
    "<u>**Fundamentals**</u>\n",
    "\n",
    "<u>**Set map**</u>\n",
    "\n",
    "If $A$ and $B$ are any sets, a function $f$ that maps values from set $A$ to values in set $B$ is denoted as: \n",
    "\n",
    "$$ f: A \\rightarrow B$$\n",
    "\n",
    "This denotes that the function $f$ takes as input, values from set $A$ and returns values that belong to set $B$.\n",
    "\n",
    "In sciences and engineering, most functions take real numbers as input and put put real numbers. This can be denoted as: $ f: \\mathbb{R} \\rightarrow \\mathbb{R}$\n",
    "\n",
    "\n",
    "**Note:** Not all values of $B$ needs to be realized. For example, cosine function takes any real number as input and outputs only real numbers BUT the real numbers remain in the bound $[-1, 1]$. Related concept: see [Image of a function](#functionsfundimage)"
   ]
  },
  {
   "cell_type": "code",
   "execution_count": 2,
   "metadata": {},
   "outputs": [
    {
     "name": "stdout",
     "output_type": "stream",
     "text": [
      "True\n",
      "True\n",
      "True\n"
     ]
    }
   ],
   "source": [
    "def inverse(a):\n",
    "    return 1/a\n",
    "\n",
    "# inverse: A -> B\n",
    "\n",
    "A = set([2, 4, 8])\n",
    "B = set([1, 0.75, 0.5, 0.25, 0.125])\n",
    "\n",
    "for A_i in A:\n",
    "    print( inverse(A_i) in B )"
   ]
  },
  {
   "cell_type": "markdown",
   "metadata": {},
   "source": [
    "<a id='functionsfundimage'></a>"
   ]
  },
  {
   "cell_type": "markdown",
   "metadata": {},
   "source": [
    "---\n",
    "\n",
    "<u>**Image of a function**</u>\n",
    "\n",
    "For a function $f : A \\rightarrow B$, the image of the function $f$ is denoted as: $\\text{Im}(f)$  \n",
    "\n",
    "Essentially, the image of the function is the subset of $B$, where each value is the output of the application of $f$ to elements in $A$. Formally: \n",
    "\n",
    "$$\\text{Im}(f) = \\{ y \\in Y | \\; \\exists x \\in X, f(x) = y \\}$$\n",
    "\n",
    "**For more info on the there-exists notations, please see the Logic notebook**"
   ]
  },
  {
   "cell_type": "code",
   "execution_count": 3,
   "metadata": {},
   "outputs": [
    {
     "name": "stdout",
     "output_type": "stream",
     "text": [
      "A:  {8, 2, 4}\n",
      "B:  {0.75, 1, 0.125, 0.5, 0.25}\n",
      "Im(A):  {0.125, 0.5, 0.25}\n",
      "Im(A) is subset of B:  True\n"
     ]
    }
   ],
   "source": [
    "def inverse(a):\n",
    "    return 1/a\n",
    "\n",
    "# inverse: A -> B\n",
    "\n",
    "A = set([2, 4, 8])\n",
    "B = set([1, 0.75, 0.5, 0.25, 0.125])\n",
    "\n",
    "image_of_inverse_A = []\n",
    "\n",
    "for A_i in A:\n",
    "    image_of_inverse_A.append(inverse(A_i))\n",
    "    \n",
    "print('A: ',A)\n",
    "print('B: ',B)\n",
    "print('Im(A): ',set(image_of_inverse_A))\n",
    "print('Im(A) is subset of B: ', set(image_of_inverse_A).issubset(B))"
   ]
  },
  {
   "cell_type": "markdown",
   "metadata": {},
   "source": [
    "<a id='functionsfundvalue'></a>"
   ]
  },
  {
   "cell_type": "markdown",
   "metadata": {},
   "source": [
    "---\n",
    "\n",
    "<u>**Generic value notation**</u>\n",
    "\n",
    "The value $y$ returned by a function $f$ when the value $x$ is passed to it is generically denoted as: \n",
    "\n",
    "$$y = f(x)$$ \n",
    "\n",
    "Here $x$ is called the argument to function $f$ which returns $y$. Functions that accept multiple arguments can be generally denoted as:\n",
    "\n",
    "$$y = f(x_1,x_2, ... ,x_n)$$"
   ]
  },
  {
   "cell_type": "code",
   "execution_count": 4,
   "metadata": {},
   "outputs": [
    {
     "data": {
      "text/plain": [
       "(0.1239376916234978, 0.12425719696910109)"
      ]
     },
     "execution_count": 4,
     "metadata": {},
     "output_type": "execute_result"
    }
   ],
   "source": [
    "func = math.sin\n",
    "\n",
    "# y = f(x)\n",
    "x = random.random()\n",
    "y = func(x)\n",
    "\n",
    "y, x"
   ]
  },
  {
   "cell_type": "code",
   "execution_count": 5,
   "metadata": {},
   "outputs": [
    {
     "data": {
      "text/plain": [
       "(0.9412836826227902, 0.9597957887312928, 0.14168883709193802)"
      ]
     },
     "execution_count": 5,
     "metadata": {},
     "output_type": "execute_result"
    }
   ],
   "source": [
    "def func(x_1, x_2):\n",
    "    return  x_1**2 + x_2**2\n",
    "\n",
    "# y = f(x1,x2)\n",
    "\n",
    "x_1 = random.random()\n",
    "x_2 = random.random()\n",
    "y = func(x_1, x_2)\n",
    "\n",
    "y, x_1, x_2"
   ]
  },
  {
   "cell_type": "markdown",
   "metadata": {},
   "source": [
    "**Note 1:**\n",
    "\n",
    "Sometimes an alternative notation is used to denote function evaluation especially if the function itself is specified using a formula. The general form is  \n",
    "\n",
    "$$\\text{Expression involving variable }x \\; \\Bigr|_{x = a}$$\n",
    "\n",
    "This means to evaluate the expression by substituting the value $a$ for the variable $x$. This is used in Leibniz notations especially in evaluating Taylor's expansions: $ \\frac{df}{dx} \\; \\Bigr|_{x = a}$"
   ]
  },
  {
   "cell_type": "markdown",
   "metadata": {},
   "source": [
    "**Note 2:**\n",
    "\n",
    "Sometimes, the function needs to be referred to in a non-letter context or using a dummy variable (or a blank space) is not preferrable. In such cases we can use a dot showing that an argument is expected, such as: $f(\\cdot )$\n",
    "\n",
    "An example of this is discussing the absolute value of a number $|\\cdot|$\n",
    "\n",
    "This notation can be very useful to show functions with multiple arguments where one or more arguments can vary while others are constant. For example: $$f (\\cdot, b)$$\n",
    "\n",
    "represents a function $f$ where the first argument can vary over it's domain, but the second argument is held constant at value $b$"
   ]
  },
  {
   "cell_type": "markdown",
   "metadata": {},
   "source": [
    "<a id='functionsfundmap'></a>"
   ]
  },
  {
   "cell_type": "markdown",
   "metadata": {},
   "source": [
    "---\n",
    "\n",
    "<u>**Map notation**</u>\n",
    "\n",
    "The notation $y = f(x)$ can also be abbrevieted generically through: \n",
    "\n",
    "$$x \\mapsto y$$\n",
    "\n",
    "This is read as 'x maps to y' and it is to be noted that $f$ is missing in the expression. In general this is used to communicate that there is a need to map $x$ to $y$. Either that specific function that does the mapping is as of yet unknown, or is unambiguously known. This is upto the author to clarify.  \n",
    "\n",
    "Alternatively, $y = f(x)$ can be unambiguously abbreviated using: \n",
    "\n",
    "$$x \\stackrel{f}{\\mapsto}  y$$"
   ]
  },
  {
   "cell_type": "code",
   "execution_count": 6,
   "metadata": {},
   "outputs": [
    {
     "data": {
      "text/plain": [
       "(0.5549132035729349, 0.9825376984235608)"
      ]
     },
     "execution_count": 6,
     "metadata": {},
     "output_type": "execute_result"
    }
   ],
   "source": [
    "func = math.cos\n",
    "\n",
    "# x maps to y\n",
    "x = random.random()\n",
    "y = func(x)\n",
    "\n",
    "y, x"
   ]
  },
  {
   "cell_type": "markdown",
   "metadata": {},
   "source": [
    "<a id='functionsfundoperator'></a>"
   ]
  },
  {
   "cell_type": "markdown",
   "metadata": {},
   "source": [
    "---\n",
    "\n",
    "<u>**Operator/Transform**</u>\n",
    "\n",
    "A function whose inputs and outputs are themselves functions is often called an *operator* or *transform*. Generally, we would like to distinguish an operator from function of numbers by capitalizing the operator name and omitting the paranthesis.\n",
    "\n",
    "For example, the evaluation of operator $L$ (notice the capitalization) on function $f$ can be denoted as: $$ L f$$\n",
    "\n",
    "A specific example of this is the Laplace transform $\\mathcal{L}$ of an often temporal function $f(t)$ whichs maps to a function in the complex space $F(s)$: $ \\mathcal{L} f = F$ "
   ]
  },
  {
   "cell_type": "markdown",
   "metadata": {},
   "source": [
    "<a id='functionsfundpiecewise'></a>"
   ]
  },
  {
   "cell_type": "markdown",
   "metadata": {},
   "source": [
    "---\n",
    "\n",
    "<u>**Piecewise notation**</u>\n",
    "\n",
    "Sometimes it is not possible to define a function as a single algebraic formula. This is very true when the function is defined over various unconnected domains, or if it is defined differently over different domains. In such cases, the function can be defined piece-wise where the function is defined explicitely over each respective domain. \n",
    "\n",
    "$$  f(x) =\n",
    "\\begin{cases}\n",
    "e ^ {-x},  & \\text{if $x > 0$} \\\\\n",
    "1,  & \\text{if $x = 0$} \\\\\n",
    "0, & \\text{otherwise}\n",
    "\\end{cases}$$\n",
    "\n",
    "There aren't many standards on how piece-wise functions need to be defined. Some authors will use text such as 'otherwise', other authors will explicitely define all domains using notations. Some authors do not define the function over some domains with the understanding that the function is undefined over those domains. Context may be important in such cases."
   ]
  },
  {
   "cell_type": "code",
   "execution_count": 7,
   "metadata": {},
   "outputs": [
    {
     "data": {
      "text/plain": [
       "(0, -3.793534467996477)"
      ]
     },
     "execution_count": 7,
     "metadata": {},
     "output_type": "execute_result"
    }
   ],
   "source": [
    "def piece_func(x):\n",
    "    if x > 0:\n",
    "        return math.exp(-x)\n",
    "    elif x == 0.0:\n",
    "        return 1\n",
    "    else:\n",
    "        return 0\n",
    "    \n",
    "\n",
    "x = random.random()*random.randint(-10,10)\n",
    "y = piece_func(x)\n",
    "\n",
    "y, x"
   ]
  },
  {
   "cell_type": "code",
   "execution_count": null,
   "metadata": {},
   "outputs": [],
   "source": []
  }
 ],
 "metadata": {
  "kernelspec": {
   "display_name": "Python 3",
   "language": "python",
   "name": "python3"
  },
  "language_info": {
   "codemirror_mode": {
    "name": "ipython",
    "version": 3
   },
   "file_extension": ".py",
   "mimetype": "text/x-python",
   "name": "python",
   "nbconvert_exporter": "python",
   "pygments_lexer": "ipython3",
   "version": "3.8.5"
  }
 },
 "nbformat": 4,
 "nbformat_minor": 5
}
