{
 "cells": [
  {
   "cell_type": "markdown",
   "metadata": {},
   "source": [
    "## Notes\n",
    "\n",
    "1. The notebooks are largely self-contained, i.e, if you see a symbol there will be an explanation about it at some point in the notebook.\n",
    "    - Most often there will be links to the cell where the symbols are explained\n",
    "    - If the symbols are not explained in this notebook, a reference to the appropriate notebook will be provided\n",
    "    \n",
    "    \n",
    "2. **Github does a poor job of rendering this notebook**. The online render of this notebook is missing links, symbols, and notations are badly formatted. It is advised that you clone a local copy (or download the notebook) and open it locally.\n",
    "\n",
    "\n",
    "3. **See the Collections notebook before this notebook to gain familiarity with set notations**"
   ]
  },
  {
   "cell_type": "markdown",
   "metadata": {},
   "source": [
    "# Contents\n",
    "\n",
    "1. [Functions](#functions)\n",
    "    - [Fundamentals](#functionsfund)\n",
    "        - [Set map](#functionsfundset)\n",
    "        - [Image of a function](#functionsfundimage)\n",
    "        - [Kernel of a function](#functionsfundkernel)\n",
    "        - [Value notation](#functionsfundvalue)\n",
    "        - [Dot notation](#functionsfunddot)\n",
    "        - [Map notation](#functionsfundmap)\n",
    "        - [Operator/Transform](#functionsfundoperator)\n",
    "        - [Piece-wise notation](#functionsfundpiecewise)\n",
    "        - [Composition of functions](#functionsfundcomposition)\n",
    "        - [Inversion of functions](#functionsfundinversion)\n",
    "        - [Functions exponentiations](#functionsfundsquared)\n",
    "    - [Classes of functions](#functionsclass)\n",
    "        - [Continuous functions](#functionsclasscont)\n",
    "        - [All polynomial functions](#functionsclasspoly)\n",
    "    - [Polynomial functions](#functionspoly)\n",
    "        - [Introduction](#functionspolyintro)\n",
    "        - [Degree of polynomial](#functionspolydeg)"
   ]
  },
  {
   "cell_type": "markdown",
   "metadata": {},
   "source": [
    "## Importing Libraries"
   ]
  },
  {
   "cell_type": "code",
   "execution_count": 1,
   "metadata": {},
   "outputs": [],
   "source": [
    "import math\n",
    "import random\n",
    "import typing"
   ]
  },
  {
   "cell_type": "markdown",
   "metadata": {},
   "source": [
    "<a id='functions'></a>\n",
    "<a id='functionsfund'></a>\n",
    "<a id='functionsfundset'></a>"
   ]
  },
  {
   "cell_type": "markdown",
   "metadata": {},
   "source": [
    "---\n",
    "\n",
    "<u>**Fundamentals**</u>\n",
    "\n",
    "<u>**Set map**</u>\n",
    "\n",
    "If $A$ and $B$ are any sets, a function $f$ that maps values from set $A$ to values in set $B$ is denoted as: \n",
    "\n",
    "$$ f: A \\rightarrow B$$\n",
    "\n",
    "This denotes that the function $f$ takes as input, values from set $A$ and returns values that belong to set $B$.\n",
    "\n",
    "In sciences and engineering, most functions take real numbers as input and output real numbers. This can be denoted as: $ f: \\mathbb{R} \\rightarrow \\mathbb{R}$\n",
    "\n",
    "\n",
    "**Note:** Not all values of $B$ needs to be realized. For example, cosine function takes any real number as input and outputs only real numbers BUT the real numbers remain in the bound $[-1, 1]$. Related concept: see [Image of a function](#functionsfundimage)"
   ]
  },
  {
   "cell_type": "code",
   "execution_count": 2,
   "metadata": {},
   "outputs": [
    {
     "name": "stdout",
     "output_type": "stream",
     "text": [
      "True\n",
      "True\n",
      "True\n"
     ]
    }
   ],
   "source": [
    "def inverse(a):\n",
    "    return 1/a\n",
    "\n",
    "# inverse: A -> B\n",
    "\n",
    "A = set([2, 4, 8])\n",
    "B = set([1, 0.75, 0.5, 0.25, 0.125])\n",
    "\n",
    "for A_i in A:\n",
    "    print( inverse(A_i) in B )"
   ]
  },
  {
   "cell_type": "markdown",
   "metadata": {},
   "source": [
    "<a id='functionsfundimage'></a>"
   ]
  },
  {
   "cell_type": "markdown",
   "metadata": {},
   "source": [
    "---\n",
    "\n",
    "<u>**Image of a function**</u>\n",
    "\n",
    "For a function $f : X \\rightarrow Y$, the image of the function $f$ is denoted as: $\\text{Im}(f)$  \n",
    "\n",
    "Essentially, the image of the function is the subset of $B$, where each value is the output of the application of $f$ to elements in $A$. Formally: \n",
    "\n",
    "$$\\text{Im}(f) = \\{ y \\in Y | \\; \\exists x \\in X, f(x) = y \\}$$\n",
    "\n",
    "**For more info on the there-exists notations, please see the Logic notebook**"
   ]
  },
  {
   "cell_type": "code",
   "execution_count": 3,
   "metadata": {},
   "outputs": [
    {
     "name": "stdout",
     "output_type": "stream",
     "text": [
      "A:  {8, 2, 4}\n",
      "B:  {0.75, 1, 0.125, 0.5, 0.25}\n",
      "Im(A):  {0.125, 0.5, 0.25}\n",
      "Im(A) is subset of B:  True\n"
     ]
    }
   ],
   "source": [
    "def inverse(a):\n",
    "    return 1/a\n",
    "\n",
    "# inverse: A -> B\n",
    "\n",
    "A = set([2, 4, 8])\n",
    "B = set([1, 0.75, 0.5, 0.25, 0.125])\n",
    "\n",
    "image_of_inverse_A = []\n",
    "\n",
    "for A_i in A:\n",
    "    image_of_inverse_A.append(inverse(A_i))\n",
    "    \n",
    "print('A: ',A)\n",
    "print('B: ',B)\n",
    "print('Im(A): ',set(image_of_inverse_A))\n",
    "print('Im(A) is subset of B: ', set(image_of_inverse_A).issubset(B))"
   ]
  },
  {
   "cell_type": "markdown",
   "metadata": {},
   "source": [
    "<a id='functionsfundkernel'></a>"
   ]
  },
  {
   "cell_type": "markdown",
   "metadata": {},
   "source": [
    "---\n",
    "\n",
    "<u>**Kernel of a function**</u>\n",
    "\n",
    "In general the definition of the kernel may be complicated but an important special case of interest is the kernel of a linear map. For a linear mapping function $f : A \\rightarrow B$, the kernel of $f$ is denoted and defined as:\n",
    "\n",
    "$$ \\text{ker} f = \\{ \\mathbf{x} \\in A|\\; f(\\mathbf{x}) = 0 \\}$$\n",
    "\n",
    "**Note 1:** The kernel of a matrix is also called the null space\n",
    "\n",
    "**Note 2:** This concept is different from the kernel functions as used in the kernel trick in SVM.\n",
    "\n",
    "**For more information on the Kernel of a Matrix, please see the Linear Algebra Notebook**"
   ]
  },
  {
   "cell_type": "markdown",
   "metadata": {},
   "source": [
    "<a id='functionsfundvalue'></a>"
   ]
  },
  {
   "cell_type": "markdown",
   "metadata": {},
   "source": [
    "---\n",
    "\n",
    "<u>**Generic value notation**</u>\n",
    "\n",
    "The value $y$ returned by a function $f$ when the value $x$ is passed to it is generically denoted as: \n",
    "\n",
    "$$y = f(x)$$ \n",
    "\n",
    "Here $x$ is called the argument to function $f$ which returns $y$. Functions that accept multiple arguments can be generally denoted as:\n",
    "\n",
    "$$y = f(x_1,x_2, ... ,x_n)$$\n",
    "\n",
    "The terms variable, arguments, and parameters can have more indepth and rigorous definitions, but here it is shown based on common usage and understanding. In common usage, a parameter is used as a term to define a quantity that influences the output or behavior of a mathematical object but is viewed as being held constant. For example, a function with argument $x$ and parameter $a$ ($a$ is constant): \n",
    "\n",
    "$$y = f(x, a) = a \\sin(x)$$ "
   ]
  },
  {
   "cell_type": "code",
   "execution_count": 4,
   "metadata": {},
   "outputs": [
    {
     "data": {
      "text/plain": [
       "(0.423701460743899, 0.4375278243798142)"
      ]
     },
     "execution_count": 4,
     "metadata": {},
     "output_type": "execute_result"
    }
   ],
   "source": [
    "func = math.sin\n",
    "\n",
    "# y = f(x)\n",
    "x = random.random()\n",
    "y = func(x)\n",
    "\n",
    "y, x"
   ]
  },
  {
   "cell_type": "code",
   "execution_count": 5,
   "metadata": {},
   "outputs": [
    {
     "data": {
      "text/plain": [
       "(1.185397083283821, 0.6344051861342412, 2)"
      ]
     },
     "execution_count": 5,
     "metadata": {},
     "output_type": "execute_result"
    }
   ],
   "source": [
    "def func(x_1, a):\n",
    "    return  a * math.sin(x_1)\n",
    "\n",
    "# y = f(x1, a)\n",
    "\n",
    "x_1 = random.random()\n",
    "a = 2\n",
    "y = func(x_1, a)\n",
    "\n",
    "y, x_1, a"
   ]
  },
  {
   "cell_type": "markdown",
   "metadata": {},
   "source": [
    "**Note 1:**\n",
    "\n",
    "Sometimes an alternative notation is used to denote function evaluation especially if the function itself is specified using a formula. The general form is  \n",
    "\n",
    "$$\\text{Expression involving variable }x \\; \\Bigr|_{x = a}$$\n",
    "\n",
    "This means to evaluate the expression by substituting the value $a$ for the variable $x$. This is used in Leibniz notations especially in evaluating Taylor's expansions: $ \\frac{df}{dx} \\; \\Bigr|_{x = a}$"
   ]
  },
  {
   "cell_type": "markdown",
   "metadata": {},
   "source": [
    "<a id='functionsfunddot'></a>"
   ]
  },
  {
   "cell_type": "markdown",
   "metadata": {},
   "source": [
    "---\n",
    "\n",
    "<u>**Dot notation**</u>\n",
    "\n",
    "Sometimes, the function needs to be referred to in a non-letter context or without using a dummy variable. Blank spaces are generally not preferrable. In such cases we can use a dot showing that an argument is expected, such as: $f(\\cdot )$\n",
    "\n",
    "An example of this is discussing the absolute value of a number, generally it is denoted as: $|x|$ but if the letter needs to be omitted and the function needs to be applied to a generic object, it can be shown using the dot notation as: $|\\cdot|$\n",
    "\n",
    "This notation can be very useful to show functions with multiple arguments where one or more arguments can vary while others are constant (parameters or arguments). For example: \n",
    "\n",
    "$$f (\\cdot, b)$$\n",
    "\n",
    "represents a function $f$ where the first argument can vary over it's domain, but the second argument is held constant at value $b$"
   ]
  },
  {
   "cell_type": "code",
   "execution_count": 6,
   "metadata": {},
   "outputs": [
    {
     "name": "stdout",
     "output_type": "stream",
     "text": [
      "x:  [0.5, 2, 10] \n",
      "\n",
      "y_0 = 1.25\n",
      "y_1 = 20\n",
      "y_2 = 500\n"
     ]
    }
   ],
   "source": [
    "# f(. , b)\n",
    "\n",
    "def func(x, b = 5):\n",
    "    return b*x**2\n",
    "\n",
    "x = [0.5, 2, 10]\n",
    "print('x: ', x, '\\n')\n",
    "\n",
    "for i, x_i in enumerate(x):\n",
    "    print(f'y_{i} = {func(x_i)}')"
   ]
  },
  {
   "cell_type": "markdown",
   "metadata": {},
   "source": [
    "<a id='functionsfundmap'></a>"
   ]
  },
  {
   "cell_type": "markdown",
   "metadata": {},
   "source": [
    "---\n",
    "\n",
    "<u>**Map notation**</u>\n",
    "\n",
    "The notation $y = f(x)$ can also be abbrevieted generically through: \n",
    "\n",
    "$$x \\mapsto y$$\n",
    "\n",
    "This is read as 'x maps to y' and it is to be noted that $f$ is missing in the expression. In general this is used to communicate that there is a need to map $x$ to $y$. Either that specific function that does the mapping is as of yet unknown, or is unambiguously known. This is upto the author to clarify.  \n",
    "\n",
    "Alternatively, $y = f(x)$ can be unambiguously abbreviated using: \n",
    "\n",
    "$$x \\stackrel{f}{\\mapsto}  y$$"
   ]
  },
  {
   "cell_type": "code",
   "execution_count": 7,
   "metadata": {},
   "outputs": [
    {
     "data": {
      "text/plain": [
       "(0.805247204954067, 0.6347040620510497)"
      ]
     },
     "execution_count": 7,
     "metadata": {},
     "output_type": "execute_result"
    }
   ],
   "source": [
    "func = math.cos\n",
    "\n",
    "# x maps to y\n",
    "x = random.random()\n",
    "y = func(x)\n",
    "\n",
    "y, x"
   ]
  },
  {
   "cell_type": "markdown",
   "metadata": {},
   "source": [
    "<a id='functionsfundoperator'></a>"
   ]
  },
  {
   "cell_type": "markdown",
   "metadata": {},
   "source": [
    "---\n",
    "\n",
    "<u>**Operator/Transform**</u>\n",
    "\n",
    "A function whose inputs and outputs are themselves functions is often called an *operator* or *transform*. Generally, we would like to distinguish an operator from function of numbers by capitalizing the operator name and omitting the paranthesis.\n",
    "\n",
    "For example, the evaluation of operator $L$ (notice the capitalization) on function $f$ can be denoted as: $$ L f$$\n",
    "\n",
    "A specific example of this is the Laplace transform using the Laplace tranform operator $\\mathcal{L}$. This operator is often used on a temporal function $f(t)$ whichs maps it to a function in the complex space $F(s)$, such that $ \\mathcal{L} f = F$ "
   ]
  },
  {
   "cell_type": "markdown",
   "metadata": {},
   "source": [
    "<a id='functionsfundpiecewise'></a>"
   ]
  },
  {
   "cell_type": "markdown",
   "metadata": {},
   "source": [
    "---\n",
    "\n",
    "<u>**Piecewise notation**</u>\n",
    "\n",
    "Sometimes it is not possible to define a function as a single algebraic formula. This is very true when the function is defined over various unconnected domains, or if it is defined differently over different domains. In such cases, the function can be defined piece-wise where the function is defined explicitely over each respective domain. \n",
    "\n",
    "$$  f(x) =\n",
    "\\begin{cases}\n",
    "e ^ {-x},  & \\text{if $x > 0$} \\\\\n",
    "1,  & \\text{if $x = 0$} \\\\\n",
    "0, & \\text{otherwise}\n",
    "\\end{cases}$$\n",
    "\n",
    "There aren't many standards on how piece-wise functions need to be defined. Some authors will use text such as 'otherwise', other authors will explicitely define all domains using notations. Some authors do not define the function over some domains with the understanding that the function is undefined over those domains. Context may be important in such cases."
   ]
  },
  {
   "cell_type": "code",
   "execution_count": 8,
   "metadata": {},
   "outputs": [
    {
     "data": {
      "text/plain": [
       "(0.006065953059943041, 5.105063607968068)"
      ]
     },
     "execution_count": 8,
     "metadata": {},
     "output_type": "execute_result"
    }
   ],
   "source": [
    "def piece_func(x):\n",
    "    if x > 0:\n",
    "        return math.exp(-x)\n",
    "    elif x == 0.0:\n",
    "        return 1\n",
    "    else:\n",
    "        return 0\n",
    "    \n",
    "\n",
    "x = random.random()*random.randint(-10,10)\n",
    "y = piece_func(x)\n",
    "\n",
    "y, x"
   ]
  },
  {
   "cell_type": "markdown",
   "metadata": {},
   "source": [
    "<a id='functionsfundcomposition'></a>"
   ]
  },
  {
   "cell_type": "markdown",
   "metadata": {},
   "source": [
    "---\n",
    "\n",
    "<u>**Composition of functions**</u>\n",
    "\n",
    "Consider two functions, $f: A \\rightarrow B$ and $g: B \\rightarrow C$, then the *composition* of $g$ and $f$ is a new function created by the application of $g$ on the values returned by $f$. The composition of functions is denoted by:\n",
    "\n",
    "$$(g \\circ f): A \\rightarrow C$$\n",
    "\n",
    "where $(g \\circ f)(x) = g(f(x))$\n",
    "\n",
    "**Note:** The order of the composition matters since $(f \\circ g)(x) = f(g(x))$ which is rarely the same."
   ]
  },
  {
   "cell_type": "code",
   "execution_count": 9,
   "metadata": {},
   "outputs": [
    {
     "name": "stdout",
     "output_type": "stream",
     "text": [
      "a: 5 , f(a): 15 , gof(a): 225 , fog(a): 55\n"
     ]
    }
   ],
   "source": [
    "def f(a):\n",
    "    return 2*a + 5\n",
    "\n",
    "def g(b):\n",
    "    return b**2\n",
    "\n",
    "composition_g_f = lambda a: g(f(a))\n",
    "composition_f_g = lambda a: f(g(a))\n",
    "\n",
    "a = 5\n",
    "\n",
    "print('a:',a,', f(a):', f(a), ', gof(a):', composition_g_f(a), ', fog(a):', composition_f_g(a))"
   ]
  },
  {
   "cell_type": "markdown",
   "metadata": {},
   "source": [
    "<a id='functionsfundinversion'></a>"
   ]
  },
  {
   "cell_type": "markdown",
   "metadata": {},
   "source": [
    "---\n",
    "\n",
    "<u>**Inversion of functions**</u>\n",
    "\n",
    "Consider a function $f(x) = y$, then the function that operates on $y$ and returns $x$ is called the inverse of function $f$ and is denoted as: $f^{-1}$\n",
    "\n",
    "$$ f^{-1}(y) = x$$\n",
    "\n",
    "If the function $f(x) = y$ is such that multiple values of $x$ can have the same $y$ (like $y = x^2$), then $f^{-1}$ is not a function. However, some authors use the notation $f^{-1}(y)$ to stand for the set of all $x$ values that map to $y$ without actually having an explicit function in mind. \n",
    "\n",
    "Soem authors also coerce $f^{-1}$ to be a function by restricting the domain of $x$. For example the $\\arcsin$ function is $\\sin ^ {-1}$. There are infinitely many values of $x$ that can produce the same $ y = \\sin(x)$ such as $\\sin(x) = \\frac{1}{2}$. However, if we restrict $x$ to $( - \\frac{\\pi}{2}, \\frac{\\pi}{2} ]$, $\\arcsin$ becomes a valid function.\n",
    "\n",
    "**Warning:** $f^{-1}(y)$ does NOT mean $\\frac{1}{f(y)}$. See: [Functions exponentiations](#functionsfundsquared)\n",
    "\n",
    "**Note:** In general, it can be a challenge to find an explicit form for $f^{-1}$. Mostly, computational methods are used to find an approximate form for $f^{-1}$"
   ]
  },
  {
   "cell_type": "code",
   "execution_count": 10,
   "metadata": {
    "scrolled": true
   },
   "outputs": [
    {
     "name": "stdout",
     "output_type": "stream",
     "text": [
      "x:  1.0\n",
      "y = f(x):  2.718281828459045\n",
      "x = f_inverse(y):  1.0\n"
     ]
    }
   ],
   "source": [
    "def f(x):\n",
    "    return math.exp(x)\n",
    "\n",
    "def f_inverse(x):\n",
    "    return math.log(x)\n",
    "\n",
    "x = 1.0\n",
    "print('x: ', x)\n",
    "y = f(x)\n",
    "print('y = f(x): ', y)\n",
    "print('x = f_inverse(y): ', f_inverse(y))"
   ]
  },
  {
   "cell_type": "markdown",
   "metadata": {},
   "source": [
    "The notation of $f^{-1}$ can also be applied to a set of values. Given a function $f$ operating on sets $X$, $Y$ denoted as $f: X \\rightarrow Y$ and if we have a set $B \\subseteq  Y$, then \n",
    "\n",
    "$$ f^{-1} (B) = \\{ x \\in X| \\; f(x) \\in B \\} $$"
   ]
  },
  {
   "cell_type": "markdown",
   "metadata": {},
   "source": [
    "<a id='functionsfunddquared'></a>"
   ]
  },
  {
   "cell_type": "markdown",
   "metadata": {},
   "source": [
    "---\n",
    "\n",
    "<u>**Functions exponentiations**</u>\n",
    "\n",
    "In general, when a function is exponentiated, it is denoted as: \n",
    "\n",
    "$$ f^n(x)$$\n",
    "\n",
    "This means straight forward exponentiation of the function, for example: $ f^2(x) = [f(x)]^2$ (Square brackets are a stylistic choice and don't hold any meaning here). This notation is used very commonly with trignometric functions, for example: $\\sin^2 \\theta = (\\sin \\theta)^2$\n",
    "\n",
    "**Warning:** However, this notation brings inconsistency because $f^{-1}(y)$ does NOT mean $[f(y)]^{-1}$. But in some contexts $f^2(x)$ may mean $(f \\circ f)(x)$ which is $f(f(x))$ which is consistent with meaning of inverse. See: [Composition of functions](#functionsfundcomposition) and [Inversion of functions](#functionsfundinversion)"
   ]
  },
  {
   "cell_type": "code",
   "execution_count": 11,
   "metadata": {
    "scrolled": true
   },
   "outputs": [
    {
     "name": "stdout",
     "output_type": "stream",
     "text": [
      "x:  1 , f(x):  0.8414709848078965 , f^2(x):  0.7080734182735712\n"
     ]
    }
   ],
   "source": [
    "def f(x):\n",
    "    return math.sin(x)\n",
    "\n",
    "x = 1\n",
    "print('x: ',x, ', f(x): ', f(x),', f^2(x): ', f(x)**2)"
   ]
  },
  {
   "cell_type": "markdown",
   "metadata": {},
   "source": [
    "<a id='functionsclass'></a>\n",
    "<a id='functionsclasscont'></a>"
   ]
  },
  {
   "cell_type": "markdown",
   "metadata": {},
   "source": [
    "---\n",
    "\n",
    "<u>**Classes of functions**</u>\n",
    "\n",
    "<u>**Continuous functions**</u>\n",
    "\n",
    "This subtopic deals with notations used to decribe whole classes of functions. One of the most important of these classes of functions are functions that are continuous and hence differentiable. These are generally denoted by:\n",
    "\n",
    "$$C^k$$\n",
    "\n",
    "which describes a class of functions $C$ with $k$ continuous derivatives and whose $k^{th}$ derivative is defined and continuous. Thus $C^0$ stands for class of continuous functions, $C^1$ stands for class of differentiable functions whose derivatives are continuous, and $C^\\infty$ contains those functions for which derivatives of all orders exist:\n",
    "\n",
    "$$C^0 \\supset C^1 \\supset C^2 \\supset ... $$\n",
    "\n",
    "This may also be denoted as $C^k(\\mathbb{R})$ which is equivalent to just $C^k$"
   ]
  },
  {
   "cell_type": "markdown",
   "metadata": {},
   "source": [
    "<a id='functionsclasspoly'></a>"
   ]
  },
  {
   "cell_type": "markdown",
   "metadata": {},
   "source": [
    "---\n",
    "\n",
    "<u>**Polynomial functions**</u>\n",
    "\n",
    "For info on polynomials see: [Polynomial functions](#functionspoly)\n",
    "\n",
    "The set of *all* polynomials in the variable $x$ with real coefficients is denoted by: \n",
    "\n",
    "$$\\mathbb{R}[x]$$\n",
    "\n",
    "The notation for *all* polynomials in multiple variables $x_1, x_2, ... , x_n$ with real coefficients is denoted by:\n",
    "\n",
    "$$\\mathbb{R}[x_1,x_2,...,x_n]$$"
   ]
  },
  {
   "cell_type": "markdown",
   "metadata": {},
   "source": [
    "<a id='functionspoly'></a>\n",
    "<a id='functionspolyintro'></a>"
   ]
  },
  {
   "cell_type": "markdown",
   "metadata": {},
   "source": [
    "---\n",
    "\n",
    "<u>**Polynomial functions**</u>\n",
    "\n",
    "<u>**Introduction**</u>\n",
    "\n",
    "A polynomial $p(x)$ is a function of the form:\n",
    "\n",
    "$$p(x) = a_n x^n + a_{n-1} x^{n-1}+ a_{n-2} x^{n-2} + ... + a_{1} x + a_{0}$$\n",
    "\n",
    "where the collection of $a_i$ are called coefficients. \n",
    "\n",
    "Some authors prefer the subscripts on the coefficients to run counter to the exponents:\n",
    "\n",
    "$$p(x) = a_0 x^n + a_{1} x^{n-1}+ a_{2} x^{n-2} + ... + a_{n-1} x + a_{n}$$\n",
    "\n",
    "Mostly the degree of the polynomial (See: [Degree of polynomial](#functionspolydeg)) is known from context, but if the degree is not known, the polynomial function notation will include $n$ as an argument as well: $p(x,n)$. Additionally, at times even the coeffiecients may be arguments and these may be specified as a vector of coefficients: $p(x,\\mathbf{a})$ or $p(x,n,\\mathbf{a})$ although $n$ is implied from $\\mathbf{a}$.\n",
    "\n",
    "**See the linear algebra notebook for more info on vector notations**"
   ]
  },
  {
   "cell_type": "code",
   "execution_count": 12,
   "metadata": {},
   "outputs": [
    {
     "data": {
      "text/plain": [
       "60"
      ]
     },
     "execution_count": 12,
     "metadata": {},
     "output_type": "execute_result"
    }
   ],
   "source": [
    "# p(x,A)\n",
    "\n",
    "class Poly:\n",
    "    \n",
    "    def __init__(self, a: typing.List):\n",
    "        \"\"\"\n",
    "        Initializes coefficients\n",
    "        \"\"\"\n",
    "        self.a = a\n",
    "        \n",
    "    def p(self, x):\n",
    "        \"\"\"\n",
    "        Evaluates p(x)\n",
    "        \"\"\"\n",
    "        p = 0\n",
    "        for i,a_i in enumerate(self.a):\n",
    "            p += a_i*(x**i)\n",
    "        return p\n",
    "        \n",
    "#Initialize p(x) = 5*x^2 + 10*x + 20    \n",
    "example = Poly([20, 10, 5])\n",
    "\n",
    "#Evaluate p(2) = 5*(2^2) + 10*(2) + 20\n",
    "example.p(2)"
   ]
  },
  {
   "cell_type": "markdown",
   "metadata": {},
   "source": [
    "**Note 1:** Polynomials may have more than one variables such as: $p(x,y) = x^3 + 5x^2y^2 + 6xy + 8y^3$"
   ]
  },
  {
   "cell_type": "markdown",
   "metadata": {},
   "source": [
    "<a id='functionspolydeg'></a>"
   ]
  },
  {
   "cell_type": "markdown",
   "metadata": {},
   "source": [
    "---\n",
    "\n",
    "<u>**Degree of polynomial**</u>\n",
    "\n",
    "The degree of a polynomial is the largest exponent on $x$ associated with a non-zero coefficient. It is denoted as: \n",
    "\n",
    "$$\\text{deg} \\; p(x)$$\n",
    "\n",
    "If $p(x) = 0$ (the zero polynomial) then the degree is either undefined or $-\\infty$\n"
   ]
  },
  {
   "cell_type": "code",
   "execution_count": 13,
   "metadata": {},
   "outputs": [
    {
     "data": {
      "text/plain": [
       "2"
      ]
     },
     "execution_count": 13,
     "metadata": {},
     "output_type": "execute_result"
    }
   ],
   "source": [
    "class PolyWithDeg(Poly):\n",
    "    \n",
    "    def deg(self):\n",
    "        \"\"\"\n",
    "        Returns degree of polynomial\n",
    "        \"\"\"\n",
    "        return len(self.a)-1 if ((len(self.a) > 0) and self.a != [0])  else 'undefined'\n",
    "    \n",
    "\n",
    "#Initialize p(x) = 5*x^2 + 10*x + 20    \n",
    "example = PolyWithDeg([20, 10, 5])\n",
    "example.deg()"
   ]
  },
  {
   "cell_type": "markdown",
   "metadata": {},
   "source": [
    "**Note 1:** For polynomials in two or more variables, the degree of a term is the sum of the exponents of the variables in the term; the degree (sometimes called the total degree) of the polynomial is again the maximum of the degrees of all terms in the polynomial.\n",
    "\n",
    "For example: Let $p(x,y) = x^2y^2 + xy^2 + y^3$, $\\text{deg}\\; p(x,y) = 4$"
   ]
  }
 ],
 "metadata": {
  "kernelspec": {
   "display_name": "Python 3",
   "language": "python",
   "name": "python3"
  },
  "language_info": {
   "codemirror_mode": {
    "name": "ipython",
    "version": 3
   },
   "file_extension": ".py",
   "mimetype": "text/x-python",
   "name": "python",
   "nbconvert_exporter": "python",
   "pygments_lexer": "ipython3",
   "version": "3.8.5"
  }
 },
 "nbformat": 4,
 "nbformat_minor": 5
}
