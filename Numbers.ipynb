{
 "cells": [
  {
   "cell_type": "markdown",
   "id": "removed-peripheral",
   "metadata": {},
   "source": [
    "## Notes\n",
    "\n",
    "1. The notebooks are largely self-contained, i.e, if you see a symbol there will be an explanation about it at some point in the notebook.\n",
    "    - Most often there will be links to the cell where the symbols are explained\n",
    "    - If the symbols are not explained in this notebook, a reference to the appropriate notebook will be provided\n",
    "    \n",
    "    \n",
    "2. **Github does a poor job of rendering this notebook**. The online render of this notebook is missing links, symbols, and notations are badly formatted. It is advised that you clone a local copy (or download the notebook) and open it locally."
   ]
  },
  {
   "cell_type": "markdown",
   "id": "urban-tender",
   "metadata": {},
   "source": [
    "# Contents\n",
    "\n",
    "1. [Numbers](#numbers)\n",
    "    - [Real numbers](#numbersreal)\n",
    "        - [Absolute value](#numbersrealabs)\n",
    "        - [Plus minus](#numbersrealplusminus)\n",
    "        - [Defined](#numbersrealdefined)\n",
    "        - [Identically equal to](#numbersrealidenticallyeq)\n"
   ]
  },
  {
   "cell_type": "markdown",
   "id": "australian-swiss",
   "metadata": {},
   "source": [
    "## Importing Libraries"
   ]
  },
  {
   "cell_type": "code",
   "execution_count": 1,
   "id": "tribal-album",
   "metadata": {},
   "outputs": [],
   "source": [
    "import random\n",
    "import math"
   ]
  },
  {
   "cell_type": "markdown",
   "id": "regular-mumbai",
   "metadata": {},
   "source": [
    "<a id='numbersrealabs'></a>"
   ]
  },
  {
   "cell_type": "markdown",
   "id": "powered-compound",
   "metadata": {},
   "source": [
    "---\n",
    "\n",
    "<u>**Absolute value**</u>\n",
    "\n",
    "The absolute value or modulus of a real number $x$ is the non-negative value of $x$ without regard to its sign, and it is denoted by: $|x|$\n",
    "\n",
    "$$  |x| =\n",
    "\\begin{cases}\n",
    "x,  & \\text{if $x \\ge 0$} \\\\\n",
    "-x, & \\text{if $x < 0$}\n",
    "\\end{cases}$$\n",
    "\n",
    "**For more information on the piecewise conditional braces see the Functions notebook**"
   ]
  },
  {
   "cell_type": "code",
   "execution_count": 2,
   "id": "compressed-thanksgiving",
   "metadata": {},
   "outputs": [
    {
     "data": {
      "text/plain": [
       "(2, 2)"
      ]
     },
     "execution_count": 2,
     "metadata": {},
     "output_type": "execute_result"
    }
   ],
   "source": [
    "abs(2), abs(-2)"
   ]
  },
  {
   "cell_type": "markdown",
   "id": "sticky-nashville",
   "metadata": {},
   "source": [
    "<a id='numbersrealplusminus'></a>"
   ]
  },
  {
   "cell_type": "markdown",
   "id": "powerful-saudi",
   "metadata": {},
   "source": [
    "---\n",
    "\n",
    "<u>**Plus minus**</u>\n",
    "\n",
    "The plus minus notation is used to encapsulate the positive and negative value of a real number together as a shorthand. It may be denoted for a real number $x$ using:\n",
    "$$\\pm x$$ or $$\\mp x$$\n",
    "\n",
    "Both notations mean the same. But the second notation may be called **minus plus** notation. For example the solutions to the equation $x^2 - 4 = 0$ is $2$ and $-2$, which may be written together as $\\pm 2$"
   ]
  },
  {
   "cell_type": "code",
   "execution_count": 3,
   "id": "stainless-holiday",
   "metadata": {},
   "outputs": [
    {
     "data": {
      "text/plain": [
       "(0, 0)"
      ]
     },
     "execution_count": 3,
     "metadata": {},
     "output_type": "execute_result"
    }
   ],
   "source": [
    "eq = lambda x: x**2 - 4\n",
    "\n",
    "eq(2), eq(-2)"
   ]
  },
  {
   "cell_type": "markdown",
   "id": "speaking-internet",
   "metadata": {},
   "source": [
    "When the _plus minus_ symbol is repeated, it can make the meaning ambigious, for example: $$\\pm 1 \\pm \\sqrt 3$$ may mean: $$1  + \\sqrt 3,\\; 1  - \\sqrt 3,\\; -1  + \\sqrt 3,\\; -1  + \\sqrt 3$$\n",
    "\n",
    "But when the _minus plus_ symbol is used with the _plus minus_ notation, the meaning may be quite clear: $$\\mp 1 \\pm \\sqrt 3$$ may mean: $$-1  + \\sqrt 3,\\;1  - \\sqrt 3$$\n",
    "\n",
    "Context can be important in these cases"
   ]
  },
  {
   "cell_type": "markdown",
   "id": "legislative-finance",
   "metadata": {},
   "source": [
    "<a id='numbersrealdefined'></a>"
   ]
  },
  {
   "cell_type": "markdown",
   "id": "billion-grocery",
   "metadata": {},
   "source": [
    "---\n",
    "\n",
    "<u>**Defined**</u>\n",
    "\n",
    "The defined symbol can be used to show the definition of a variable. For example: Let's assume we define a variable $x$ that is defined as $1-\\sqrt{2}$, we can denote that as: \n",
    "\n",
    "$$x := 1 - \\sqrt{2}$$\n",
    "or\n",
    "$$x \\stackrel{\\text{def}}{=} 1 - \\sqrt{2}$$\n",
    "or\n",
    "$$x \\stackrel{\\Delta}{=} 1 - \\sqrt{2}$$\n",
    "\n",
    "\n",
    "\n"
   ]
  },
  {
   "cell_type": "code",
   "execution_count": 4,
   "id": "blank-personality",
   "metadata": {},
   "outputs": [
    {
     "data": {
      "text/plain": [
       "-0.41421356237309515"
      ]
     },
     "execution_count": 4,
     "metadata": {},
     "output_type": "execute_result"
    }
   ],
   "source": [
    "x = 1 - math.sqrt(2)\n",
    "\n",
    "x"
   ]
  },
  {
   "cell_type": "markdown",
   "id": "careful-austria",
   "metadata": {},
   "source": [
    "Some authors use the $:=$ symbol for iterative definition. Let $i$ be the current iteration, then the iterative rule can be written as $$ x := x + 1$$ which is traditionally written as $$ x_{i+1} = x_{i} +1$$"
   ]
  },
  {
   "cell_type": "code",
   "execution_count": 5,
   "id": "three-canyon",
   "metadata": {},
   "outputs": [
    {
     "data": {
      "text/plain": [
       "20"
      ]
     },
     "execution_count": 5,
     "metadata": {},
     "output_type": "execute_result"
    }
   ],
   "source": [
    "x = 10\n",
    "for i in range(10):\n",
    "    x = x + 1\n",
    "    \n",
    "x"
   ]
  },
  {
   "cell_type": "markdown",
   "id": "collaborative-racing",
   "metadata": {},
   "source": [
    "<a id='numbersrealidenticallyeq'></a>"
   ]
  },
  {
   "cell_type": "markdown",
   "id": "going-stick",
   "metadata": {},
   "source": [
    "---\n",
    "\n",
    "<u>**Identically equal to**</u>\n",
    "\n",
    "The identically equal to symbol can be used to show that an assertion is equal for **all** values, and is denoted by: $ \\equiv$ \n",
    "\n",
    "For example: $$x \\in \\mathbb{R},\\; sin^2 x + cos ^2 x \\equiv 1$$ \n",
    "\n",
    "is true for **all** values of $x$. Compare this with the assertion $x^2 - 4 = 0 $ which is true only for _some_ values of $x$.\n",
    "\n",
    "**For more information on the belongs to and real set notation, see the collections notebook**"
   ]
  },
  {
   "cell_type": "code",
   "execution_count": 6,
   "id": "sophisticated-niagara",
   "metadata": {},
   "outputs": [
    {
     "name": "stdout",
     "output_type": "stream",
     "text": [
      "False\n",
      "True\n",
      "True\n",
      "True\n",
      "False\n"
     ]
    }
   ],
   "source": [
    "for i in range(5):\n",
    "    x = random.random()\n",
    "    print(math.sin(x)**2 + math.cos(x)**2 == 1)"
   ]
  },
  {
   "cell_type": "code",
   "execution_count": 7,
   "id": "liable-louisiana",
   "metadata": {},
   "outputs": [
    {
     "name": "stdout",
     "output_type": "stream",
     "text": [
      "True\n",
      "True\n",
      "False\n"
     ]
    }
   ],
   "source": [
    "for x in [2,-2, 3]:\n",
    "    print(x**2 - 4 == 0)"
   ]
  }
 ],
 "metadata": {
  "kernelspec": {
   "display_name": "Python 3",
   "language": "python",
   "name": "python3"
  },
  "language_info": {
   "codemirror_mode": {
    "name": "ipython",
    "version": 3
   },
   "file_extension": ".py",
   "mimetype": "text/x-python",
   "name": "python",
   "nbconvert_exporter": "python",
   "pygments_lexer": "ipython3",
   "version": "3.8.6"
  }
 },
 "nbformat": 4,
 "nbformat_minor": 5
}
