{
 "cells": [
  {
   "cell_type": "markdown",
   "id": "removed-peripheral",
   "metadata": {},
   "source": [
    "## Notes\n",
    "\n",
    "1. The notebooks are largely self-contained, i.e, if you see a symbol there will be an explanation about it at some point in the notebook.\n",
    "    - Most often there will be links to the cell where the symbols are explained\n",
    "    - If the symbols are not explained in this notebook, a reference to the appropriate notebook will be provided\n",
    "    \n",
    "    \n",
    "2. **Github does a poor job of rendering this notebook**. The online render of this notebook is missing links, symbols, and notations are badly formatted. It is advised that you clone a local copy (or download the notebook) and open it locally.\n",
    "\n",
    "\n",
    "3. See the Collections notebook before this notebook to gain familiarity with set notations "
   ]
  },
  {
   "cell_type": "markdown",
   "id": "urban-tender",
   "metadata": {},
   "source": [
    "# Contents\n",
    "\n",
    "1. [Numbers](#numbers)\n",
    "    - [Real numbers](#numbersreal)\n",
    "        - [Absolute value](#numbersrealabs)\n",
    "        - [Plus minus](#numbersrealplusminus)\n",
    "        - [Defined](#numbersrealdefined)\n",
    "        - [Identically equal to](#numbersrealidenticallyeq)\n",
    "    - [Subsets of the Reals](#numberssubset)\n",
    "        - [Real set](#numberssubsetreal)\n",
    "        - [Integer set](#numberssubsetinteger)\n",
    "        - [Natural number set](#numberssubsetnatural)\n",
    "        - [Rational number set](#numberssubsetrational)\n",
    "        - [Decorations](#numberssubsetdecorations)\n",
    "        - [Intervals](#numberssubsetintervals)\n",
    "        - [Famous numbers: pi, e, others](#numberssubsetfamous)\n",
    "    - [Complex numbers](#numberscomplex)\n",
    "        - [Complex set](#numberscomplexset)\n"
   ]
  },
  {
   "cell_type": "markdown",
   "id": "australian-swiss",
   "metadata": {},
   "source": [
    "## Importing Libraries"
   ]
  },
  {
   "cell_type": "code",
   "execution_count": 1,
   "id": "tribal-album",
   "metadata": {},
   "outputs": [],
   "source": [
    "import random\n",
    "import math"
   ]
  },
  {
   "cell_type": "markdown",
   "id": "regular-mumbai",
   "metadata": {},
   "source": [
    "<a id='numbersrealabs'></a>"
   ]
  },
  {
   "cell_type": "markdown",
   "id": "powered-compound",
   "metadata": {},
   "source": [
    "---\n",
    "\n",
    "<u>**Absolute value**</u>\n",
    "\n",
    "The absolute value or modulus of a real number $x$ is the non-negative value of $x$ without regard to its sign, and it is denoted by: $|x|$\n",
    "\n",
    "$$  |x| =\n",
    "\\begin{cases}\n",
    "x,  & \\text{if $x \\ge 0$} \\\\\n",
    "-x, & \\text{if $x < 0$}\n",
    "\\end{cases}$$\n",
    "\n",
    "**For more information on the piecewise conditional braces see the Functions notebook**"
   ]
  },
  {
   "cell_type": "code",
   "execution_count": 2,
   "id": "compressed-thanksgiving",
   "metadata": {},
   "outputs": [
    {
     "data": {
      "text/plain": [
       "(2, 2)"
      ]
     },
     "execution_count": 2,
     "metadata": {},
     "output_type": "execute_result"
    }
   ],
   "source": [
    "abs(2), abs(-2)"
   ]
  },
  {
   "cell_type": "markdown",
   "id": "sticky-nashville",
   "metadata": {},
   "source": [
    "<a id='numbersrealplusminus'></a>"
   ]
  },
  {
   "cell_type": "markdown",
   "id": "powerful-saudi",
   "metadata": {},
   "source": [
    "---\n",
    "\n",
    "<u>**Plus minus**</u>\n",
    "\n",
    "The plus minus notation is used to encapsulate the positive and negative value of a real number together as a shorthand. It may be denoted for a real number $x$ using:\n",
    "$$\\pm x$$ or $$\\mp x$$\n",
    "\n",
    "Both notations mean the same. But the second notation may be called **minus plus** notation. For example the solutions to the equation $x^2 - 4 = 0$ is $2$ and $-2$, which may be written together as $\\pm 2$"
   ]
  },
  {
   "cell_type": "code",
   "execution_count": 3,
   "id": "stainless-holiday",
   "metadata": {},
   "outputs": [
    {
     "data": {
      "text/plain": [
       "(0, 0)"
      ]
     },
     "execution_count": 3,
     "metadata": {},
     "output_type": "execute_result"
    }
   ],
   "source": [
    "eq = lambda x: x**2 - 4\n",
    "\n",
    "eq(2), eq(-2)"
   ]
  },
  {
   "cell_type": "markdown",
   "id": "speaking-internet",
   "metadata": {},
   "source": [
    "When the _plus minus_ symbol is repeated, it can make the meaning ambigious, for example: $$\\pm 1 \\pm \\sqrt 3$$ may mean: $$1  + \\sqrt 3,\\; 1  - \\sqrt 3,\\; -1  + \\sqrt 3,\\; -1  + \\sqrt 3$$\n",
    "\n",
    "But when the _minus plus_ symbol is used with the _plus minus_ notation, the meaning may be quite clear: $$\\mp 1 \\pm \\sqrt 3$$ may mean: $$-1  + \\sqrt 3,\\;1  - \\sqrt 3$$\n",
    "\n",
    "Context can be important in these cases"
   ]
  },
  {
   "cell_type": "markdown",
   "id": "legislative-finance",
   "metadata": {},
   "source": [
    "<a id='numbersrealdefined'></a>"
   ]
  },
  {
   "cell_type": "markdown",
   "id": "billion-grocery",
   "metadata": {},
   "source": [
    "---\n",
    "\n",
    "<u>**Defined**</u>\n",
    "\n",
    "The defined symbol can be used to show the definition of a variable. For example: Let's assume we define a variable $x$ that is defined as $1-\\sqrt{2}$, we can denote that as: \n",
    "\n",
    "$$x := 1 - \\sqrt{2}$$\n",
    "or\n",
    "$$x \\stackrel{\\text{def}}{=} 1 - \\sqrt{2}$$\n",
    "or\n",
    "$$x \\stackrel{\\Delta}{=} 1 - \\sqrt{2}$$\n",
    "\n",
    "\n",
    "\n"
   ]
  },
  {
   "cell_type": "code",
   "execution_count": 4,
   "id": "blank-personality",
   "metadata": {},
   "outputs": [
    {
     "data": {
      "text/plain": [
       "-0.41421356237309515"
      ]
     },
     "execution_count": 4,
     "metadata": {},
     "output_type": "execute_result"
    }
   ],
   "source": [
    "x = 1 - math.sqrt(2)\n",
    "\n",
    "x"
   ]
  },
  {
   "cell_type": "markdown",
   "id": "careful-austria",
   "metadata": {},
   "source": [
    "Some authors use the $:=$ symbol for iterative definition. Let $i$ be the current iteration, then the iterative rule can be written as $$ x := x + 1$$ which is traditionally written as $$ x_{i+1} = x_{i} +1$$"
   ]
  },
  {
   "cell_type": "code",
   "execution_count": 5,
   "id": "three-canyon",
   "metadata": {},
   "outputs": [
    {
     "data": {
      "text/plain": [
       "20"
      ]
     },
     "execution_count": 5,
     "metadata": {},
     "output_type": "execute_result"
    }
   ],
   "source": [
    "x = 10\n",
    "for i in range(10):\n",
    "    x = x + 1\n",
    "    \n",
    "x"
   ]
  },
  {
   "cell_type": "markdown",
   "id": "collaborative-racing",
   "metadata": {},
   "source": [
    "<a id='numbersrealidenticallyeq'></a>"
   ]
  },
  {
   "cell_type": "markdown",
   "id": "going-stick",
   "metadata": {},
   "source": [
    "---\n",
    "\n",
    "<u>**Identically equal to**</u>\n",
    "\n",
    "The identically equal to symbol can be used to show that an assertion is equal for **all** values, and is denoted by: $ \\equiv$ \n",
    "\n",
    "For example: $$x \\in \\mathbb{R},\\; sin^2 x + cos ^2 x \\equiv 1$$ \n",
    "\n",
    "is true for **all** values of $x$. Compare this with the assertion $x^2 - 4 = 0 $ which is true only for _some_ values of $x$.\n",
    "\n",
    "(See: [Real set](#numberssubsetreal)) "
   ]
  },
  {
   "cell_type": "code",
   "execution_count": 6,
   "id": "sophisticated-niagara",
   "metadata": {},
   "outputs": [
    {
     "name": "stdout",
     "output_type": "stream",
     "text": [
      "True\n",
      "True\n",
      "True\n",
      "True\n",
      "True\n"
     ]
    }
   ],
   "source": [
    "for i in range(5):\n",
    "    x = random.random()\n",
    "    print(round(math.sin(x)**2, 4) + round(math.cos(x)**2, 4) == 1)"
   ]
  },
  {
   "cell_type": "code",
   "execution_count": 7,
   "id": "liable-louisiana",
   "metadata": {},
   "outputs": [
    {
     "name": "stdout",
     "output_type": "stream",
     "text": [
      "True\n",
      "True\n",
      "False\n"
     ]
    }
   ],
   "source": [
    "for x in [2, -2, 3]:\n",
    "    print(x**2 - 4 == 0)"
   ]
  },
  {
   "cell_type": "markdown",
   "id": "primary-johnston",
   "metadata": {},
   "source": [
    "<a id='numberssubsetreal'></a>"
   ]
  },
  {
   "cell_type": "markdown",
   "id": "proved-translator",
   "metadata": {},
   "source": [
    "---\n",
    "\n",
    "<u>**Real set**</u>\n",
    "\n",
    "\n",
    "A set containing real numbers is called a real number set. It is represented by: $$\\mathbb{R}$$\n",
    "\n",
    "So we can represent variable $x$ can only be a real number with the representation: $$ x \\in \\mathbb{R}$$"
   ]
  },
  {
   "cell_type": "code",
   "execution_count": 8,
   "id": "unknown-aspect",
   "metadata": {},
   "outputs": [
    {
     "data": {
      "text/plain": [
       "True"
      ]
     },
     "execution_count": 8,
     "metadata": {},
     "output_type": "execute_result"
    }
   ],
   "source": [
    "R = (float,int)\n",
    "x = random.random()\n",
    "\n",
    "type(x) == R[0] or type(x) == R[1]"
   ]
  },
  {
   "cell_type": "markdown",
   "id": "separate-namibia",
   "metadata": {},
   "source": [
    "<a id='numberssubsetinteger'></a>"
   ]
  },
  {
   "cell_type": "markdown",
   "id": "hungry-polymer",
   "metadata": {},
   "source": [
    "---\n",
    "\n",
    "<u>**Integer set**</u>\n",
    "\n",
    "\n",
    "A set containing only integers is called an integer set. It is represented by: $$\\mathbb{Z}$$\n",
    "\n",
    "So we can represent variable $x$ can only be an integer with the representation: $$ x \\in \\mathbb{Z}$$"
   ]
  },
  {
   "cell_type": "code",
   "execution_count": 9,
   "id": "located-receipt",
   "metadata": {
    "scrolled": true
   },
   "outputs": [
    {
     "data": {
      "text/plain": [
       "True"
      ]
     },
     "execution_count": 9,
     "metadata": {},
     "output_type": "execute_result"
    }
   ],
   "source": [
    "Z = int\n",
    "x = random.randint(-10000,10000)\n",
    "\n",
    "type(x) == Z"
   ]
  },
  {
   "cell_type": "markdown",
   "id": "architectural-package",
   "metadata": {},
   "source": [
    "<a id='numberssubsetnatural'></a>"
   ]
  },
  {
   "cell_type": "markdown",
   "id": "collective-clock",
   "metadata": {},
   "source": [
    "---\n",
    "\n",
    "<u>**Natural number set**</u>\n",
    "\n",
    "\n",
    "The definition of natural number is not standard, but the definition that is prefered is that a natural number is a non-negative integer. It is denoted by: $$\\mathbb{N} = \\{0, 1, 2, ...\\}$$\n",
    "\n",
    "However, some authors and standards prefer not to include $0$ such that $\\mathbb{N} = \\{1, 2, ...\\}$"
   ]
  },
  {
   "cell_type": "code",
   "execution_count": 10,
   "id": "breathing-acceptance",
   "metadata": {},
   "outputs": [
    {
     "data": {
      "text/plain": [
       "True"
      ]
     },
     "execution_count": 10,
     "metadata": {},
     "output_type": "execute_result"
    }
   ],
   "source": [
    "Z = int\n",
    "x = 5\n",
    "\n",
    "type(x) == Z and x >= 0"
   ]
  },
  {
   "cell_type": "markdown",
   "id": "alternate-investigation",
   "metadata": {},
   "source": [
    "<a id='numberssubsetrational'></a>"
   ]
  },
  {
   "cell_type": "markdown",
   "id": "found-working",
   "metadata": {},
   "source": [
    "---\n",
    "\n",
    "<u>**Rational number set**</u>\n",
    "\n",
    "\n",
    "Rational numbers are those numbers that can be expressed as a ratio of integers $\\frac{a}{b}$ where $b \\ne 0$ and is denoted by: $\\mathbb{Q}$\n",
    "\n",
    "$$\\mathbb{Q} = \\{x \\in \\mathbb{R} |\\; x = a/b\\; \\text{where}\\; a,b \\in \\mathbb{Z}\\; \\text{and}\\; b \\ne 0 \\}$$"
   ]
  },
  {
   "cell_type": "code",
   "execution_count": 11,
   "id": "brazilian-brazilian",
   "metadata": {},
   "outputs": [
    {
     "data": {
      "text/plain": [
       "[-7.287461773700306,\n",
       " 0.5613934894346088,\n",
       " -1.1067323481116584,\n",
       " 0.7480890661349285,\n",
       " 1.5634509550016187]"
      ]
     },
     "execution_count": 11,
     "metadata": {},
     "output_type": "execute_result"
    }
   ],
   "source": [
    "def b_nq_zero():\n",
    "    b_val = random.randint(-10000,10000)\n",
    "    while b_val == 0:\n",
    "        b_val = random.randint(-10000,10000)\n",
    "    return b_val\n",
    "    \n",
    "def a():\n",
    "    return random.randint(-10000,10000)\n",
    "    \n",
    "\n",
    "Q_example = [a()/b_nq_zero() for i in range(5)]\n",
    "\n",
    "Q_example"
   ]
  },
  {
   "cell_type": "markdown",
   "id": "negative-sarah",
   "metadata": {},
   "source": [
    "These sets are nested as follows:\n",
    "\n",
    "$$ \\mathbb{R} \\supset \\mathbb{Q} \\supset \\mathbb{Z} \\supset \\mathbb{N}  $$"
   ]
  },
  {
   "cell_type": "markdown",
   "id": "editorial-laser",
   "metadata": {},
   "source": [
    "<a id='numberssubsetdecorations'></a>"
   ]
  },
  {
   "cell_type": "markdown",
   "id": "physical-warren",
   "metadata": {},
   "source": [
    "---\n",
    "\n",
    "<u>**Decorations**</u>\n",
    "\n",
    "The number set notations can be decorated with additional symbols which can denote various meanings. Some symbols can mean different things depending on context and author preferences. \n",
    "\n",
    "Nonnegative and negative elements of the set can be denoted using subscripts or superscripts. \n",
    "\n",
    "* There are various ways to represent it, commonly used symbols for **non-negative integers** (if the definition of natural numbers is not preferred) are: $\\mathbb{Z}^*, \\mathbb{Z}^+, \\mathbb{Z}_{\\ge 0}$ and similarly **non-negative reals** $\\mathbb{R}^*, \\mathbb{R}^+, \\mathbb{R}_{\\ge 0}$\n",
    "\n",
    "(See: [Natural number set](#numberssubsetnatural))\n",
    "\n",
    "In the above notations, the star superscipt can mean various alternate defintions. For example: \n",
    "\n",
    "* A star superscript can denote the nonzero elements of the set $\\mathbb{R}^* = \\{x \\in \\mathbb{R} |\\; x \\ne 0\\}$\n",
    "* A star superscript can denote the invertible elements of the set, which is mostly the same as the non-zero elements of the set (since 0 is non invertible) but for integers, $\\mathbb{Z}^* = \\{1,1\\}$. This is also denoted using $\\mathbb{Z}^\\times = \\{1,1\\}$\n",
    "* A star superscript for $\\mathbb{C}^*$ can denote $\\mathbb{C} \\cup \\{\\infty\\}$ although the recommended notation for this is $\\hat{\\mathbb{C}}$ or $\\overline{\\mathbb{C}}$. Similarly $\\mathbb{R}^*$ can denote $\\mathbb{R} \\cup \\{-\\infty,\\infty\\}$ althought $\\overline{\\mathbb{R}}$ is preferred.\n",
    "\n",
    "**Note:** Decorations can be very subject and author specific, so look for context before interpreting."
   ]
  },
  {
   "cell_type": "markdown",
   "id": "sonic-interim",
   "metadata": {},
   "source": [
    "<a id='numberssubsetintervals'></a>"
   ]
  },
  {
   "cell_type": "markdown",
   "id": "heard-redhead",
   "metadata": {},
   "source": [
    "---\n",
    "\n",
    "<u>**Intervals**</u>\n",
    "\n",
    "Intervals indicate membership of elements within a range and are denoted as open or closed using paranthesis or brackets respectively. A paranthesis indicates endpoints that are not included, a bracket indicates an endpoint that is included. For example $[-1,1]$ indicates all real numbers beginning from -1 inclusive and ending at 1 inclusive. Other examples:\n",
    "\n",
    "$$[1,2] = \\{x \\in \\mathbb{R} |\\; 1 \\le x \\le 2 \\}$$\n",
    "$$[1,2) = \\{x \\in \\mathbb{R} |\\; 1 \\le x < 2 \\}$$\n",
    "$$(1,2] = \\{x \\in \\mathbb{R} |\\; 1 < x \\le 2 \\}$$\n",
    "$$(1,2) = \\{x \\in \\mathbb{R} |\\; 1 < x < 2 \\}$$"
   ]
  },
  {
   "cell_type": "code",
   "execution_count": 12,
   "id": "magnetic-superintendent",
   "metadata": {},
   "outputs": [
    {
     "name": "stdout",
     "output_type": "stream",
     "text": [
      "\n",
      "x:  0.5\n",
      "[1,2]:  False\n",
      "[1,2):  False\n",
      "(1,2]:  False\n",
      "(1,2):  False\n",
      "\n",
      "x:  1\n",
      "[1,2]:  True\n",
      "[1,2):  True\n",
      "(1,2]:  False\n",
      "(1,2):  False\n",
      "\n",
      "x:  1.5\n",
      "[1,2]:  True\n",
      "[1,2):  True\n",
      "(1,2]:  True\n",
      "(1,2):  True\n",
      "\n",
      "x:  2\n",
      "[1,2]:  True\n",
      "[1,2):  False\n",
      "(1,2]:  True\n",
      "(1,2):  False\n",
      "\n",
      "x:  2.5\n",
      "[1,2]:  False\n",
      "[1,2):  False\n",
      "(1,2]:  False\n",
      "(1,2):  False\n"
     ]
    }
   ],
   "source": [
    "#[1,2]\n",
    "\n",
    "for x in [0.5, 1, 1.5, 2, 2.5]:\n",
    "    print('\\nx: ',x)\n",
    "    print('[1,2]: ', 1<=x<=2)\n",
    "    print('[1,2): ', 1<=x<2)\n",
    "    print('(1,2]: ', 1<x<=2)\n",
    "    print('(1,2): ', 1<x<2)"
   ]
  },
  {
   "cell_type": "markdown",
   "id": "integrated-event",
   "metadata": {},
   "source": [
    "The symbols $-\\infty$ and $\\infty$ may be used for the left and right ends to show unbounded ranges:\n",
    "\n",
    "$$[2,\\infty) = \\{x \\in \\mathbb{R} |\\; x \\ge 2 \\}$$\n",
    "$$(-\\infty,-2) = \\{x \\in \\mathbb{R} |\\; x < -2 \\}$$\n",
    "$$(-\\infty, \\infty) = \\mathbb{R}$$\n",
    "\n",
    "Some authors use reversed brackets to denote exclusive endpoints, it is the same as using a paranthesis:\n",
    "\n",
    "$$[a,b[ \\;\\text{is equivalent to}\\; [a,b)$$\n",
    "$$]a,b[ \\;\\text{is equivalent to}\\; (a,b)$$"
   ]
  },
  {
   "cell_type": "markdown",
   "id": "moving-secretariat",
   "metadata": {},
   "source": [
    "<a id='numberssubsetfamous'></a>"
   ]
  },
  {
   "cell_type": "markdown",
   "id": "greater-being",
   "metadata": {},
   "source": [
    "---\n",
    "\n",
    "<u>**Famous numbers**</u>\n",
    "\n",
    "Some constants have their own symbols and used generally enough to be mentioned here. \n",
    "\n",
    "* Pi is the ratio a circle's circumeference to it's diameter and denoted using: $\\pi$\n",
    "\n",
    "* Euler's number or the base of natural logarithms is denoted using: $e$\n",
    "\n",
    "* The imaginary unit with it's value equal to $\\sqrt{-1}$ is denoted by: $i$\n",
    "\n",
    "* Physical constants may include speed of light (denoted by $c$) etc\n",
    "\n",
    "More info: https://en.wikipedia.org/wiki/Mathematical_constant"
   ]
  },
  {
   "cell_type": "markdown",
   "id": "orange-pillow",
   "metadata": {},
   "source": [
    "<a id='numberscomplex'></a>\n",
    "<a id='numberscomplexset'></a>"
   ]
  },
  {
   "cell_type": "markdown",
   "id": "permanent-conviction",
   "metadata": {},
   "source": [
    "---\n",
    "\n",
    "<u>**Complex set**</u>\n",
    "\n",
    "\n",
    "A set containing only complex numbers is called a complex number set. It is represented by: $$\\mathbb{C}$$\n",
    "\n",
    "So we can represent variable $x$ as a complex number with the representation: $$ x \\in \\mathbb{C}$$"
   ]
  },
  {
   "cell_type": "code",
   "execution_count": 13,
   "id": "pointed-brave",
   "metadata": {},
   "outputs": [
    {
     "name": "stdout",
     "output_type": "stream",
     "text": [
      "0.8799064258234227 0.9017418044330733\n"
     ]
    },
    {
     "data": {
      "text/plain": [
       "True"
      ]
     },
     "execution_count": 13,
     "metadata": {},
     "output_type": "execute_result"
    }
   ],
   "source": [
    "C = complex\n",
    "x = complex(random.random(), random.random())\n",
    "\n",
    "print(x.real,x.imag)\n",
    "type(x) == C"
   ]
  },
  {
   "cell_type": "markdown",
   "id": "romantic-centre",
   "metadata": {},
   "source": [
    "The complex numbers are created using an object $i$ which has the property $i^2 = -1$. The result is a collection of numbers of the form: \n",
    "\n",
    "$$ \\{ a + ib | \\; a,b \\in \\mathbb{R},\\; i^2 = -1 \\}$$\n",
    "\n",
    "Here, $a$ is called the real component and $b$ is called the imaginary component. Some authors prefer writing $i$ after $b$: $a + bi$, and in electrical engineering literature authors prefer to use $j$ instead of $i$ since $i$ represents electrical current: $a + bj$"
   ]
  }
 ],
 "metadata": {
  "kernelspec": {
   "display_name": "Python 3",
   "language": "python",
   "name": "python3"
  },
  "language_info": {
   "codemirror_mode": {
    "name": "ipython",
    "version": 3
   },
   "file_extension": ".py",
   "mimetype": "text/x-python",
   "name": "python",
   "nbconvert_exporter": "python",
   "pygments_lexer": "ipython3",
   "version": "3.8.6"
  }
 },
 "nbformat": 4,
 "nbformat_minor": 5
}
