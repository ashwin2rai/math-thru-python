{
 "cells": [
  {
   "cell_type": "markdown",
   "id": "premier-maintenance",
   "metadata": {},
   "source": [
    "## Notes\n",
    "\n",
    "1. The notebooks are largely self-contained, i.e, if you see a symbol there will be an explanation about it at some point in the notebook.\n",
    "    - Most often there will be links to the cell where the symbols are explained\n",
    "    - If the symbols are not explained in this notebook, a reference to the appropriate notebook will be provided\n",
    "    \n",
    "    \n",
    "2. **Github does a poor job of rendering this notebook**. The online render of this notebook is missing links, symbols, and notations are badly formatted. It is advised that you clone a local copy (or download the notebook) and open it locally.\n",
    "\n",
    "\n",
    "3. The Numbers notebook may be referred after this notebook for more information on real number, integer, complex number notations."
   ]
  },
  {
   "cell_type": "markdown",
   "id": "bulgarian-ethnic",
   "metadata": {},
   "source": [
    "# Contents\n",
    "\n",
    "1. [Collections](#collections)\n",
    "    - [Sets](#collectionssets)\n",
    "        - [Introduction](#collectionssetsintroduction)\n",
    "        - [Membership](#collectionssetsmembership)\n",
    "        - [Null set](#collectionssetnullset)\n",
    "        - [Real number set](#collectionssetrealset)\n",
    "        - [Integer set](#collectionssetintegerset)\n",
    "        - [Set builder notation](#collectionssetsetbuildernotation)\n",
    "        - [Set equality](#collectionssetequality)\n",
    "        - [Subset](#collectionssetsubset)\n",
    "        - [Superset](#collectionssetsuperset)\n",
    "        - [Union](#collectionssetunion)\n",
    "        - [Disjoint union](#collectionssetdisjointunion)\n",
    "        - [Intersection](#collectionssetintersection)\n",
    "        - [Difference](#collectionssetdifference)\n",
    "        - [Complement](#collectionssetcomplement)\n",
    "        - [Symmetric difference](#collectionssetsymmetricdifference)\n",
    "        - [Cardinality](#collectionssetcardinality)\n",
    "        - [Caretsian product](#collectionssetcartesianproduct)\n",
    "        - [Power Set](#collectionssetpowerset)\n",
    "        - [Set exponentiation](#collectionssetsetexponentiation)\n",
    "    - [Lists](#collectionslists)\n",
    "        - [Introduction](#collectionslistsintroduction)\n",
    "    - [Aggregation notations](#collectionsagg)\n",
    "        - [Big Sum](#collectionsaggbigsum)\n",
    "        - [Big Product](#collectionsaggbigproduct)\n",
    "        - [Big Union, Intersection, And etc](#collectionsaggbigunion)\n",
    "        - [Aggegating over collections](#collectionsaggcollectionagg)\n",
    "        - [Einstein Notations for Tensors](#collectionsaggeinstein)"
   ]
  },
  {
   "cell_type": "markdown",
   "id": "corresponding-zimbabwe",
   "metadata": {},
   "source": [
    "## Importing Libraries"
   ]
  },
  {
   "cell_type": "code",
   "execution_count": 1,
   "id": "statewide-denial",
   "metadata": {},
   "outputs": [],
   "source": [
    "import itertools"
   ]
  },
  {
   "cell_type": "markdown",
   "id": "welsh-frost",
   "metadata": {},
   "source": [
    "<a id='collectionssets'></a>\n",
    "<a id='collectionssetsintroduction'></a>"
   ]
  },
  {
   "cell_type": "markdown",
   "id": "seasonal-logan",
   "metadata": {},
   "source": [
    "---\n",
    "\n",
    "<u>**Sets**</u>\n",
    "\n",
    "<u>**Introduction**</u>\n",
    "\n",
    "A set is an unordererd collection of objects in which repetition is forbidden. Order does NOT matter. Denoted by $$\\{a,b,c\\}$$\n",
    "\n",
    "Notation: {2,3,7} is a set of three integers\n",
    "\n",
    "Large sets can be specified using a ellipses to show a continuing pattern: {2,4,6,8, ...}"
   ]
  },
  {
   "cell_type": "code",
   "execution_count": 2,
   "id": "tamil-officer",
   "metadata": {
    "scrolled": true
   },
   "outputs": [
    {
     "data": {
      "text/plain": [
       "{4, 12, 21}"
      ]
     },
     "execution_count": 2,
     "metadata": {},
     "output_type": "execute_result"
    }
   ],
   "source": [
    "set([12,4,21,21])"
   ]
  },
  {
   "cell_type": "markdown",
   "id": "registered-feature",
   "metadata": {},
   "source": [
    "<a id='collectionssetsmembership'></a>"
   ]
  },
  {
   "cell_type": "markdown",
   "id": "enhanced-engine",
   "metadata": {},
   "source": [
    "---\n",
    "\n",
    "<u>**Membership**</u>\n",
    "\n",
    "Membership in a set is indicated using $\\in$ which is read as 'belongs to' or 'is an element of'. So $$x \\in A$$ can be read as object x is an element of set A.\n",
    "\n",
    "Note: sometimes the backward $\\in$ is used in the same way, such that $$A \\ni x$$ means exactly the same as above. It is sometimes used to represent the phrase 'such that' but its more common to represent 'such that' with **s.t**"
   ]
  },
  {
   "cell_type": "code",
   "execution_count": 3,
   "id": "southern-dress",
   "metadata": {},
   "outputs": [
    {
     "data": {
      "text/plain": [
       "True"
      ]
     },
     "execution_count": 3,
     "metadata": {},
     "output_type": "execute_result"
    }
   ],
   "source": [
    "A = set([5,6,7])\n",
    "x = 5\n",
    "\n",
    "x in A"
   ]
  },
  {
   "cell_type": "markdown",
   "id": "narrow-kansas",
   "metadata": {},
   "source": [
    "The opposite, i.e non-Membership, is indicated using $\\notin$ which is read as 'not an element of' or 'does not belog to'. So $$x \\notin A$$ can be read as object x is NOT an element of set A."
   ]
  },
  {
   "cell_type": "code",
   "execution_count": 4,
   "id": "prostate-trick",
   "metadata": {},
   "outputs": [
    {
     "data": {
      "text/plain": [
       "True"
      ]
     },
     "execution_count": 4,
     "metadata": {},
     "output_type": "execute_result"
    }
   ],
   "source": [
    "A = set([5,6,7])\n",
    "x = 4\n",
    "\n",
    "x not in A"
   ]
  },
  {
   "cell_type": "markdown",
   "id": "neural-huntington",
   "metadata": {},
   "source": [
    "<a id='collectionssetnullset'></a>"
   ]
  },
  {
   "cell_type": "markdown",
   "id": "double-sandwich",
   "metadata": {},
   "source": [
    "---\n",
    "\n",
    "<u>**Null set**</u>\n",
    "\n",
    "A set containing no elements is called a null set or an empty set. Denoted most commonly by: $$\\emptyset$$ But it is also generally denoted by $$O$$  or $$\\varnothing$$ or simply by $$\\{\\} $$"
   ]
  },
  {
   "cell_type": "code",
   "execution_count": 5,
   "id": "copyrighted-suggestion",
   "metadata": {},
   "outputs": [
    {
     "data": {
      "text/plain": [
       "True"
      ]
     },
     "execution_count": 5,
     "metadata": {},
     "output_type": "execute_result"
    }
   ],
   "source": [
    "a = set([])\n",
    "\n",
    "a == set()"
   ]
  },
  {
   "cell_type": "markdown",
   "id": "exempt-majority",
   "metadata": {},
   "source": [
    "<a id='collectionssetrealset'></a>"
   ]
  },
  {
   "cell_type": "markdown",
   "id": "proved-translator",
   "metadata": {},
   "source": [
    "---\n",
    "\n",
    "<u>**Real set**</u>\n",
    "\n",
    "\n",
    "A set containing real numbers is called a real number set. It is represented by: $$\\mathbb{R}$$\n",
    "\n",
    "So we can represent variable $x$ is a member of the real number set with the representation: $$ x \\in \\mathbb{R}$$"
   ]
  },
  {
   "cell_type": "code",
   "execution_count": 6,
   "id": "unknown-aspect",
   "metadata": {},
   "outputs": [
    {
     "data": {
      "text/plain": [
       "True"
      ]
     },
     "execution_count": 6,
     "metadata": {},
     "output_type": "execute_result"
    }
   ],
   "source": [
    "R = (float,int)\n",
    "x = 3.8\n",
    "\n",
    "type(x) == R[0] or type(x) == R[1]"
   ]
  },
  {
   "cell_type": "markdown",
   "id": "conditional-cathedral",
   "metadata": {},
   "source": [
    "<a id='collectionssetintegerset'></a>"
   ]
  },
  {
   "cell_type": "markdown",
   "id": "hungry-polymer",
   "metadata": {},
   "source": [
    "---\n",
    "\n",
    "<u>**Integer set**</u>\n",
    "\n",
    "\n",
    "A set containing only integers is called an integer set. It is represented by: $$\\mathbb{Z}$$\n",
    "\n",
    "So we can represent variable $x$ as a member of the integer set with the representation: $$ x \\in \\mathbb{Z}$$\n",
    "\n",
    "Nonnegative and negative integers can also be represented, but with additions to this symbol. There are various ways to represent it, commonly used symbols for **non-negative integers** are: $\\mathbb{Z}^*, \\mathbb{Z}^+, \\mathbb{Z}_{\\ge 0}$"
   ]
  },
  {
   "cell_type": "code",
   "execution_count": 7,
   "id": "located-receipt",
   "metadata": {},
   "outputs": [
    {
     "data": {
      "text/plain": [
       "True"
      ]
     },
     "execution_count": 7,
     "metadata": {},
     "output_type": "execute_result"
    }
   ],
   "source": [
    "Z = int\n",
    "x = 5\n",
    "\n",
    "type(x) == Z"
   ]
  },
  {
   "cell_type": "markdown",
   "id": "checked-winter",
   "metadata": {},
   "source": [
    "<a id='collectionssetcomplexset'></a>"
   ]
  },
  {
   "cell_type": "markdown",
   "id": "permanent-conviction",
   "metadata": {},
   "source": [
    "---\n",
    "\n",
    "<u>**Complex set**</u>\n",
    "\n",
    "\n",
    "A set containing only complex numbers is called a complex number set. It is represented by: $$\\mathbb{C}$$\n",
    "\n",
    "So we can represent variable $x$ belonging to the complex number set with the representation: $$ x \\in \\mathbb{C}$$\n",
    "\n",
    "**For more information, see the Numbers notebook**"
   ]
  },
  {
   "cell_type": "code",
   "execution_count": 8,
   "id": "pointed-brave",
   "metadata": {},
   "outputs": [
    {
     "name": "stdout",
     "output_type": "stream",
     "text": [
      "3.0 5.0\n"
     ]
    },
    {
     "data": {
      "text/plain": [
       "True"
      ]
     },
     "execution_count": 8,
     "metadata": {},
     "output_type": "execute_result"
    }
   ],
   "source": [
    "C = complex\n",
    "x = complex(3,5)\n",
    "\n",
    "print(x.real,x.imag)\n",
    "type(x) == C"
   ]
  },
  {
   "cell_type": "markdown",
   "id": "sustained-portland",
   "metadata": {},
   "source": [
    "<a id='collectionssetsetbuildernotation'></a>"
   ]
  },
  {
   "cell_type": "markdown",
   "id": "foster-milwaukee",
   "metadata": {},
   "source": [
    "---\n",
    "\n",
    "<u>**Set builders notation**</u>\n",
    "\n",
    "\n",
    "The set builder notation can be used to represent sets in a more consistent manner. The set builder notation will include a couple of statements within curly braces that generally denotes the elements of the built set and it's conditions. For example $$A = \\{x \\in \\mathbb{Z}: 1 \\le x \\le 100\\}$$\n",
    "\n",
    "This can be read as a set of integers (See: [Integer set](#collectionssetintegerset)) where each element is represented using a dummy variable $x$ (i.e all elements of set $A$ are integers). The colon then describes additional conditions for $x$, which in this case is that $x$ has to be between 1 and 100 **inclusive**.\n",
    "\n",
    "Sometimes, <u>instead of a colon a pipe can be used </u>. **This DOES not mean conditioning as used in probability notations**. The meaning is the same as above, the colon and pipe are interchangeable from a notation perspective. The above notation is equivalent to: $$\\{x \\in \\mathbb{Z} \\mid 1 \\le x \\le 100\\} $$\n",
    "\n",
    "Sometimes the conditions can be described in simple words. It has the same meaning as the above as well: $$\\{x \\in \\mathbb{Z} \\mid \\text{x is greater than or equal to 1 but less than or equal to 100}\\} $$"
   ]
  },
  {
   "cell_type": "code",
   "execution_count": 37,
   "id": "iraqi-maker",
   "metadata": {},
   "outputs": [
    {
     "data": {
      "text/plain": [
       "True"
      ]
     },
     "execution_count": 37,
     "metadata": {},
     "output_type": "execute_result"
    }
   ],
   "source": [
    "Z = int\n",
    "A = set(range(1,101))\n",
    "\n",
    "# Let's check if each element fulfills all the conditions \n",
    "# of the set builder\n",
    "condition = []\n",
    "for i in A:\n",
    "    condition.append( (type(i) == Z) and (1 <= i <= 100))\n",
    "    \n",
    "all(condition)"
   ]
  },
  {
   "cell_type": "markdown",
   "id": "expired-boost",
   "metadata": {},
   "source": [
    "When context is clear we may skip the preamble, or the preamble may be used to just introduce the dummy variable such that: $$\\{x: 1 \\le x \\le 100\\}$$ or $$\\{x \\mid 1 \\le x \\le 100\\}$$"
   ]
  },
  {
   "cell_type": "markdown",
   "id": "hungarian-physics",
   "metadata": {},
   "source": [
    "The conditions can be sophisticated and complex at times and can require careful reading to understand the nuances. For example: some of the conditions may actually be expressions that need to be evaluated such as: $$C = \\{ (x,y): x \\in A, y \\in B, x + y = 6 \\} $$\n",
    "\n",
    "Breaking this down, this set builder notation builds a set of <u>ordered pairs</u> of x and y such that x takes values from set $A$ and y takes values from set $B$ and $x+y$  SHOULD sum to 6, . It should be noted that $(x,y) \\ne (y,x)$ since the paranthesis suggests that $(x,y)$ is a list. For more on lists, see: [introduction to Lists](#collectionslistsintroduction)  \n",
    "\n",
    "Although this set builder notation is readable it can also be written using logic notations, using Logical And $\\wedge$:\n",
    "\n",
    "$$C = \\{ (x,y): x \\in A \\wedge y \\in B \\wedge x + y = 6 \\} $$\n",
    "\n",
    "**For more information on Logical And, see the Logic notebook**\n"
   ]
  },
  {
   "cell_type": "code",
   "execution_count": 10,
   "id": "monthly-scanning",
   "metadata": {},
   "outputs": [
    {
     "name": "stdout",
     "output_type": "stream",
     "text": [
      "All (x,y):  [(4, 8), (4, 9), (4, 2), (-2, 8), (-2, 9), (-2, 2), (7, 8), (7, 9), (7, 2)]\n",
      "\n",
      "C:  {(-2, 8), (4, 2)}\n"
     ]
    }
   ],
   "source": [
    "Z = int\n",
    "A = set([-2,4,7])\n",
    "B = set([2,8,9])\n",
    "\n",
    "all_x_y_combinations = itertools.product(A,B)\n",
    "\n",
    "print('All (x,y): ', list(itertools.product(A,B)))\n",
    "\n",
    "C = set([(x,y) for x,y in all_x_y_combinations if (x + y == 6)])\n",
    "\n",
    "print('\\nC: ', C)"
   ]
  },
  {
   "cell_type": "code",
   "execution_count": 11,
   "id": "placed-genius",
   "metadata": {},
   "outputs": [
    {
     "name": "stdout",
     "output_type": "stream",
     "text": [
      "C:  {(-2, 8), (4, 2)}\n",
      "type(C):  <class 'set'>\n",
      "\n",
      "(x,y) in C:  (-2, 8)\n",
      "type((x,y)):  <class 'tuple'>\n"
     ]
    }
   ],
   "source": [
    "# It is important to note that C is a set and (x,y) is a list \n",
    "# (and equivalently a tuple datastructure in Python terminology)\n",
    "\n",
    "print('C: ', C)\n",
    "print('type(C): ', type(C))\n",
    "c = C.pop()\n",
    "print('\\n(x,y) in C: ', c)\n",
    "print('type((x,y)): ', type(c))"
   ]
  },
  {
   "cell_type": "markdown",
   "id": "narrow-roman",
   "metadata": {},
   "source": [
    "<a id='collectionssetequality'></a>"
   ]
  },
  {
   "cell_type": "markdown",
   "id": "massive-praise",
   "metadata": {},
   "source": [
    "---\n",
    "\n",
    "<u>**Set equality**</u>\n",
    "\n",
    "\n",
    "Two sets A and B are equal if they have the same elements. $$A = B$$"
   ]
  },
  {
   "cell_type": "code",
   "execution_count": 12,
   "id": "rubber-insulin",
   "metadata": {},
   "outputs": [
    {
     "data": {
      "text/plain": [
       "True"
      ]
     },
     "execution_count": 12,
     "metadata": {},
     "output_type": "execute_result"
    }
   ],
   "source": [
    "A = set([3,5,6,7])\n",
    "B = set([3,5,6,7])\n",
    "\n",
    "A == B"
   ]
  },
  {
   "cell_type": "markdown",
   "id": "nonprofit-kazakhstan",
   "metadata": {},
   "source": [
    "<a id='collectionssetsubset'></a>"
   ]
  },
  {
   "cell_type": "markdown",
   "id": "civilian-break",
   "metadata": {},
   "source": [
    "---\n",
    "\n",
    "<u>**Subset**</u>\n",
    "\n",
    "\n",
    "Consider two sets A and B. A is considered a subset of B if all elements of A are also elements in B. A may also be equal to B. \n",
    "\n",
    "Denoted by: $$A \\subseteq B$$\n",
    "\n",
    "Note: Strict subsets can be denoted by $\\subset$. This denotes only subset with no equality of the subsets. Consider sets A and B where A is a subset of B but never equal to B: $$ A \\subset B $$\n",
    "\n",
    "However, this isn't universally accepted and some authors use $\\subset$ and $\\subseteq$ interchangeably"
   ]
  },
  {
   "cell_type": "code",
   "execution_count": 13,
   "id": "incredible-syndrome",
   "metadata": {},
   "outputs": [
    {
     "data": {
      "text/plain": [
       "(True, True, False, True)"
      ]
     },
     "execution_count": 13,
     "metadata": {},
     "output_type": "execute_result"
    }
   ],
   "source": [
    "A = set([3,5,6,7])\n",
    "B = set([3,5,6,7,8,9,10])\n",
    "C = set([3,5,6,7])\n",
    "\n",
    "A.issubset(B), A.issubset(C), A == B, A == C"
   ]
  },
  {
   "cell_type": "markdown",
   "id": "compliant-nelson",
   "metadata": {},
   "source": [
    "**Note:** It should be noted that $A \\subseteq B$ is not the same as $A \\in B$, mainly because when we talk about subsets we are talking about **sets** A and B. When we talk about membership $x \\in B$ we are talking about **elements** in Sets.  "
   ]
  },
  {
   "cell_type": "code",
   "execution_count": 14,
   "id": "transsexual-integration",
   "metadata": {
    "scrolled": true
   },
   "outputs": [
    {
     "name": "stdout",
     "output_type": "stream",
     "text": [
      "A is a subset of B:  True\n",
      "\n",
      "A belongs to B False\n",
      "\n",
      "Element in A belongs to B:  True\n"
     ]
    }
   ],
   "source": [
    "A = set([4])\n",
    "B = set([4])\n",
    "\n",
    "print('A is a subset of B: ',A.issubset(B))\n",
    "\n",
    "print('\\nA belongs to B', A in B)\n",
    "\n",
    "for x in A:\n",
    "    print('\\nElement in A belongs to B: ', x in B)"
   ]
  },
  {
   "cell_type": "markdown",
   "id": "smoking-knight",
   "metadata": {},
   "source": [
    "<a id='collectionssetsuperset'></a>"
   ]
  },
  {
   "cell_type": "markdown",
   "id": "regulated-pocket",
   "metadata": {},
   "source": [
    "---\n",
    "\n",
    "<u>**Superset**</u>\n",
    "\n",
    "\n",
    "Consider two sets A and B. A is considered a superset of B if all elements of B are also elements in A. A may also be equal to B. \n",
    "\n",
    "Denoted by: $$A \\supseteq B$$\n",
    "\n",
    "Note: Strict supersets can be denoted by $\\supset$. This denotes only superset with no equality of the subsets. Consider sets A and B where A is a superset of B but never equal to B: $$ A \\supset B $$\n",
    "\n",
    "However, this isn't universally accepted and some authors use $\\supset$ and $\\supseteq$ interchangeably"
   ]
  },
  {
   "cell_type": "code",
   "execution_count": 15,
   "id": "worldwide-bishop",
   "metadata": {},
   "outputs": [
    {
     "data": {
      "text/plain": [
       "(True, True, False, True)"
      ]
     },
     "execution_count": 15,
     "metadata": {},
     "output_type": "execute_result"
    }
   ],
   "source": [
    "A = set([3,5,6,7,8,9,10])\n",
    "B = set([3,5,6,7])\n",
    "C = set([3,5,6,7,8,9,10])\n",
    "\n",
    "A.issuperset(B), A.issuperset(C), A == B, A == C"
   ]
  },
  {
   "cell_type": "markdown",
   "id": "fallen-testimony",
   "metadata": {},
   "source": [
    "<a id='collectionssetunion'></a>"
   ]
  },
  {
   "cell_type": "markdown",
   "id": "confidential-formation",
   "metadata": {},
   "source": [
    "---\n",
    "\n",
    "<u>**Union**</u>\n",
    "\n",
    "\n",
    "Consider two sets A and B. The union of A and B are the set of elements that are in both A and B.\n",
    "\n",
    "Denoted by: $$A \\cup B$$"
   ]
  },
  {
   "cell_type": "code",
   "execution_count": 16,
   "id": "thorough-wagner",
   "metadata": {},
   "outputs": [
    {
     "data": {
      "text/plain": [
       "{3, 5, 6, 7, 8, 9, 10, 11, 12, 13, 14, 15}"
      ]
     },
     "execution_count": 16,
     "metadata": {},
     "output_type": "execute_result"
    }
   ],
   "source": [
    "A = set([3,5,6,7,8,9,10])\n",
    "B = set([3,5,6,        11,12,13,14,15])\n",
    "\n",
    "A.union(B)"
   ]
  },
  {
   "cell_type": "markdown",
   "id": "improving-password",
   "metadata": {},
   "source": [
    "<a id='collectionssetdisjointunion'></a>"
   ]
  },
  {
   "cell_type": "markdown",
   "id": "subsequent-principal",
   "metadata": {},
   "source": [
    "---\n",
    "\n",
    "<u>**Disjoint Union**</u>\n",
    "\n",
    "\n",
    "Consider two sets A and B. A disjoint union is a single symbol that denotes that A and B DO NOT share common elements and the result is a new set with elements from both A and B.\n",
    "\n",
    "This may denoted by any of several symbols such as: $\\oplus, \\uplus, +, \\sqcup$ etc and can be an author preference. \n",
    "\n",
    "For example $$A_1 \\uplus A_2 \\uplus ... \\uplus A_n = B$$\n",
    "\n",
    "This means that none of the sets $A_1, A_2, A_3 ...A_n$ share common elements: i.e  \n",
    "\n",
    "- $A_i \\cap A_j = \\emptyset\\;  \\forall  i \\ne j$ \n",
    "(See: [For all](#collectionscommonforall), [Null set](#collectionssetnullset), and [Intersection](#collectionssetintersection))\n",
    "\n",
    "And that the union of $A_1, A_2, A_3 ...A_n$ is B\n",
    "- $A_1 \\cup A_2 \\cup .. \\cup A_3 = B$\n",
    "\n",
    "**Note**: Such aggegations can be simply denoted using Big notations: see [Big Union and Intersection](#collectionsaggbigunion)"
   ]
  },
  {
   "cell_type": "code",
   "execution_count": 17,
   "id": "little-blast",
   "metadata": {},
   "outputs": [
    {
     "data": {
      "text/plain": [
       "{3, 5, 6, 7, 8, 9, 10, 11, 12, 13, 14, 15}"
      ]
     },
     "execution_count": 17,
     "metadata": {},
     "output_type": "execute_result"
    }
   ],
   "source": [
    "def disjoint_union(A,B):\n",
    "    \"\"\"Returns disjoint union if applicable else returns str 'Invalid'\"\"\"\n",
    "    return A.union(B) if A.intersection(B) == set() else 'Invalid'\n",
    "\n",
    "A = set([      7,8,9,10])\n",
    "B = set([3,5,6,        11,12,13,14,15])\n",
    "\n",
    "disjoint_union(A,B)"
   ]
  },
  {
   "cell_type": "markdown",
   "id": "figured-sherman",
   "metadata": {},
   "source": [
    "<a id='collectionssetintersection'></a>"
   ]
  },
  {
   "cell_type": "markdown",
   "id": "opened-voluntary",
   "metadata": {},
   "source": [
    "---\n",
    "\n",
    "<u>**Intersection**</u>\n",
    "\n",
    "\n",
    "Consider two sets A and B. The intersection of A and B are the set of elements that they have in common.\n",
    "\n",
    "Denoted by: $$A \\cap B$$"
   ]
  },
  {
   "cell_type": "code",
   "execution_count": 18,
   "id": "curious-shareware",
   "metadata": {},
   "outputs": [
    {
     "data": {
      "text/plain": [
       "{3, 5, 6}"
      ]
     },
     "execution_count": 18,
     "metadata": {},
     "output_type": "execute_result"
    }
   ],
   "source": [
    "A = set([3,5,6,7,8,9,10])\n",
    "B = set([3,5,6,        11,12,13,14,15])\n",
    "\n",
    "A.intersection(B)"
   ]
  },
  {
   "cell_type": "markdown",
   "id": "worst-chance",
   "metadata": {},
   "source": [
    "<a id='collectionssetdifference'></a>"
   ]
  },
  {
   "cell_type": "markdown",
   "id": "better-harmony",
   "metadata": {},
   "source": [
    "---\n",
    "\n",
    "<u>**Difference or relative complement**</u>\n",
    "\n",
    "\n",
    "Consider two sets A and B. The difference of A and B is a set of all elements in A that are not in B.\n",
    "\n",
    "Denoted by: $$A - B$$\n",
    "\n",
    "Since this can be ambiguous and may **erroneously** be interpreted as $a-b$ where $a \\in A$ and $b \\in B$, it can also be denoted as a <u>relative complement</u>: \n",
    "\n",
    "$$A \\setminus B$$ "
   ]
  },
  {
   "cell_type": "code",
   "execution_count": 19,
   "id": "virtual-groove",
   "metadata": {},
   "outputs": [
    {
     "data": {
      "text/plain": [
       "{7, 8, 9, 10}"
      ]
     },
     "execution_count": 19,
     "metadata": {},
     "output_type": "execute_result"
    }
   ],
   "source": [
    "A = set([3,5,6,7,8,9,10])\n",
    "B = set([3,5,6,        11,12,13,14,15])\n",
    "\n",
    "A - B"
   ]
  },
  {
   "cell_type": "markdown",
   "id": "supposed-chemistry",
   "metadata": {},
   "source": [
    "<a id='collectionssetcomplement'></a>"
   ]
  },
  {
   "cell_type": "markdown",
   "id": "vocal-briefing",
   "metadata": {},
   "source": [
    "---\n",
    "\n",
    "<u>**Complement**</u>\n",
    "\n",
    "\n",
    "The absolute complement of a set A is all elements that are not in A. This can mean a very large space of elements and is denoted various ways:\n",
    "\n",
    "$$A^c$$ or $$\\overline{A}$$ or $$A'$$"
   ]
  },
  {
   "cell_type": "markdown",
   "id": "vocal-japan",
   "metadata": {},
   "source": [
    "<a id='collectionssetsymmetricdifference'></a>"
   ]
  },
  {
   "cell_type": "markdown",
   "id": "widespread-eclipse",
   "metadata": {},
   "source": [
    "---\n",
    "\n",
    "<u>**Symmetric Difference**</u>\n",
    "\n",
    "\n",
    "Consider two sets A and B, the the symmetric difference of A and B are elements in A or B but not both.\n",
    "\n",
    "Denoted by: $$A \\Delta B$$ \n",
    "\n",
    "Note that $A \\Delta B = (A-B) \\cap (B-A)$"
   ]
  },
  {
   "cell_type": "code",
   "execution_count": 20,
   "id": "comprehensive-genius",
   "metadata": {},
   "outputs": [
    {
     "data": {
      "text/plain": [
       "{7, 8, 9, 10, 11, 12, 13, 14, 15}"
      ]
     },
     "execution_count": 20,
     "metadata": {},
     "output_type": "execute_result"
    }
   ],
   "source": [
    "A = set([3,5,6,7,8,9,10])\n",
    "B = set([3,5,6,        11,12,13,14,15])\n",
    "\n",
    "A.symmetric_difference(B)"
   ]
  },
  {
   "cell_type": "markdown",
   "id": "victorian-burner",
   "metadata": {},
   "source": [
    "<a id='collectionssetcardinality'></a>"
   ]
  },
  {
   "cell_type": "markdown",
   "id": "mexican-construction",
   "metadata": {},
   "source": [
    "---\n",
    "\n",
    "<u>**Cardinality**</u>\n",
    "\n",
    "\n",
    "Consider set A, the cardinality is the number of elements in A. Denoted by: $$\\mid A \\mid$$"
   ]
  },
  {
   "cell_type": "code",
   "execution_count": 21,
   "id": "satisfactory-malawi",
   "metadata": {},
   "outputs": [
    {
     "name": "stdout",
     "output_type": "stream",
     "text": [
      "7\n"
     ]
    }
   ],
   "source": [
    "A = set([3,5,6,7,8,9,10])\n",
    "\n",
    "cardinality = len(A)\n",
    "\n",
    "print(cardinality)"
   ]
  },
  {
   "cell_type": "markdown",
   "id": "diagnostic-cutting",
   "metadata": {},
   "source": [
    "<a id='collectionssetcartesianproduct'></a>"
   ]
  },
  {
   "cell_type": "markdown",
   "id": "matched-emission",
   "metadata": {},
   "source": [
    "---\n",
    "\n",
    "<u>**Cartesian Product**</u>\n",
    "\n",
    "\n",
    "Consider two sets A and B, the cartesian product is the set of all oredered pairs of elements in A and B: $$A \\times B = \\{(a,b): a \\in A, b \\in B \\}$$\n",
    "\n",
    "Here (a,b) is a list (ordered pair) so $(a,b) \\ne (b,a)$. See [Lists: Introduction](#collectionslistsintroduction)"
   ]
  },
  {
   "cell_type": "code",
   "execution_count": 22,
   "id": "living-telescope",
   "metadata": {},
   "outputs": [
    {
     "data": {
      "text/plain": [
       "{(3, 7), (3, 8), (3, 9), (5, 7), (5, 8), (5, 9), (6, 7), (6, 8), (6, 9)}"
      ]
     },
     "execution_count": 22,
     "metadata": {},
     "output_type": "execute_result"
    }
   ],
   "source": [
    "A = set([3,5,6])\n",
    "B = set([7,8,9])\n",
    "\n",
    "set(itertools.product(A,B))"
   ]
  },
  {
   "cell_type": "markdown",
   "id": "isolated-looking",
   "metadata": {},
   "source": [
    "As an extension of the cartesian product, the notation $A^2$ is cartesian product of A with A, so it is: $$A^2 = \\{(x,y): x,y \\in A\\}$$\n"
   ]
  },
  {
   "cell_type": "code",
   "execution_count": 23,
   "id": "sophisticated-baghdad",
   "metadata": {},
   "outputs": [
    {
     "data": {
      "text/plain": [
       "{(3, 3), (3, 5), (3, 6), (5, 3), (5, 5), (5, 6), (6, 3), (6, 5), (6, 6)}"
      ]
     },
     "execution_count": 23,
     "metadata": {},
     "output_type": "execute_result"
    }
   ],
   "source": [
    "A = set([3,5,6])\n",
    "\n",
    "set(itertools.product(A,repeat=2))"
   ]
  },
  {
   "cell_type": "markdown",
   "id": "compound-lindsay",
   "metadata": {},
   "source": [
    "A further extension of the cartesian product, the notation $A^n$ is the set of all $n$-tuples of elements of A: $$n \\in \\mathbb{Z}_{>0}, \\;A^n = \\{(a_1,a_2,...,a_n): a_1,a_2,...,a_n \\in A\\}$$\n",
    "\n",
    "(See: [Integer set](#collectionssetintegerset))\n"
   ]
  },
  {
   "cell_type": "code",
   "execution_count": 24,
   "id": "aware-breeding",
   "metadata": {},
   "outputs": [
    {
     "data": {
      "text/plain": [
       "{(3, 3, 3),\n",
       " (3, 3, 5),\n",
       " (3, 5, 3),\n",
       " (3, 5, 5),\n",
       " (5, 3, 3),\n",
       " (5, 3, 5),\n",
       " (5, 5, 3),\n",
       " (5, 5, 5)}"
      ]
     },
     "execution_count": 24,
     "metadata": {},
     "output_type": "execute_result"
    }
   ],
   "source": [
    "A = set([3,5])\n",
    "n = 3\n",
    "\n",
    "set(itertools.product(A,repeat=n))"
   ]
  },
  {
   "cell_type": "markdown",
   "id": "touched-people",
   "metadata": {},
   "source": [
    "<a id='collectionssetpowerset'></a>"
   ]
  },
  {
   "cell_type": "markdown",
   "id": "absolute-argentina",
   "metadata": {},
   "source": [
    "---\n",
    "\n",
    "<u>**Power Set**</u>\n",
    "\n",
    "\n",
    "Consider a set A, the power set of A is the set of all subsets of A. Denoted by the Weierstrass symbol: $$\\wp(A)$$ or $$2^A$$"
   ]
  },
  {
   "cell_type": "code",
   "execution_count": 25,
   "id": "sized-multiple",
   "metadata": {},
   "outputs": [
    {
     "data": {
      "text/plain": [
       "{(), (2,), (2, 3), (2, 3, 4), (2, 4), (3,), (3, 4), (4,)}"
      ]
     },
     "execution_count": 25,
     "metadata": {},
     "output_type": "execute_result"
    }
   ],
   "source": [
    "def powerset(A):\n",
    "    return itertools.chain.from_iterable(itertools.combinations(A, i) for i in range(len(A)+1))\n",
    "\n",
    "A = set([2,3,4])\n",
    "\n",
    "set(powerset(A))"
   ]
  },
  {
   "cell_type": "markdown",
   "id": "ignored-token",
   "metadata": {},
   "source": [
    "<a id='collectionssetsetexponentiation'></a>"
   ]
  },
  {
   "cell_type": "markdown",
   "id": "visible-medium",
   "metadata": {},
   "source": [
    "---\n",
    "\n",
    "<u>**Set Exponentiation**</u>\n",
    "\n",
    "##Need to add"
   ]
  },
  {
   "cell_type": "code",
   "execution_count": null,
   "id": "excellent-thomson",
   "metadata": {},
   "outputs": [],
   "source": []
  },
  {
   "cell_type": "markdown",
   "id": "urban-constitution",
   "metadata": {},
   "source": [
    "<a id='collectionslists'></a>\n",
    "<a id='collectionslistsintroduction'></a>"
   ]
  },
  {
   "cell_type": "markdown",
   "id": "governmental-istanbul",
   "metadata": {},
   "source": [
    "---\n",
    "\n",
    "<u>**Lists**</u>\n",
    "\n",
    "<u>**Introduction**</u>\n",
    "\n",
    "Note: Here we are talking about the mathematical definition of List. \n",
    "\n",
    "A list is an ordered collection of objects in which repetition is permitted. Lists are denoted using paranthesis: $$A = (2,7,2,8,11)$$\n",
    "\n",
    "Order matters in lists and repetiton is allowed such that $(a_1,a_1,a_2) \\ne (a_1,a_2,a_1)$\n",
    "\n",
    "A list of $n$ elements is sometimes called an $n-$tuple."
   ]
  },
  {
   "cell_type": "code",
   "execution_count": 26,
   "id": "alpine-background",
   "metadata": {
    "scrolled": true
   },
   "outputs": [
    {
     "data": {
      "text/plain": [
       "False"
      ]
     },
     "execution_count": 26,
     "metadata": {},
     "output_type": "execute_result"
    }
   ],
   "source": [
    "A = [2,1,1]\n",
    "B = [1,2,2]\n",
    "\n",
    "A == B"
   ]
  },
  {
   "cell_type": "markdown",
   "id": "collected-newman",
   "metadata": {},
   "source": [
    "<a id='collectionsagg'></a>\n",
    "<a id='collectionsaggbigsum'></a>"
   ]
  },
  {
   "cell_type": "markdown",
   "id": "underlying-butter",
   "metadata": {},
   "source": [
    "---\n",
    "\n",
    "<u>**Aggregation symbols**</u>\n",
    "\n",
    "<u>**Big Sum**</u>\n",
    "\n",
    "The symbol $\\sum$ is used to represent a sum of a collection. The sum notation is typically used as: $$\\sum_{i=\\text{start}}^{stop} \\text{expression involving i}$$\n",
    "For example: $$\\sum_{i=1}^{5} x^i$$ which after explicitely expanding the sum will look like: $$\\sum_{i=1}^{5} x^i = x^1+x^2+x^3+x^4+x^5$$"
   ]
  },
  {
   "cell_type": "code",
   "execution_count": 27,
   "id": "expected-consumption",
   "metadata": {},
   "outputs": [
    {
     "name": "stdout",
     "output_type": "stream",
     "text": [
      "x:  3 ,i:  1 ,sum:  3\n",
      "x:  3 ,i:  2 ,sum:  12\n",
      "x:  3 ,i:  3 ,sum:  39\n",
      "x:  3 ,i:  4 ,sum:  120\n",
      "x:  3 ,i:  5 ,sum:  363\n"
     ]
    },
    {
     "data": {
      "text/plain": [
       "363"
      ]
     },
     "execution_count": 27,
     "metadata": {},
     "output_type": "execute_result"
    }
   ],
   "source": [
    "def sum_x_1_to_5(x):\n",
    "    \n",
    "    sum_var = 0\n",
    "    for i in range(1,6):\n",
    "        sum_var += x**i\n",
    "        print('x: ',x,',i: ',i,',sum: ',sum_var)    \n",
    "    return sum_var\n",
    "\n",
    "sum_x_1_to_5(3)"
   ]
  },
  {
   "cell_type": "markdown",
   "id": "automated-green",
   "metadata": {},
   "source": [
    "If the stop condition is $\\infty$, the summation keeps going on without end: $$F(\\infty) = \\sum_{n=0}^{\\infty} \\frac{1}{2^n} = 1 + \\frac{1}{2} + \\frac{1}{4} + \\frac{1}{8} + ... $$\n",
    "\n",
    "When computing this sum, it's obviously impossible to keep summing to infinity, the computation will never end. In such cases we can define a tolerance level $\\delta$, that is the increase in magnitude of the sum for an iteration reaching which the computation will be terminated. $$F(i) - F(i-1) \\le \\delta$$\n",
    "In this case $$F(i) - F(i-1) = \\frac{1}{2^i}$$ so the tolerance value for termination will be: $$ \\frac{1}{2^i} \\le \\delta$$\n",
    "\n",
    "**For more information defining functions $F$, see the Functions notebook**"
   ]
  },
  {
   "cell_type": "code",
   "execution_count": 28,
   "id": "institutional-stick",
   "metadata": {},
   "outputs": [
    {
     "name": "stdout",
     "output_type": "stream",
     "text": [
      "Current iteration value:  1.0 , tolerance:  0.0005 , sum:  1.0\n",
      "Current iteration value:  0.5 , tolerance:  0.0005 , sum:  1.5\n",
      "Current iteration value:  0.25 , tolerance:  0.0005 , sum:  1.75\n",
      "Current iteration value:  0.125 , tolerance:  0.0005 , sum:  1.875\n",
      "Current iteration value:  0.0625 , tolerance:  0.0005 , sum:  1.9375\n",
      "Current iteration value:  0.03125 , tolerance:  0.0005 , sum:  1.96875\n",
      "Current iteration value:  0.015625 , tolerance:  0.0005 , sum:  1.984375\n",
      "Current iteration value:  0.0078125 , tolerance:  0.0005 , sum:  1.9921875\n",
      "Current iteration value:  0.00390625 , tolerance:  0.0005 , sum:  1.99609375\n",
      "Current iteration value:  0.001953125 , tolerance:  0.0005 , sum:  1.998046875\n",
      "Current iteration value:  0.0009765625 , tolerance:  0.0005 , sum:  1.9990234375\n",
      "Current iteration value:  0.00048828125 , tolerance:  0.0005 , sum:  1.99951171875\n"
     ]
    },
    {
     "data": {
      "text/plain": [
       "1.99951171875"
      ]
     },
     "execution_count": 28,
     "metadata": {},
     "output_type": "execute_result"
    }
   ],
   "source": [
    "def sum_1_by_2_n(tol):\n",
    "    \n",
    "    sum_var = 0\n",
    "    i = 0\n",
    "    current_iter = 1000 #Dummy value to begin the algorithm\n",
    "    while current_iter > tol:\n",
    "        current_iter = (1/(2**i))\n",
    "        sum_var += current_iter\n",
    "        i += 1\n",
    "        print('Current iteration value: ', current_iter,', tolerance: ',tol,', sum: ',sum_var)\n",
    "        \n",
    "    return sum_var\n",
    "\n",
    "sum_1_by_2_n(0.0005)"
   ]
  },
  {
   "cell_type": "markdown",
   "id": "automatic-intensity",
   "metadata": {},
   "source": [
    "<a id='collectionsaggbigproduct'></a>"
   ]
  },
  {
   "cell_type": "markdown",
   "id": "laughing-spotlight",
   "metadata": {},
   "source": [
    "---\n",
    "\n",
    "<u>**Big Product**</u>\n",
    "\n",
    "The symbol $\\prod$ is used to represent products of a collection and it is analogous to the big sum. The big product notation is typically used as: $$\\prod_{i=\\text{start}}^{stop} \\text{expression involving i}$$\n",
    "For example: $$\\sum_{i=0}^{5} (2i + 1)$$ which after explicitely expanding the sum will look like: $$\\sum_{i=0}^{5} (2i + 1) = 1 \\times 3 \\times 5 \\times 7 \\times 9 \\times 11$$"
   ]
  },
  {
   "cell_type": "code",
   "execution_count": 29,
   "id": "constant-interface",
   "metadata": {},
   "outputs": [
    {
     "name": "stdout",
     "output_type": "stream",
     "text": [
      "Iteration:  0 , value:  1 , product:  1\n",
      "Iteration:  1 , value:  3 , product:  3\n",
      "Iteration:  2 , value:  5 , product:  15\n",
      "Iteration:  3 , value:  7 , product:  105\n",
      "Iteration:  4 , value:  9 , product:  945\n",
      "Iteration:  5 , value:  11 , product:  10395\n"
     ]
    },
    {
     "data": {
      "text/plain": [
       "10395"
      ]
     },
     "execution_count": 29,
     "metadata": {},
     "output_type": "execute_result"
    }
   ],
   "source": [
    "prod = 1\n",
    "\n",
    "for i in range(6):\n",
    "    prod *= (2*i+1)\n",
    "    print('Iteration: ',i,', value: ',(2*i+1),', product: ',prod)\n",
    "    \n",
    "prod"
   ]
  },
  {
   "cell_type": "markdown",
   "id": "regulation-situation",
   "metadata": {},
   "source": [
    "<a id='collectionsaggbigunion'></a>"
   ]
  },
  {
   "cell_type": "markdown",
   "id": "joined-documentation",
   "metadata": {},
   "source": [
    "---\n",
    "\n",
    "<u>**Big Union, Intersection, And etc**</u>\n",
    "\n",
    "In fact, analogous to the Big sum and Big product notation, most other operators may be denoted for aggregation by using the giant form of it with a dummy index. \n",
    "\n",
    "For example: Assume $A_1,A_2,A_3$ are sets, then the Big Union can be used to show aggregation of several unions $$\\bigcup\\limits_{i=1}^{3} A_{i} = A_1 \\cup A_2 \\cup A_3$$\n",
    "\n",
    "The Big Intersection can be used to show aggregation of several intersections $$\\bigcap\\limits_{i=1}^{3} A_{i} = A_1 \\cap A_2 \\cap A_3$$\n",
    "\n",
    "If $p_1,p_2,p_3$ are Booleans, Big And shows aggregation of several Logical Ands (see Logic notebook) $$\\bigwedge\\limits_{i=1}^{3} p_{i} = p_1 \\wedge p_2 \\wedge p_3$$"
   ]
  },
  {
   "cell_type": "markdown",
   "id": "raising-shark",
   "metadata": {},
   "source": [
    "<a id='collectionsaggcollectionagg'></a>"
   ]
  },
  {
   "cell_type": "markdown",
   "id": "automated-saudi",
   "metadata": {},
   "source": [
    "---\n",
    "\n",
    "<u>**Aggegating over collections**</u>\n",
    "\n",
    "Unitl now all aggegration operations traverses a continious stretch of integers. Sometimes, we want to traverse over other forms of indices. In such cases, we can indicate traversals over sets by showing membership of the index: $$ \\sum_{i \\in A} i^2$$\n",
    "\n",
    "This can be expanded explicitely by defining set A, for example consider set $A = \\{3,6,1.7,5\\}$, then $$\\sum_{i \\in A} i^2 = 3^2 + 6^2 + 1.7^2 + 5^2$$\n",
    "\n",
    "**Note**: This is true for all the above aggegation notations"
   ]
  },
  {
   "cell_type": "code",
   "execution_count": 30,
   "id": "educated-updating",
   "metadata": {},
   "outputs": [
    {
     "name": "stdout",
     "output_type": "stream",
     "text": [
      "i:  1.7 , sum:  2.8899999999999997\n",
      "i:  3 , sum:  11.89\n",
      "i:  5 , sum:  36.89\n",
      "i:  6 , sum:  72.89\n"
     ]
    },
    {
     "data": {
      "text/plain": [
       "72.89"
      ]
     },
     "execution_count": 30,
     "metadata": {},
     "output_type": "execute_result"
    }
   ],
   "source": [
    "A = set([3,6,1.7,5])\n",
    "\n",
    "sum_var = 0 \n",
    "for i in A:\n",
    "    sum_var += i**2\n",
    "    print('i: ',i,', sum: ',sum_var)\n",
    "    \n",
    "sum_var"
   ]
  },
  {
   "cell_type": "markdown",
   "id": "removable-office",
   "metadata": {},
   "source": [
    "<a id='collectionsaggeinstein'></a>"
   ]
  },
  {
   "cell_type": "markdown",
   "id": "female-envelope",
   "metadata": {},
   "source": [
    "---\n",
    "\n",
    "<u>**Einstein notations**</u>\n",
    "\n",
    "In some contexts, especially in Tensor algebra, it is convenient to write sums without explicitely writing the Summation symbol $\\sum$. **The Einstein or Tensor notation has several rules**, but in general a dummy index that is repeated is assumed to be the variable on which the summation is done. The summation is done from 1 to the order of the tensor. \n",
    "\n",
    "For example consider a $m \\times m$ square matrix $A$ and vectors $u$ and $v$ of dimension $m$. Matrix vector multiplication can then be denoted using Einstein notation by $$u_i = A_{ij}v_j$$ which is equivalent to: $$u_1 = \\sum^{j=3}_{j=1} A_{1j}v_j,$$ $$u_2 = \\sum^{j=3}_{j=1} A_{2j}v_j,$$ $$u_3 = \\sum^{j=3}_{j=1} A_{3j}v_j$$\n",
    "\n",
    "This was a simple example to introduce the concept. Please see the wikipage for more rules: (https://en.wikipedia.org/wiki/Einstein_notation#Matrix-vector_multiplication)"
   ]
  },
  {
   "cell_type": "code",
   "execution_count": 31,
   "id": "rental-force",
   "metadata": {},
   "outputs": [
    {
     "data": {
      "text/plain": [
       "[12, 30, 48]"
      ]
     },
     "execution_count": 31,
     "metadata": {},
     "output_type": "execute_result"
    }
   ],
   "source": [
    "# Einstein Notation: u_i = A_ij * v_j\n",
    "\n",
    "A = [[1,2,3],\n",
    "     [4,5,6],\n",
    "     [7,8,9]]\n",
    "\n",
    "v = [2,2,2]\n",
    "u = [0,0,0] #initializing\n",
    "\n",
    "for i in range(len(u)):\n",
    "    u[i] = sum([ a*v[j] for j,a in enumerate(A[i])])\n",
    "\n",
    "u"
   ]
  }
 ],
 "metadata": {
  "kernelspec": {
   "display_name": "Python 3",
   "language": "python",
   "name": "python3"
  },
  "language_info": {
   "codemirror_mode": {
    "name": "ipython",
    "version": 3
   },
   "file_extension": ".py",
   "mimetype": "text/x-python",
   "name": "python",
   "nbconvert_exporter": "python",
   "pygments_lexer": "ipython3",
   "version": "3.8.6"
  }
 },
 "nbformat": 4,
 "nbformat_minor": 5
}
