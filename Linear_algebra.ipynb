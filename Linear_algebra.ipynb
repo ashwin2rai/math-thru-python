{
 "cells": [
  {
   "cell_type": "markdown",
   "id": "optical-wound",
   "metadata": {},
   "source": [
    "## Notes\n",
    "\n",
    "1. The notebooks are largely self-contained, i.e, if you see a symbol there will be an explanation about it at some point in the notebook.\n",
    "    - Most often there will be links to the cell where the symbols are explained\n",
    "    - If the symbols are not explained in this notebook, a reference to the appropriate notebook will be provided\n",
    "    \n",
    "    \n",
    "2. **Github does a poor job of rendering this notebook**. The online render of this notebook is missing links, symbols, and notations are badly formatted. It is advised that you clone a local copy (or download the notebook) and open it locally.\n",
    "\n",
    "\n",
    "3. **See the Collections notebook before this notebook to gain familiarity with set notations**"
   ]
  },
  {
   "cell_type": "markdown",
   "id": "behavioral-drain",
   "metadata": {},
   "source": [
    "# Contents\n",
    "\n",
    "1. [Linear Algebra](#linalg)\n",
    "    - [Vectors](#linalgvector)\n",
    "        - [Intro](#linalgvectorintro)\n",
    "        - [Set of all vectors](#linalgvectorset)\n",
    "        - [Physical quantities and basis vectors](#linalgvectorphys)\n",
    "        - [All zero and one vectors](#linalgvectorzeroone)  \n",
    "        - [Sum](#linalgvectorsum)\n",
    "        - [Scalar Multiple](#linalgvectorscalmul)\n",
    "        - [Magnitude or Norm of a vector](#linalgvectornorm)\n",
    "        - [P-Norm of a vector](#linalgvectorpnorm)\n",
    "        - [Manhatten, Euclidean, Absolute Value, and Infinite Norm](#linalgvectordiffnorm)\n",
    "        - [Dot (inner) product](#linalgvectordot)\n",
    "        - [Orthogonality](#linalgvectorortho)\n",
    "        - [Cross product](#linalgvectorcross)\n",
    "    - [Matrices](#linalgmatrix)\n",
    "        - [Intro](#linalgmatrixintro)\n",
    "        - [Set of all matrices](#linalgmatrixset)\n",
    "        - [Addition/Subtraction](#linalgmatrixadd)\n",
    "        - [Scalar multiplication](#linalgmatrixscalmul)\n",
    "        - [Matrix multiplication](#linalgmatrixmatmul)\n",
    "        - [Identitiy matrix and Kronecker delta](#linalgmatrixkron)\n",
    "        - [Inverse](#linalgmatrixinv)\n",
    "        - [Pseudoinverse](#linalgmatrixpinv)\n",
    "        - [Hadamard product](#linalgmatrixhadprod)\n",
    "        - [Matrix of all 1s](#linalgmatrixones)"
   ]
  },
  {
   "cell_type": "markdown",
   "id": "binding-clearance",
   "metadata": {},
   "source": [
    "## Importing Libraries"
   ]
  },
  {
   "cell_type": "code",
   "execution_count": 1,
   "id": "soviet-genetics",
   "metadata": {},
   "outputs": [],
   "source": [
    "import random\n",
    "import math\n",
    "import collections\n",
    "import itertools\n",
    "\n",
    "def get_rand_num_btw(n):\n",
    "    '''\n",
    "    Returns a random number between -n and n\n",
    "    '''\n",
    "    return round(random.random()*random.randint(-n,n), 4)"
   ]
  },
  {
   "cell_type": "markdown",
   "id": "liquid-morocco",
   "metadata": {},
   "source": [
    "<a id='linalg'></a>\n",
    "<a id='linalgvector'></a>\n",
    "<a id='linalgvectorintro'></a>"
   ]
  },
  {
   "cell_type": "markdown",
   "id": "little-coupon",
   "metadata": {},
   "source": [
    "---\n",
    "\n",
    "<u>**Vectors**</u>\n",
    "\n",
    "<u>**Introduction**</u>\n",
    "\n",
    "A (real) vector is a representation of $n$ real numbers in a single column (may be represented in a single row for notational convenience):\n",
    "\n",
    "$$\n",
    "\\mathbf{x} = \\vec{x} = \\underline{x} = x =  \\begin{bmatrix}\n",
    "x_1 \\\\\n",
    "x_2 \\\\\n",
    "x_3 \\\\\n",
    "\\vdots \\\\\n",
    "x_n\n",
    "\\end{bmatrix}\t\n",
    "$$\n",
    "\n",
    "\n",
    "Vectors are often denoted using bold lower case letters such as $\\mathbf{v}$, but can also be denoted using an arrow on top of a normal case letter such as $\\vec{v}$. Some authors may also denote them with a tilde underline such as $\\underline{v}$, and some mathematicians may simply use a lower case normal case letter, $v$."
   ]
  },
  {
   "cell_type": "code",
   "execution_count": 2,
   "id": "opening-zealand",
   "metadata": {},
   "outputs": [
    {
     "name": "stdout",
     "output_type": "stream",
     "text": [
      "Length of vector:  6\n"
     ]
    },
    {
     "data": {
      "text/plain": [
       "[2, 3, 4, 10, -3, 5]"
      ]
     },
     "execution_count": 2,
     "metadata": {},
     "output_type": "execute_result"
    }
   ],
   "source": [
    "#x is a vector of length 6\n",
    "\n",
    "x = [2 ,3, 4, 10, -3, 5]\n",
    "\n",
    "print('Length of vector: ', len(x))\n",
    "x "
   ]
  },
  {
   "cell_type": "markdown",
   "id": "revolutionary-break",
   "metadata": {},
   "source": [
    "<a id='linalgvectorset'></a>"
   ]
  },
  {
   "cell_type": "markdown",
   "id": "finnish-professional",
   "metadata": {},
   "source": [
    "---\n",
    "\n",
    "<u>**Set of all vectos**</u>\n",
    "\n",
    "The set of all real vectors of length $n$ real numbers is denoted $$\\mathbb{R}^n$$\n",
    "\n",
    "The set of all complex vectors of length $n$ complex numbers is denoted $$\\mathbb{C}^n$$\n",
    "\n",
    "**Please see Numbers notebook for a higher dimensional numbers set perspective of this concept**"
   ]
  },
  {
   "cell_type": "code",
   "execution_count": 3,
   "id": "congressional-accessory",
   "metadata": {},
   "outputs": [
    {
     "data": {
      "text/plain": [
       "{(-6.7952, -3.603, -0.6503),\n",
       " (-3.8363, 1.6039, 3.3042),\n",
       " (-2.9096, 5.9722, 0.142),\n",
       " (-0.7459, 3.2968, 1.9025),\n",
       " (0.6952, -4.1018, 0.6324),\n",
       " (1.9636, 1.734, 2.6788),\n",
       " (3.6487, -6.1951, -1.3027),\n",
       " (4.2936, -2.449, -1.1663),\n",
       " (4.9591, 5.8674, 5.4096),\n",
       " (7.1841, 4.8005, -3.7351)}"
      ]
     },
     "execution_count": 3,
     "metadata": {},
     "output_type": "execute_result"
    }
   ],
   "source": [
    "#Small subset from R^3, each 3-tuple in the set is a single vector\n",
    "\n",
    "no_of_samples = 10 #To find the real R^3 set we would set no_of_samples to infinity and randint(-infinity, infinity)\n",
    "n = 3\n",
    "\n",
    "R_n = set([ tuple([get_rand_num_btw(10) for i in range(n)])  for j in range(no_of_samples)])\n",
    "# Written in an obtuse manner for ease of printing \n",
    "# while keeping things accurate from a mathematical perspective\n",
    "\n",
    "R_n"
   ]
  },
  {
   "cell_type": "markdown",
   "id": "electric-logging",
   "metadata": {},
   "source": [
    "<a id='linalgvectorphys'></a>"
   ]
  },
  {
   "cell_type": "markdown",
   "id": "casual-princess",
   "metadata": {},
   "source": [
    "---\n",
    "\n",
    "<u>**Physical quantities and basis vectors**</u>\n",
    "\n",
    "Vectors that are used to represent physical quantities such as displacement, velocities, forces etc are typically represented in three dimensions due to the use of Euclidean space and hence are elements of $\\mathbb{R}^3$ (See [Set of all vectors](#linalgvectorset)).\n",
    "\n",
    "Such vectors are often expressed using basis vectors or $\\mathbf{i}-\\mathbf{j}-\\mathbf{k}$ cordinates. These basis vectors are defined as:\n",
    "\n",
    "$$\n",
    "\\mathbf{i} = \\begin{bmatrix}\n",
    "1 \\\\\n",
    "0 \\\\\n",
    "0\n",
    "\\end{bmatrix}, \n",
    "\\mathbf{j} = \\begin{bmatrix}\n",
    "0 \\\\\n",
    "1 \\\\\n",
    "0\n",
    "\\end{bmatrix}, \n",
    "\\mathbf{k} = \\begin{bmatrix}\n",
    "0 \\\\\n",
    "0 \\\\\n",
    "1\n",
    "\\end{bmatrix}$$\n",
    "\n",
    "Basis vectors (or *unit vectors* in general) have magnitude 1 (See [Magnitude or Norm of a vector](#linalgvectornorm)) and can also be denoted using hats on top of the letters $\\mathbf{\\hat{i}}$ such that:\n",
    "\n",
    "$$\n",
    "\\mathbf{\\hat{i}} = \\begin{bmatrix}\n",
    "1 \\\\\n",
    "0 \\\\\n",
    "0\n",
    "\\end{bmatrix}, \n",
    "\\mathbf{\\hat{j}} = \\begin{bmatrix}\n",
    "0 \\\\\n",
    "1 \\\\\n",
    "0\n",
    "\\end{bmatrix}, \n",
    "\\mathbf{\\hat{k}} = \\begin{bmatrix}\n",
    "0 \\\\\n",
    "0 \\\\\n",
    "1\n",
    "\\end{bmatrix}$$\n",
    "\n",
    "\n",
    "\n",
    "The basis vectors can then be used to represent a three dimensional vector $\\mathbf{v} = \\begin{bmatrix}\n",
    "a \\\\\n",
    "b \\\\\n",
    "c\n",
    "\\end{bmatrix}$ as:\n",
    "\n",
    "$$ \n",
    "\\mathbf{v} = a \\mathbf{\\hat{i}} + b \\mathbf{\\hat{j}} + c \\mathbf{\\hat{k}} \n",
    "$$\n",
    "\n"
   ]
  },
  {
   "cell_type": "code",
   "execution_count": 4,
   "id": "empirical-bradford",
   "metadata": {},
   "outputs": [
    {
     "data": {
      "text/plain": [
       "([2, 3, 4], [2, 3, 4])"
      ]
     },
     "execution_count": 4,
     "metadata": {},
     "output_type": "execute_result"
    }
   ],
   "source": [
    "v = [2, 3, 4]\n",
    "\n",
    "i = [1,0,0]\n",
    "j = [0,1,0]\n",
    "k = [0,0,1]\n",
    "\n",
    "A = [i,\n",
    "     j,\n",
    "     k]\n",
    "\n",
    "new_v = [0,0,0] #Initializating\n",
    "\n",
    "for val in range(len(new_v)):\n",
    "    new_v[val] = sum([ a*v[idx] for idx, a in enumerate(A[val])])\n",
    "\n",
    "v, new_v"
   ]
  },
  {
   "cell_type": "markdown",
   "id": "historical-length",
   "metadata": {},
   "source": [
    "In $\\mathbb{R}^n$ the standard basis vectors are denoted using: $\\mathbf{e}_1, \\mathbf{e}_2, \\ldots ,\\mathbf{e}_n$ where $\\mathbf{e}_j$ is a vector with all 0s except for a single 1 at position $j$ such that the norm of each basis vector is 1 and are called *unit vectors*. (See [Magnitude or Norm of a vector](#linalgvectornorm)) \n",
    "\n",
    "$$\n",
    "\\mathbf{\\hat{e}_1} = \\begin{bmatrix}\n",
    "1 \\\\\n",
    "0 \\\\\n",
    "\\vdots \\\\\n",
    "0 \\\\\n",
    "0\n",
    "\\end{bmatrix}, \n",
    "\\mathbf{\\hat{e}_2} = \\begin{bmatrix}\n",
    "0 \\\\\n",
    "1 \\\\\n",
    "\\vdots \\\\\n",
    "0 \\\\\n",
    "0\n",
    "\\end{bmatrix}, \\ldots, \n",
    "\\mathbf{\\hat{e}_{n-1}} = \\begin{bmatrix}\n",
    "0 \\\\\n",
    "0 \\\\\n",
    "\\vdots \\\\\n",
    "1 \\\\\n",
    "0\n",
    "\\end{bmatrix},\n",
    "\\mathbf{\\hat{e}_n} = \\begin{bmatrix}\n",
    "0 \\\\\n",
    "0 \\\\\n",
    "\\vdots \\\\\n",
    "0 \\\\\n",
    "1\n",
    "\\end{bmatrix}$$\n",
    "\n",
    "$$ \n",
    "\\mathbf{v} = \\begin{bmatrix}\n",
    "v_1 \\\\\n",
    "v_2 \\\\\n",
    "\\vdots \\\\\n",
    "v_{n-1} \\\\\n",
    "v_n\n",
    "\\end{bmatrix},\n",
    "\\mathbf{v} = v_1 \\mathbf{\\hat{e}_1} +  v_2 \\mathbf{\\hat{e}_2} + \\ldots +  v_{n-1} \\mathbf{\\hat{e}_{n-1}} + v_n \\mathbf{\\hat{e}_n}\n",
    "$$\n",
    "\n"
   ]
  },
  {
   "cell_type": "markdown",
   "id": "communist-landing",
   "metadata": {},
   "source": [
    "<a id='linalgvectorzeroone'></a>"
   ]
  },
  {
   "cell_type": "markdown",
   "id": "crazy-damage",
   "metadata": {},
   "source": [
    "---\n",
    "\n",
    "<u>**All zero and one vectors**</u>\n",
    "\n",
    "A vector whose elements are all 0s are denoted using: $\\mathbf{0}$, $\\vec{0}$, or simply $0$, although $0$ is discouraged since it is difficult to distinguish it from the number 0.\n",
    "\n",
    "$$\n",
    "\\mathbf{0} = \\vec{0} = 0 =  \\begin{bmatrix}\n",
    "0 \\\\\n",
    "0 \\\\\n",
    "0 \\\\\n",
    "\\vdots \\\\\n",
    "0\n",
    "\\end{bmatrix}\t\n",
    "$$\n",
    "\n",
    "A vector whose elements are all 1s are denoted using: $\\mathbf{1}$, $\\vec{1}$, $\\mathbf{e}$ or $\\vec{e}$.\n",
    "\n",
    "$$\n",
    "\\mathbf{1} = \\vec{1} = \\mathbf{e} = \\vec{e} =  \\begin{bmatrix}\n",
    "1 \\\\\n",
    "1 \\\\\n",
    "1 \\\\\n",
    "\\vdots \\\\\n",
    "1\n",
    "\\end{bmatrix}\t\n",
    "$$"
   ]
  },
  {
   "cell_type": "code",
   "execution_count": 5,
   "id": "israeli-cover",
   "metadata": {},
   "outputs": [
    {
     "data": {
      "text/plain": [
       "([0, 0, 0, 0, 0, 0], [1, 1, 1, 1, 1, 1])"
      ]
     },
     "execution_count": 5,
     "metadata": {},
     "output_type": "execute_result"
    }
   ],
   "source": [
    "#All zero and all one vectors of length 6\n",
    "\n",
    "all_zero = [0,0,0,0,0,0]\n",
    "all_one = [1,1,1,1,1,1]\n",
    "\n",
    "all_zero, all_one"
   ]
  },
  {
   "cell_type": "markdown",
   "id": "resistant-guest",
   "metadata": {},
   "source": [
    "<a id='linalgvectorsum'></a>"
   ]
  },
  {
   "cell_type": "markdown",
   "id": "environmental-observer",
   "metadata": {},
   "source": [
    "---\n",
    "\n",
    "<u>**Vector sum**</u>\n",
    "\n",
    "Two (or more) vectors, say $\\mathbf{x}$ and $\\mathbf{y}$, of the same length, say $n$ numbers, can be summed and it is denoted:\n",
    "\n",
    "$$\\mathbf{x} + \\mathbf{y}$$"
   ]
  },
  {
   "cell_type": "code",
   "execution_count": 6,
   "id": "conditional-monday",
   "metadata": {},
   "outputs": [
    {
     "data": {
      "text/plain": [
       "[3, 11.5, 6, 0.5999999999999996, -3, 8.0]"
      ]
     },
     "execution_count": 6,
     "metadata": {},
     "output_type": "execute_result"
    }
   ],
   "source": [
    "x = [2 , 3.5, 4,  10.6, -3, 5.5]\n",
    "y = [1 , 8,   2, -10,    0, 2.5]\n",
    "\n",
    "sum_vec = [a + b for a,b in zip(x,y)] #x + y\n",
    "sum_vec"
   ]
  },
  {
   "cell_type": "markdown",
   "id": "laughing-width",
   "metadata": {},
   "source": [
    "<a id='linalgvectorscalmul'></a>"
   ]
  },
  {
   "cell_type": "markdown",
   "id": "accomplished-sense",
   "metadata": {},
   "source": [
    "---\n",
    "\n",
    "<u>**Scalar multiple**</u>\n",
    "\n",
    "The scalar multiple where a scalar $s$ is multiplied to a vector, $\\mathbf{x}$ is denoted:\n",
    "\n",
    "$$s\\mathbf{x}$$"
   ]
  },
  {
   "cell_type": "code",
   "execution_count": 7,
   "id": "dominican-memphis",
   "metadata": {},
   "outputs": [
    {
     "data": {
      "text/plain": [
       "[8, 14.0, 16, 42.4, -12, 22.0]"
      ]
     },
     "execution_count": 7,
     "metadata": {},
     "output_type": "execute_result"
    }
   ],
   "source": [
    "x = [2 , 3.5, 4,  10.6, -3, 5.5]\n",
    "s = 4\n",
    "\n",
    "scal_mul = [s*a for a in x] #sx\n",
    "scal_mul"
   ]
  },
  {
   "cell_type": "markdown",
   "id": "refined-beast",
   "metadata": {},
   "source": [
    "<a id='linalgvectornorm'></a>"
   ]
  },
  {
   "cell_type": "markdown",
   "id": "documented-intellectual",
   "metadata": {},
   "source": [
    "---\n",
    "\n",
    "<u>**Magnitude or Norm of a vector**</u>\n",
    "\n",
    "The magnitude or norm of a vector \n",
    "$\\mathbf{x} = \\begin{bmatrix}\n",
    "x_1 \\\\\n",
    "x_2 \\\\\n",
    "x_3 \\\\\n",
    "\\vdots \\\\\n",
    "x_{n-1} \\\\\n",
    "x_n\n",
    "\\end{bmatrix}$ is denoted as:\n",
    "\n",
    "$$\\lVert \\mathbf{x} \\rVert = \\sqrt{x_1^2 + x_2^2 + \\ldots + x_{n-1}^2 + x_{n}^2}$$"
   ]
  },
  {
   "cell_type": "code",
   "execution_count": 8,
   "id": "criminal-ancient",
   "metadata": {},
   "outputs": [
    {
     "data": {
      "text/plain": [
       "5.0"
      ]
     },
     "execution_count": 8,
     "metadata": {},
     "output_type": "execute_result"
    }
   ],
   "source": [
    "x = [0, 4, 3]\n",
    "\n",
    "norm = math.sqrt(sum([a**2 for a in x]))\n",
    "\n",
    "norm"
   ]
  },
  {
   "cell_type": "markdown",
   "id": "imposed-growth",
   "metadata": {},
   "source": [
    "**Note 1:** This may also be called length of the vector by some authors in which case they are referring to the norm and not to the number of elements in the vector\n",
    "\n",
    "**Note 2:** Some authors use single bars instead of double bars to denote the norm. This may cause confusion when referring to absolute value which is part of the definition of norms in general (See [P-Norm of a vector](#linalgvectorpnorm)).\n",
    "\n",
    "$$| \\mathbf{x} | = \\sqrt{x_1^2 + x_2^2 + \\ldots + x_{n-1}^2 + x_{n}^2}$$\n",
    "\n",
    "**Note 3:** In general we can have $p$-norms but generally the $2$-norm is denoted without the $2$ explicitly, whereas the $1$-norm is denoted with the $1$ explcitly (See [P-Norm of a vector](#linalgvectorpnorm))\n",
    "\n",
    "$${\\lVert \\mathbf{x} \\rVert}_2 = \\lVert \\mathbf{x} \\rVert$$\n",
    "$${\\lVert \\mathbf{x} \\rVert}_1 \\ne \\lVert \\mathbf{x} \\rVert$$\n",
    "\n",
    "\n",
    "\n",
    "**Note 4:** For complex vectors it is better to look at the general definition of the norm, which is the p-norm (See [P-Norm of a vector](#linalgvectorpnorm))\n"
   ]
  },
  {
   "cell_type": "markdown",
   "id": "spoken-learning",
   "metadata": {},
   "source": [
    "<a id='linalgvectorpnorm'></a>"
   ]
  },
  {
   "cell_type": "markdown",
   "id": "spread-assistant",
   "metadata": {},
   "source": [
    "---\n",
    "\n",
    "<u>**P-Norm of a vector**</u>\n",
    "\n",
    "This is the generalization of the concept of the magnitude or norm (See [Magnitude or Norm of a vector](#linalgvectornorm)). \n",
    "\n",
    "For a positive real number $p$, the $p$-norm of vector $\\mathbf{x} = \\begin{bmatrix}\n",
    "x_1 \\\\\n",
    "x_2 \\\\\n",
    "x_3 \\\\\n",
    "\\vdots \\\\\n",
    "x_{n-1} \\\\\n",
    "x_n\n",
    "\\end{bmatrix}$ is: \n",
    "\n",
    "$$ {\\lVert x \\rVert}_p = {\\big[{|x_1|}^p + {|x_2|}^p + \\ldots + {|x_{n-1}|}^p + {|x_n|}^p \\big]}^{1/p} $$\n",
    "\n",
    "where $|x_j|$ denotes absolute value"
   ]
  },
  {
   "cell_type": "code",
   "execution_count": 9,
   "id": "related-giant",
   "metadata": {},
   "outputs": [
    {
     "data": {
      "text/plain": [
       "('p: ', 2, 'x: ', [0, 4, 3], 'pnorm: ', 5.0)"
      ]
     },
     "execution_count": 9,
     "metadata": {},
     "output_type": "execute_result"
    }
   ],
   "source": [
    "x = [0, 4, 3]\n",
    "p = 2\n",
    "\n",
    "pnorm = math.pow(sum([abs(a)**p for a in x]), 1/p)\n",
    "\n",
    "'p: ', p,'x: ', x,'pnorm: ', pnorm"
   ]
  },
  {
   "cell_type": "markdown",
   "id": "private-darwin",
   "metadata": {},
   "source": [
    "<a id='linalgvectordiffnorm'></a>"
   ]
  },
  {
   "cell_type": "markdown",
   "id": "synthetic-bronze",
   "metadata": {},
   "source": [
    "---\n",
    "\n",
    "<u>**Manhattan, Euclidean, Absolute Value, and Infinity Norm**</u>\n",
    "\n",
    "From the generalization of the $p$-norm, some specific values of $p$ can have many applications in various fields and so certain values of $p$-norm have special names. (See [P-Norm of a vector](#linalgvectorpnorm))\n",
    "\n",
    "For the explanations assume a vector $\\mathbf{x} = \\begin{bmatrix}\n",
    "x_1 \\\\\n",
    "x_2 \\\\\n",
    "x_3 \\\\\n",
    "\\vdots \\\\\n",
    "x_{n-1} \\\\\n",
    "x_n\n",
    "\\end{bmatrix}$\n",
    "\n",
    "When $p = 1$, this norm is called the Manhattan norm or the Taxicab norm or the $\\ell^1$ norm (pronounced ell 1).\n",
    "\n",
    "$$\n",
    "{\\lVert \\mathbf{x} \\rVert}_1 = |x_1| + |x_1| + \\ldots + |x_{n-1}| + |x_n| = \\sum_{i=1}^{n} |x_i|\n",
    "$$\n",
    "\n",
    "When $p = 2$, this is called the Euclidean norm, or magnitude of a vector or the $\\ell^2$ norm or simply the norm of the vector (See [Magnitude or Norm of a vector](#linalgvectornorm)). This is generally denoted without the subscript $2$.\n",
    "\n",
    "$${\\lVert \\mathbf{x} \\rVert}_2 = \\lVert \\mathbf{x} \\rVert = \\sqrt{x_1^2 + x_2^2 + \\ldots + x_{n-1}^2 + x_{n}^2} = \\sqrt{\\sum_{i=1}^{n} x^2_i}$$\n",
    "\n",
    "When $p = \\infty$, this is called the Infinity norm or Maximum norm and is defined as:\n",
    "\n",
    "$$ {\\lVert \\mathbf{x} \\rVert}_{\\infty} = \\max \\big\\{ |x_1|,|x_1|, \\ldots ,|x_{n-1}|,|x_n| \\big\\}$$ \n",
    "\n",
    "If the vector is one dimensional (a scalar), the p-norm of the vector is the absolute value. In the example below, the one dimensional vector is not denoted using bold face indicating it is a scalar.\n",
    "\n",
    "$$ \\lVert x \\rVert = |x|$$\n"
   ]
  },
  {
   "cell_type": "code",
   "execution_count": 10,
   "id": "atlantic-suite",
   "metadata": {},
   "outputs": [
    {
     "name": "stdout",
     "output_type": "stream",
     "text": [
      "x:  [0, 3, 4]\n",
      "p is 1\n",
      "The Manhattan norm is 7.0\n",
      "\n",
      "x:  [0, 3, 4]\n",
      "p is 2\n",
      "The Euclidean norm is 5.0\n",
      "\n",
      "x:  [0, 3, 4]\n",
      "p is 3\n",
      "The 3 norm is 4.5\n",
      "\n",
      "x:  [0, 3, 4]\n",
      "p is inf\n",
      "The Infinity norm is 4\n",
      "\n",
      "x:  [-4]\n",
      "p is 3\n",
      "The Absolute value norm is 4.0\n",
      "\n"
     ]
    }
   ],
   "source": [
    "terms = {\n",
    "        1: 'Manhattan',\n",
    "        2: 'Euclidean',\n",
    "        'inf': 'Infinity'\n",
    "    }\n",
    "\n",
    "def norms(p, x, terms):\n",
    "    if p == 'inf':\n",
    "        norm = max([abs(a) for a in x]) #infinity norm\n",
    "    else:\n",
    "        norm = round( math.pow(sum([abs(a)**p for a in x]), 1/p) , 2) #general p-norm calc\n",
    "    \n",
    "    if len(x) == 1:\n",
    "        name = 'Absolute value' #one dimensional vector case\n",
    "    elif p in terms.keys():\n",
    "        name = terms[p]\n",
    "    else:\n",
    "        name = str(p)\n",
    "    print(f'The {name} norm is {norm}\\n')\n",
    "    \n",
    "x = [0,3,4]\n",
    "p = 1\n",
    "print('x: ', x)\n",
    "print('p is', p)\n",
    "norms(p, x, terms)\n",
    "\n",
    "p = 2\n",
    "print('x: ', x)\n",
    "print('p is', p)\n",
    "norms(p, x, terms)\n",
    "\n",
    "p = 3\n",
    "print('x: ', x)\n",
    "print('p is', p)\n",
    "norms(p, x, terms)\n",
    "\n",
    "p = 'inf'\n",
    "print('x: ', x)\n",
    "print('p is', p)\n",
    "norms(p, x, terms)\n",
    "\n",
    "x = [-4]\n",
    "p = 3\n",
    "print('x: ', x)\n",
    "print('p is', p)\n",
    "norms(p, x, terms)"
   ]
  },
  {
   "cell_type": "markdown",
   "id": "stock-error",
   "metadata": {},
   "source": [
    "<a id='linalgvectordot'></a>"
   ]
  },
  {
   "cell_type": "markdown",
   "id": "adverse-filling",
   "metadata": {},
   "source": [
    "---\n",
    "\n",
    "<u>**Dot (inner) product**</u>\n",
    "\n",
    "The inner product or dot product or elementwise multiplication of two vectors $\\mathbf{x} = \\begin{bmatrix}\n",
    "x_1 \\\\\n",
    "x_2 \\\\\n",
    "x_3 \\\\\n",
    "\\vdots \\\\\n",
    "x_{n-1} \\\\\n",
    "x_n\n",
    "\\end{bmatrix}$ and $\\mathbf{y} = \\begin{bmatrix}\n",
    "y_1 \\\\\n",
    "y_2 \\\\\n",
    "y_3 \\\\\n",
    "\\vdots \\\\\n",
    "y_{n-1} \\\\\n",
    "y_n\n",
    "\\end{bmatrix}$ is denoted as:\n",
    "\n",
    "$$ \\mathbf{x} \\cdot \\mathbf{y} = x_1 y_1 + x_2 y_2 + \\ldots + x_{n-1} y_{n-1} + x_n y_n = \\sum_{k=1}^{n} x_k y_k $$\n",
    "\n",
    "Sometimes, the bullet glyph is used to represent dot products $\\mathbf{x} \\bullet \\mathbf{y}$ and the smaller dot is used to represent multiplication in general\n",
    "\n",
    "$$ \\mathbf{x} \\bullet \\mathbf{y} = x_1 \\cdot y_1 + x_2 \\cdot y_2 + \\ldots + x_{n-1} \\cdot y_{n-1} + x_n \\cdot y_n  = \\sum_{k=1}^{n} x_k \\cdot y_k$$\n",
    "\n",
    "The dot product may also be denoted using angle brackets $\\langle \\mathbf{x}, \\mathbf{y} \\rangle$, or using the transpose notations $\\mathbf{x}^t \\mathbf{y} $ or $\\mathbf{x}^T \\mathbf{y} $ (See Transpose)\n",
    "\n",
    "\n",
    "If $\\mathbf{x}$ and $\\mathbf{y}$ are complex $n$-vectors, then often the dot product may be represented as:\n",
    "\n",
    "$$\\langle \\mathbf{x},\\mathbf{y} \\rangle = \\sum_{k=1}^{n} x_k \\overline{y_k}$$\n",
    "\n",
    "although some authors define it as:\n",
    "\n",
    "$$\\langle \\mathbf{x},\\mathbf{y} \\rangle = \\sum_{k=1}^{n} \\overline{x_k} y_k $$\n",
    "\n",
    "where $\\overline{x}$ denotes complex conjugate.\n",
    "\n",
    "**See the Numbers notebook to learn more about complex conjugate**"
   ]
  },
  {
   "cell_type": "code",
   "execution_count": 11,
   "id": "sought-injury",
   "metadata": {},
   "outputs": [
    {
     "data": {
      "text/plain": [
       "22"
      ]
     },
     "execution_count": 11,
     "metadata": {},
     "output_type": "execute_result"
    }
   ],
   "source": [
    "x = [2,3,6]\n",
    "y = [5,2,1]\n",
    "\n",
    "\n",
    "def dot_product(x,y):\n",
    "    return sum([a*b for a,b in zip(x,y)])\n",
    "\n",
    "x_dot_y = dot_product(x,y)\n",
    "x_dot_y"
   ]
  },
  {
   "cell_type": "markdown",
   "id": "swiss-trigger",
   "metadata": {},
   "source": [
    "**Note 1:** Some literature from the physics community also denote inner product as:\n",
    "\n",
    "$$\\langle \\mathbf{x} \\mid \\mathbf{y} \\rangle$$\n",
    "\n",
    "This is known as the *bra-ket* notation where the $\\langle x \\mid $ is the row vector called the bra-vector and the $\\mid y \\rangle $ is the column vector called the ket-vector.\n",
    "\n",
    "**Note 2:** The dot product of two vectors $\\mathbf{x}$ and $\\mathbf{y}$  (mostly in $\\mathbb{R}^2$ or $\\mathbb{R}^3$)  with angle $\\theta$ between them is calculated using the formula:\n",
    "\n",
    "$$ \\mathbf{x} \\cdot \\mathbf{y} = \\lVert \\mathbf{x} \\rVert  \\lVert \\mathbf{y} \\rVert \\cos \\theta $$\n",
    "\n",
    "See [Magnitude or Norm of a vector](#linalgvectornorm)\n",
    "\n",
    "**Note 3:** Inner products arise in a context beyond $\\mathbb{R}^n$ and $\\mathbb{C}^n$ such as in calculus where $f,g: \\mathbb{R} \\rightarrow \\mathbb{R}$ then\n",
    "\n",
    "$$\\langle f,g \\rangle = \\int_{-\\infty}^{\\infty} f(t)g(t) \\, dt $$\n",
    "\n",
    "**For function notations $f$ please see the Functions notebook**\n",
    "\n",
    "**For more information on the calculus perspective please see the Calculus notebook**"
   ]
  },
  {
   "cell_type": "markdown",
   "id": "suitable-auditor",
   "metadata": {},
   "source": [
    "---\n",
    "\n",
    "<u>**Orthogonality**</u>\n",
    "\n",
    "Two vectors are called orthogonal if their dot product is zero, which then can be denoted as:\n",
    "\n",
    "$$\\mathbf{x} \\perp \\mathbf{y}$$"
   ]
  },
  {
   "cell_type": "code",
   "execution_count": 12,
   "id": "graphic-following",
   "metadata": {
    "scrolled": true
   },
   "outputs": [
    {
     "name": "stdout",
     "output_type": "stream",
     "text": [
      "x  [2, -1, 0]\n",
      "y  [1, 2, 0]\n",
      "Is orthogonal:  True\n",
      "x  [5, 2, 0]\n",
      "y  [-3, -10, 0]\n",
      "Is orthogonal:  False\n"
     ]
    }
   ],
   "source": [
    "x = [ 2, -1, 0]\n",
    "y = [ 1, 2, 0]\n",
    "\n",
    "def is_orthogonal(x,y):\n",
    "    return round(dot_product(x,y), 4) == 0\n",
    "\n",
    "print('x ',x)\n",
    "print('y ',y)\n",
    "print('Is orthogonal: ',is_orthogonal(x,y))\n",
    "\n",
    "x = [ 5, 2, 0]\n",
    "y = [ -3, -10, 0]\n",
    "\n",
    "print('x ',x)\n",
    "print('y ',y)\n",
    "print('Is orthogonal: ',is_orthogonal(x,y))"
   ]
  },
  {
   "cell_type": "markdown",
   "id": "australian-advancement",
   "metadata": {},
   "source": [
    "The $\\perp$ symbol is also used to define subspaces of $\\mathbb{R}^n$. If $\\mathcal{V}$ is a subspace of $\\mathbb{R}^n$, then $\\mathcal{V}^{\\perp}$ is the set of vectors that are orthogonal to all vectors in $\\mathcal{V}$:\n",
    "\n",
    "$$\\mathcal{V}^{\\perp} = \\{ \\mathbf{x} \\in \\mathbb{R}^n \\mid \\forall \\mathbf{v} \\in \\mathcal{V}, \\mathbf{x} \\perp \\mathbf{v} \\}$$\n",
    "\n",
    "Then the subspace $\\mathcal{V}^{\\perp}$ is called the orthogonal complement of $\\mathcal{V}$\n",
    "\n",
    "**Please see the Logic notebook for more on the $\\forall$ notation**"
   ]
  },
  {
   "cell_type": "markdown",
   "id": "victorian-volunteer",
   "metadata": {},
   "source": [
    "<a id='linalgvectorcross'></a>"
   ]
  },
  {
   "cell_type": "markdown",
   "id": "together-rogers",
   "metadata": {},
   "source": [
    "---\n",
    "\n",
    "<u>**Cross product**</u>\n",
    "\n",
    "The cross product of two vectors, $\\mathbf{x} = \\begin{bmatrix}\n",
    "x_1 \\\\\n",
    "x_2 \\\\\n",
    "x_3 \\\\\n",
    "\\end{bmatrix}$ and $\\mathbf{y} = \\begin{bmatrix}\n",
    "y_1 \\\\\n",
    "y_2 \\\\\n",
    "y_3 \\\\\n",
    "\\end{bmatrix}$ such that $ \\mathbf{x},\\mathbf{y} \\in \\mathbb{R}^3$ is denoted as:\n",
    "\n",
    "$$\\mathbf{x} \\times \\mathbf{y} = \\begin{bmatrix}\n",
    "x_2 y_3 - x_3 y_2  \\\\\n",
    "x_3 y_1 - x_1 y_3 \\\\\n",
    "x_1 y_2 - x_2 y_1 \\\\\n",
    "\\end{bmatrix}$$\n",
    "\n",
    "The cross product is defined only for vectors in $\\mathbb{R}^3$\n",
    "\n",
    "In some applied mathematics and physics literature, the wedge glyph may be used to denote cross product:\n",
    "\n",
    "$$\\mathbf{x} \\wedge \\mathbf{y} = \\begin{bmatrix}\n",
    "x_2 y_3 - x_3 y_2  \\\\\n",
    "x_3 y_1 - x_1 y_3 \\\\\n",
    "x_1 y_2 - x_2 y_1 \\\\\n",
    "\\end{bmatrix}$$\n",
    "\n"
   ]
  },
  {
   "cell_type": "code",
   "execution_count": 13,
   "id": "accomplished-treat",
   "metadata": {},
   "outputs": [
    {
     "data": {
      "text/plain": [
       "[2, 0, -2]"
      ]
     },
     "execution_count": 13,
     "metadata": {},
     "output_type": "execute_result"
    }
   ],
   "source": [
    "X = [1,2,1]\n",
    "Y = [2,2,2]\n",
    "\n",
    "def rotate(A, rot):\n",
    "    \"Rotates a vector by 'rot' indices\"\n",
    "    B = collections.deque(A)\n",
    "    B.rotate(rot)\n",
    "    return list(B)\n",
    "\n",
    "cross_prod = [ a-b for a,b in zip(\n",
    "                                  [x*y for x,y in zip(rotate(X,-1),rotate(Y, 1))], #x2y3, x3y1, x1y2\n",
    "                                  [x*y for x,y in zip(rotate(X, 1),rotate(Y,-1))]  #x3y2, x1y3, x2y1\n",
    "                                 ) \n",
    "             ]\n",
    "\n",
    "cross_prod"
   ]
  },
  {
   "cell_type": "markdown",
   "id": "alike-stroke",
   "metadata": {},
   "source": [
    "**Note 1:** The cross product of two vectors $\\mathbf{x},\\mathbf{y} \\in \\mathbb{R}^3$  with angle $\\theta$ between them is calculated using the formula:\n",
    "\n",
    "$$ \\mathbf{x} \\times \\mathbf{y} = \\big(\\lVert \\mathbf{x} \\rVert  \\lVert \\mathbf{y} \\rVert \\sin \\theta \\big) \\hat{\\mathbf{n}} $$\n",
    "\n",
    "where $\\hat{\\mathbf{n}}$ is the unit vector that is perpendicular to the plane of $\\mathbf{x}$ and $\\mathbf{y}$ \n",
    "\n",
    "(See [Physical quantities and basis vectors](#linalgvectorphys) for more on unit vectors)"
   ]
  },
  {
   "cell_type": "markdown",
   "id": "automotive-poultry",
   "metadata": {},
   "source": [
    "<a id='linalgmatrix'></a>\n",
    "<a id='linalgmatrixintro'></a>"
   ]
  },
  {
   "cell_type": "markdown",
   "id": "sought-grammar",
   "metadata": {},
   "source": [
    "---\n",
    "\n",
    "<u>**Matrices**</u>\n",
    "\n",
    "<u>**Introduction**</u>\n",
    "\n",
    "A matrix is a rectangular array representation of numbers which is generally represented with $m$ rows and $n$ columns which would then be called a $m \\times n$ matrix. General notations for matrices denote the number of rows first and the number of columns second ($m$ rows $\\times$ $n$ columns). \n",
    "\n",
    "If $A$ is a $m \\times n$ matrix, the entry in the $i^{th}$ row and $j^{th}$ column is variously denoted as $A_{i,j}$ or $a_{i,j}$ or $[A]_{i,j}$. It is very common to omit the comma separating the subscripts such as: $a_{ij}$\n",
    "\n",
    "\n",
    "$$A_{m,n} = \n",
    "\\begin{bmatrix}\n",
    "a_{1,1} & a_{1,2} & \\cdots & a_{1,n} \\\\\n",
    "a_{2,1} & a_{2,2} & \\cdots & a_{2,n} \\\\\n",
    "\\vdots  & \\vdots  & \\ddots & \\vdots  \\\\\n",
    "a_{m,1} & a_{m,2} & \\cdots & a_{m,n} \n",
    "\\end{bmatrix}$$\n",
    "\n",
    "\n"
   ]
  },
  {
   "cell_type": "code",
   "execution_count": 14,
   "id": "amended-programming",
   "metadata": {},
   "outputs": [
    {
     "data": {
      "text/plain": [
       "[[0, 0, 0], [0, 0, 0], [0, 0, 0], [0, 0, 0], [0, 0, 0]]"
      ]
     },
     "execution_count": 14,
     "metadata": {},
     "output_type": "execute_result"
    }
   ],
   "source": [
    "m = 5\n",
    "n = 3\n",
    "\n",
    "B = [[0] * n] * m #Simple representation of matrix\n",
    "B"
   ]
  },
  {
   "cell_type": "code",
   "execution_count": 15,
   "id": "independent-austin",
   "metadata": {},
   "outputs": [
    {
     "name": "stdout",
     "output_type": "stream",
     "text": [
      "Matrix A, m by n:  4 by 3\n",
      "(-314.0496, -105.1346, -372.2748)\n",
      "\n",
      "\n",
      "(114.4316, -179.1842, -212.2181)\n",
      "\n",
      "\n",
      "(-870.9402, -48.4151, -9.2288)\n",
      "\n",
      "\n",
      "(395.6244, 2.6257, 9.3348)\n",
      "\n",
      "\n",
      "Element A_1_1\n",
      "-314.0496\n",
      "\n",
      "Matrix A represented as m-tuple by n-tuple\n"
     ]
    },
    {
     "data": {
      "text/plain": [
       "((-314.0496, -105.1346, -372.2748),\n",
       " (114.4316, -179.1842, -212.2181),\n",
       " (-870.9402, -48.4151, -9.2288),\n",
       " (395.6244, 2.6257, 9.3348))"
      ]
     },
     "execution_count": 15,
     "metadata": {},
     "output_type": "execute_result"
    }
   ],
   "source": [
    "class Matrix:\n",
    "    \n",
    "    def __init__(self, m=None, n=None, vals = None):\n",
    "        '''\n",
    "        Creates an m by n matrix as a m-tuple by n-tuple of elements\n",
    "        m: number of rows (if vals is specified this is autocalculated)\n",
    "        n: number of columns (if vals is specified this is autocalculated)\n",
    "        vals: matrix elements entered as list of lists or m-tuple by n-tuple. if unspecified\n",
    "              random elements are used as Matrix elements using user defined values of m and n\n",
    "        '''\n",
    "        \n",
    "        self.matrix_as_tup = tuple()\n",
    "        self.m = m\n",
    "        self.n = n\n",
    "        if vals is None:\n",
    "            self._init_matrix_rand()\n",
    "        else:\n",
    "            self._init_matrix(vals)\n",
    "            \n",
    "    def _init_matrix(self, vals):\n",
    "        '''\n",
    "        Saves matrix elements provided internally and calculates shapes\n",
    "        '''\n",
    "        self.matrix_as_tup = vals\n",
    "        self.m = len(vals)\n",
    "        assert all([(len(vals[0]) == len(i)) for i in vals]), 'Entered elements are of inconsistent shape'\n",
    "        self.n = len(vals[0])\n",
    "            \n",
    "    def _init_matrix_rand(self):\n",
    "        '''\n",
    "        Saves the matrix elements as m-tuple by n-tuple of elements\n",
    "        The tuple format is more appropriate for using with Python functions such as set() and for printing\n",
    "        '''\n",
    "        main_list = [ tuple([get_rand_num_btw(1000) for j in range(0, self.n)]) for i in range(0, self.m)]\n",
    "        self.matrix_as_tup = tuple(main_list)\n",
    "            \n",
    "    def show(self):\n",
    "        '''\n",
    "        Prints the matrix appropriately \n",
    "        '''\n",
    "        for i in self.matrix_as_tup:\n",
    "            print(i)\n",
    "            print('\\n')\n",
    "            \n",
    "    def ij(self,i,j):\n",
    "        '''\n",
    "        Prints the element in the i,j index\n",
    "        '''\n",
    "        print(self.matrix_as_tup[i-1][j-1])\n",
    "        \n",
    "    def transpose(self):\n",
    "        '''\n",
    "        Returns the transpose in a n-tuple by m-tuple of elements \n",
    "        (Used for Matrix multiplication and Transpose which is covered in later cells)\n",
    "        See Matrix multiplication and Transpose topics in this notebook for more info\n",
    "        '''\n",
    "        A = self.matrix_as_tup\n",
    "        A_transpose  = tuple([ tuple([i[j] for i in A])  for j in range(len(A[0]))  ])\n",
    "        return A_transpose\n",
    "    \n",
    "\n",
    "A = Matrix(4,3) #Initializing A as a 4 by 2 matrix\n",
    "print('Matrix A, m by n: ', A.m, 'by', A.n)\n",
    "A.show()\n",
    "print('Element A_1_1')\n",
    "A.ij(1,1) #Showing elelment A_1_1\n",
    "print('\\nMatrix A represented as m-tuple by n-tuple')\n",
    "A.matrix_as_tup"
   ]
  },
  {
   "cell_type": "markdown",
   "id": "technological-grain",
   "metadata": {},
   "source": [
    "**Note 1:** Vectors of $n$ elements can be represented as a $n \\times 1$ matrix (column vector) or a $1 \\times n$ matrix (row vector)"
   ]
  },
  {
   "cell_type": "code",
   "execution_count": 16,
   "id": "statutory-enforcement",
   "metadata": {},
   "outputs": [
    {
     "name": "stdout",
     "output_type": "stream",
     "text": [
      "Matrix A, m by n:  4 by 1\n",
      "(242.536,)\n",
      "\n",
      "\n",
      "(-9.9423,)\n",
      "\n",
      "\n",
      "(-269.4808,)\n",
      "\n",
      "\n",
      "(-177.432,)\n",
      "\n",
      "\n",
      "Matrix B, m by n:  1 by 4\n",
      "(-584.3114, 6.953, 311.0451, -665.2077)\n",
      "\n",
      "\n"
     ]
    }
   ],
   "source": [
    "A = Matrix(4,1) #Initializing A as a 4 by 1 matrix\n",
    "print('Matrix A, m by n: ', A.m, 'by', A.n)\n",
    "A.show()\n",
    "\n",
    "B = Matrix(1,4) #Initializing A as a 1 by 4 matrix\n",
    "print('Matrix B, m by n: ', B.m, 'by', B.n)\n",
    "B.show()\n"
   ]
  },
  {
   "cell_type": "markdown",
   "id": "bizarre-triple",
   "metadata": {},
   "source": [
    "**Note 2:** A *square matrix* has the same number of rows and columns, i.e, if $A$ is a square matrix, then shape of $A$ is such that $m = n$"
   ]
  },
  {
   "cell_type": "code",
   "execution_count": 17,
   "id": "brave-ballot",
   "metadata": {},
   "outputs": [
    {
     "name": "stdout",
     "output_type": "stream",
     "text": [
      "A is a square matrix of shape:  3 \n",
      "\n",
      "(-1.043, -419.5756, -3.7448)\n",
      "\n",
      "\n",
      "(306.8374, -8.1814, 69.1216)\n",
      "\n",
      "\n",
      "(-27.3624, -28.6883, -29.2813)\n",
      "\n",
      "\n"
     ]
    }
   ],
   "source": [
    "n = 3 \n",
    "A = Matrix(n,n)\n",
    "\n",
    "print('A is a square matrix of shape: ', n, '\\n')\n",
    "A.show()"
   ]
  },
  {
   "cell_type": "markdown",
   "id": "lesbian-platform",
   "metadata": {},
   "source": [
    "<a id='linalgmatrixset'></a>"
   ]
  },
  {
   "cell_type": "markdown",
   "id": "polished-prayer",
   "metadata": {},
   "source": [
    "---\n",
    "\n",
    "<u>**Set of all matrices**</u>\n",
    "\n",
    "The set of all real $m \\times n$ matrices is denoted $$\\mathbb{R}^{m \\times n}$$\n",
    "\n",
    "An alternative notation for the set of all real $n \\times n$ square matrices is $M_n (\\mathbb{R}) $ and for all real $m \\times n$ matrices is $M_{m , n} (\\mathbb{R}) $\n",
    "\n",
    "The set of all complex $m \\times n$ matrices is denoted $$\\mathbb{C}^{m \\times n}$$\n",
    "\n",
    "Similar to the set of real matrices, an alternative notation for the set of all complex $n \\times n$ square matrices is $M_n (\\mathbb{C}) $ and for all complex $m \\times n$ matrices is $M_{m , n} (\\mathbb{C}) $\n"
   ]
  },
  {
   "cell_type": "code",
   "execution_count": 18,
   "id": "rational-pendant",
   "metadata": {
    "scrolled": false
   },
   "outputs": [
    {
     "data": {
      "text/plain": [
       "{((-621.1111, -9.7891, -160.077),\n",
       "  (824.906, 68.6266, 317.2899),\n",
       "  (46.6241, 251.373, 358.1402)),\n",
       " ((-281.2533, -171.154, 608.7591),\n",
       "  (128.962, -100.8324, -847.4552),\n",
       "  (-318.8474, 447.2867, 504.6825)),\n",
       " ((-236.8259, 515.4795, 58.6588),\n",
       "  (22.7751, -176.0659, 175.7703),\n",
       "  (-775.5959, -542.1461, 136.6561)),\n",
       " ((-136.2908, -333.3301, -6.3185),\n",
       "  (-8.794, -135.9517, 552.4311),\n",
       "  (-98.9036, 222.7477, 75.3122)),\n",
       " ((-16.8663, -58.6808, 132.0301),\n",
       "  (-186.3243, -3.7374, -925.1627),\n",
       "  (-38.5313, 236.7743, -24.174)),\n",
       " ((-3.2604, -9.7981, -26.9266),\n",
       "  (321.0935, 236.5136, -369.0556),\n",
       "  (205.4645, 202.2741, -18.3566)),\n",
       " ((5.0416, 135.6025, 137.7701),\n",
       "  (328.2931, 261.7708, -125.6195),\n",
       "  (-61.7881, 597.374, -180.3508)),\n",
       " ((153.9607, -19.3922, 9.9897),\n",
       "  (4.0212, 30.4953, 128.7163),\n",
       "  (-5.5246, -32.3136, -8.7396)),\n",
       " ((180.0293, 281.7344, -597.4411),\n",
       "  (366.4575, 118.7888, -522.1223),\n",
       "  (321.5014, 613.7679, 348.3903)),\n",
       " ((468.9448, -52.3108, 219.228),\n",
       "  (-312.4136, -270.2789, 165.7023),\n",
       "  (228.8139, -203.855, -12.6638))}"
      ]
     },
     "execution_count": 18,
     "metadata": {},
     "output_type": "execute_result"
    }
   ],
   "source": [
    "#Small subset from R^(3x3), each element in the set is a single unique matrix of dimensions 3 by 3\n",
    "\n",
    "\n",
    "no_of_samples = 10 #To find the real R^(3x3) set we would set no_of_samples to infinity and randint(-infinity, infinity) in _init_matrix\n",
    "m,n = 3,3\n",
    "\n",
    "R_m_n = set([ Matrix(m,n).matrix_as_tup for _ in range(no_of_samples)])\n",
    "\n",
    "R_m_n"
   ]
  },
  {
   "cell_type": "markdown",
   "id": "exempt-playlist",
   "metadata": {},
   "source": [
    "<a id='linalgmatrixadd'></a>"
   ]
  },
  {
   "cell_type": "markdown",
   "id": "infinite-disabled",
   "metadata": {},
   "source": [
    "---\n",
    "\n",
    "<u>**Addition/Subtraction**</u>\n",
    "\n",
    "Matrices of the same shape may be added or subtracted wherin the $i,j$ entry of each of the matrices are individually added or subtracted such that $C  = A + B $ where $A, B$ are $m \\times n$ matrices, is effectively achieved by $$c_{i,j} = a_{i,j} + b_{i,j}$$\n"
   ]
  },
  {
   "cell_type": "code",
   "execution_count": 19,
   "id": "fifth-definition",
   "metadata": {},
   "outputs": [
    {
     "name": "stdout",
     "output_type": "stream",
     "text": [
      "Matrix A\n",
      "(1, 2, 3)\n",
      "\n",
      "\n",
      "(3, 4, 5)\n",
      "\n",
      "\n",
      "Matrix B\n",
      "(6, 7, 8)\n",
      "\n",
      "\n",
      "(8, 9, 10)\n",
      "\n",
      "\n",
      "\n",
      "Matrix C\n",
      "(7, 9, 11)\n",
      "\n",
      "\n",
      "(11, 13, 15)\n",
      "\n",
      "\n"
     ]
    }
   ],
   "source": [
    "def mat_add(A,B):\n",
    "    '''\n",
    "    Adds two matrices\n",
    "    '''\n",
    "    assert all([A.m == B.m, A.n == B.n]), 'Matrix shapes do not match'\n",
    "    m = A.m\n",
    "    n = A.n\n",
    "    matA = A.matrix_as_tup\n",
    "    matB = B.matrix_as_tup\n",
    "    matC = [ tuple([ a_ij + b_ij for a_ij, b_ij in zip(a_i,b_i)])  for a_i, b_i in zip(matA, matB) ]\n",
    "    \n",
    "    return Matrix(vals = tuple(matC))\n",
    "        \n",
    "A = Matrix(vals = ((1,2,3),(3,4,5)))\n",
    "print('Matrix A')\n",
    "A.show()\n",
    "\n",
    "\n",
    "    \n",
    "B = Matrix(vals = ((6,7,8),(8,9,10)))\n",
    "print('Matrix B')\n",
    "B.show()\n",
    "    \n",
    "C = mat_add(A,B)\n",
    "print('\\nMatrix C')\n",
    "C.show()\n",
    "\n"
   ]
  },
  {
   "cell_type": "markdown",
   "id": "signal-philosophy",
   "metadata": {},
   "source": [
    "<a id='linalgmatrixscalmul'></a>"
   ]
  },
  {
   "cell_type": "markdown",
   "id": "czech-reducing",
   "metadata": {},
   "source": [
    "---\n",
    "\n",
    "<u>**Scalar multiplication**</u>\n",
    "\n",
    "If A is a $m \\times n$ matrix and $r$ is a scalar, then $B = rA$ is a matrix of the same shape whose $i,j$ entry can each individually be calculated as:\n",
    "\n",
    "$$b_{i,j} = r a_{i,j}$$"
   ]
  },
  {
   "cell_type": "code",
   "execution_count": 20,
   "id": "acoustic-option",
   "metadata": {},
   "outputs": [
    {
     "name": "stdout",
     "output_type": "stream",
     "text": [
      "Matrix A\n",
      "(1, 2, 3)\n",
      "\n",
      "\n",
      "(3, 4, 5)\n",
      "\n",
      "\n",
      "r is:  10\n",
      "\n",
      "Matrix B\n",
      "(10, 20, 30)\n",
      "\n",
      "\n",
      "(30, 40, 50)\n",
      "\n",
      "\n"
     ]
    }
   ],
   "source": [
    "def scal_mul(r, A):\n",
    "    '''\n",
    "    Scalar multiplication\n",
    "    '''\n",
    "    matA = A.matrix_as_tup\n",
    "    matB = [ tuple([r*a_ij for a_ij in a_i]) for a_i in matA]\n",
    "    \n",
    "    return Matrix(vals = tuple(matB))\n",
    "\n",
    "A = Matrix(vals = ((1,2,3),(3,4,5)))\n",
    "print('Matrix A')\n",
    "A.show()\n",
    "\n",
    "r = 10\n",
    "print('r is: ', r)\n",
    "\n",
    "print('\\nMatrix B')\n",
    "B = scal_mul(r, A)\n",
    "B.show()"
   ]
  },
  {
   "cell_type": "markdown",
   "id": "korean-country",
   "metadata": {},
   "source": [
    "<a id='linalgmatrixmatmul'></a>"
   ]
  },
  {
   "cell_type": "markdown",
   "id": "viral-display",
   "metadata": {},
   "source": [
    "---\n",
    "\n",
    "<u>**Matrix multiplication**</u>\n",
    "\n",
    "If A is a $m \\times n$ matrix and B is a $n \\times p$ matrix, then they may be multiplied such that $C = AB$ where C will be a $ m \\times p$ matrix wherein the new matrix elements will be calculated as:\n",
    "\n",
    "$$c_{i,j} = \\sum_{k=1}^n a_{i,k}b_{k,j}$$"
   ]
  },
  {
   "cell_type": "code",
   "execution_count": 21,
   "id": "proved-essay",
   "metadata": {},
   "outputs": [
    {
     "name": "stdout",
     "output_type": "stream",
     "text": [
      "Matrix A\n",
      "[1, 2, 3]\n",
      "\n",
      "\n",
      "[4, 5, 6]\n",
      "\n",
      "\n",
      "Matrix B\n",
      "[1, 2]\n",
      "\n",
      "\n",
      "[3, 4]\n",
      "\n",
      "\n",
      "[5, 6]\n",
      "\n",
      "\n",
      "Matrix C = AB\n",
      "(22, 28)\n",
      "\n",
      "\n",
      "(49, 64)\n",
      "\n",
      "\n"
     ]
    }
   ],
   "source": [
    "def mat_mul(A,B):\n",
    "    '''\n",
    "    Matrix multiplication\n",
    "    '''\n",
    "    assert A.n == B.m, 'Matrix shapes are inconsistent and cannot be multiplied'\n",
    "    \n",
    "    matA = A.matrix_as_tup\n",
    "    matB = B.transpose() #See Transpose topic in this notebook, used in this function as a convenient \n",
    "                         #way to access b_kj in the below loop\n",
    "    \n",
    "    matC = [ tuple([ sum([ a_ik*b_kj for a_ik,b_kj in zip(a_i,b_j)]) for b_j in matB ]) for a_i in matA ]\n",
    "    \n",
    "    return Matrix(vals= tuple(matC))\n",
    "\n",
    "A = Matrix (vals = [[1,2,3],\n",
    "                    [4,5,6]])\n",
    "\n",
    "B = Matrix (vals = [[1,2],\n",
    "                    [3,4],\n",
    "                    [5,6]])\n",
    "\n",
    "print('Matrix A')\n",
    "A.show()\n",
    "print('Matrix B')\n",
    "B.show()\n",
    "print('Matrix C = AB')\n",
    "C = mat_mul(A,B)\n",
    "C.show()"
   ]
  },
  {
   "cell_type": "markdown",
   "id": "composite-distinction",
   "metadata": {},
   "source": [
    "<a id='linalgmatrixkron'></a>"
   ]
  },
  {
   "cell_type": "markdown",
   "id": "exact-italian",
   "metadata": {},
   "source": [
    "---\n",
    "\n",
    "<u>**Identity matrix and Kronecker delta**</u>\n",
    "\n",
    "The Identity matrix is an $n \\times n$ matrix whose diagonal elements are 1 and 0 otherwise and is denoted using just $I$ when the dimensions are understood by context, or $I_n$ when the number of dimensions must be explicitly specified:\n",
    "\n",
    "$$ I = I_n = \\begin{bmatrix}\n",
    "1 & 0 & \\cdots & 0 \\\\\n",
    "0 & 1 & \\cdots & 0 \\\\\n",
    "\\vdots  & \\vdots  & \\ddots & \\vdots  \\\\\n",
    "0 & 0 & \\cdots & 1 \n",
    "\\end{bmatrix}$$\n",
    "\n",
    "The Kronecker's delta $\\delta_{i,j}$ is used to represnt the $i,j$ element of an identity matrix. It can be very useful to represent the identity matrix element in general formulas since the value of the Kronecker delta is $1$ when $i = j$ and $0$ otherwise. It can also be denoted as $\\delta(i,j)$.\n",
    "\n",
    "$$\\delta_{i,j} = \\delta(i,j)= \\begin{cases}\n",
    "1,  & \\text{if $i = j$} \\\\\n",
    "0, & \\text{if $i \\ne j$}\n",
    "\\end{cases}$$\n",
    "\n",
    "**See the functions notebook for more on the piecewise function notation**"
   ]
  },
  {
   "cell_type": "code",
   "execution_count": 22,
   "id": "photographic-mapping",
   "metadata": {},
   "outputs": [
    {
     "name": "stdout",
     "output_type": "stream",
     "text": [
      "(1.0, 0.0, 0.0)\n",
      "\n",
      "\n",
      "(0.0, 1.0, 0.0)\n",
      "\n",
      "\n",
      "(0.0, 0.0, 1.0)\n",
      "\n",
      "\n"
     ]
    }
   ],
   "source": [
    "def get_identity_matrix(n):\n",
    "    '''\n",
    "    Returns an identity matrix of shape n\n",
    "    '''\n",
    "    id_mat_list = [ tuple([1.0 if i ==j else 0.0 for j in range(0, n)]) for i in range(0, n) ]\n",
    "    return Matrix(vals = tuple(id_mat_list))\n",
    "    \n",
    "I = get_identity_matrix(3)\n",
    "I.show()"
   ]
  },
  {
   "cell_type": "code",
   "execution_count": 23,
   "id": "accredited-macedonia",
   "metadata": {},
   "outputs": [
    {
     "data": {
      "text/plain": [
       "1.0"
      ]
     },
     "execution_count": 23,
     "metadata": {},
     "output_type": "execute_result"
    }
   ],
   "source": [
    "def kronecker_delta(i,j):\n",
    "    '''\n",
    "    Returns the appropriate value of the kronecker delta depending on i,j\n",
    "    '''\n",
    "    assert all([i>0, j>0]), 'Values of i and/or j are inappropriate'\n",
    "    return 1.0 if i==j else 0.0\n",
    "\n",
    "kronecker_delta(2,2)"
   ]
  },
  {
   "cell_type": "markdown",
   "id": "hourly-insight",
   "metadata": {},
   "source": [
    "<a id='linalgmatrixinv'></a>"
   ]
  },
  {
   "cell_type": "markdown",
   "id": "computational-sweden",
   "metadata": {},
   "source": [
    "---\n",
    "\n",
    "<u>**Inverse**</u>\n",
    "\n",
    "\n",
    "If $A$ and $B$ are square matrices such that $AB = I$, then $B$ is called the inverse of A and is denoted as $A^{-1}$.\n",
    "\n",
    "$$AA^{-1} = A^{-1}A = I $$\n",
    "\n",
    "where $A^{-1}$ is the inverse of $A$\n",
    "\n",
    "(See [Identitiy matrix and Kronecker delta](#linalgmatrixkron) for more info on $I$)"
   ]
  },
  {
   "cell_type": "code",
   "execution_count": 24,
   "id": "accepted-adventure",
   "metadata": {},
   "outputs": [
    {
     "name": "stdout",
     "output_type": "stream",
     "text": [
      "Matrix A\n",
      "[4, 7]\n",
      "\n",
      "\n",
      "[2, 6]\n",
      "\n",
      "\n",
      "Matrix B\n",
      "[0.6, -0.7]\n",
      "\n",
      "\n",
      "[-0.2, 0.4]\n",
      "\n",
      "\n",
      "Is B the inverse of A:  True\n"
     ]
    }
   ],
   "source": [
    "def round_Mvalues(A, digits):\n",
    "    '''\n",
    "    Rounds each element of a Matrix of shape m by n to nearest digits\n",
    "    '''\n",
    "    round_A = [ tuple([round(j, digits) for j in i]) for i in A.matrix_as_tup ]\n",
    "    return Matrix(vals = tuple(round_A))\n",
    "    \n",
    "\n",
    "\n",
    "def is_inverse(A,B):\n",
    "    '''\n",
    "    Returns True if B is the inverse of A \n",
    "    '''\n",
    "\n",
    "    C = mat_mul(A,B) #Matrix multiplication C = AB\n",
    "    roundedC = round_Mvalues(C, 2) #Round elements of C to second decimal place\n",
    "    \n",
    "    I = get_identity_matrix(C.n) #Identity matrix of the same shape as C\n",
    "    \n",
    "    return I.matrix_as_tup == roundedC.matrix_as_tup\n",
    "\n",
    "\n",
    "    \n",
    "A = Matrix( vals = [[4,7],\n",
    "                    [2,6]])\n",
    "\n",
    "B = Matrix( vals = [[.6, -.7],\n",
    "                    [-.2, .4]])\n",
    "\n",
    "print('Matrix A')\n",
    "A.show()\n",
    "\n",
    "print('Matrix B')\n",
    "B.show()\n",
    "\n",
    "print('Is B the inverse of A: ', is_inverse(A,B))\n"
   ]
  },
  {
   "cell_type": "markdown",
   "id": "laden-classroom",
   "metadata": {},
   "source": [
    "<a id='linalgmatrixpinv'></a>"
   ]
  },
  {
   "cell_type": "markdown",
   "id": "adequate-field",
   "metadata": {},
   "source": [
    "---\n",
    "\n",
    "<u>**Pseudoinverse**</u>\n",
    "\n",
    "\n",
    "The Moore-Penrose pseudoinverse of a Matrix $A$ is denoted as \n",
    "\n",
    "$$A^{+}$$\n",
    "\n",
    "**Note 1:** Although some authors also use $A^{\\dagger}$ for the pseudoinverse, this symbol is more often used to denote the conjugate transpose of $A$. (See Transpose in this notebook)\n"
   ]
  },
  {
   "cell_type": "markdown",
   "id": "nuclear-posting",
   "metadata": {},
   "source": [
    "<a id='linalgmatrixhadprod'></a>"
   ]
  },
  {
   "cell_type": "markdown",
   "id": "international-replication",
   "metadata": {},
   "source": [
    "---\n",
    "\n",
    "<u>**Hadamard product**</u>\n",
    "\n",
    "If $A$ and $B$ are two matrices of shape $m \\times n$, then the Hadamard product of $A$ and $B$ is a matrix $C$ also of shape $m \\times n$ consisting of the elementwise product such that $c_{ij} = a_{ij} b_{ij}$. It is denoted as:\n",
    "\n",
    "$$C = A \\circ B$$\n",
    "\n",
    "This is also called the elementwise product of matrices."
   ]
  },
  {
   "cell_type": "code",
   "execution_count": 25,
   "id": "pharmaceutical-hebrew",
   "metadata": {},
   "outputs": [
    {
     "name": "stdout",
     "output_type": "stream",
     "text": [
      "Matrix A\n",
      "[10, 20, 30]\n",
      "\n",
      "\n",
      "[15, 30, 45]\n",
      "\n",
      "\n",
      "Matrix B\n",
      "[2, 4, 6]\n",
      "\n",
      "\n",
      "[2, 4, 5]\n",
      "\n",
      "\n",
      "The hadamard product of A and B is:\n",
      "(20, 80, 180)\n",
      "\n",
      "\n",
      "(30, 120, 225)\n",
      "\n",
      "\n"
     ]
    }
   ],
   "source": [
    "def hadamard_product(A,B):\n",
    "    '''\n",
    "    Returns the Hadamard product of two matrices A and B\n",
    "    '''\n",
    "    assert all([A.n == B.n, A.m == B.m]), 'Matrix shapes are inconsistent and cannot be multiplied'\n",
    "    \n",
    "    matA = A.matrix_as_tup\n",
    "    matB = B.matrix_as_tup\n",
    "    matC = [ tuple([ a_ij*bij for a_ij, bij in zip(a_i, b_i)]) for a_i, b_i in zip(matA, matB) ]\n",
    "    \n",
    "    return Matrix(vals = tuple(matC))\n",
    "\n",
    "\n",
    "A = Matrix( vals = [[10,20,30],\n",
    "                    [15,30,45]])\n",
    "\n",
    "B = Matrix( vals = [[2,4,6],\n",
    "                    [2,4,5]])\n",
    "\n",
    "print('Matrix A')\n",
    "A.show()\n",
    "\n",
    "print('Matrix B')\n",
    "B.show()\n",
    "\n",
    "C = hadamard_product(A,B)\n",
    "\n",
    "print('The hadamard product of A and B is:')\n",
    "C.show()"
   ]
  },
  {
   "cell_type": "markdown",
   "id": "coordinated-beaver",
   "metadata": {},
   "source": [
    "<a id='linalgmatrixones'></a>"
   ]
  },
  {
   "cell_type": "markdown",
   "id": "applicable-shepherd",
   "metadata": {},
   "source": [
    "---\n",
    "\n",
    "<u>**Matrix of all 1s**</u>\n",
    "\n",
    "A matrix of all 1s is often denoted by $J$. $J_{m , n}$ denotes a matrix of shape $m \\times n$ whose elements are all 1's.\n",
    "\n",
    "$$ J = J_{m , n} = \\begin{bmatrix}\n",
    "1 & 1 & \\cdots & 1 \\\\\n",
    "1 & 1 & \\cdots & 1 \\\\\n",
    "\\vdots  & \\vdots  & \\ddots & \\vdots  \\\\\n",
    "1 & 1 & \\cdots & 1 \n",
    "\\end{bmatrix}$$"
   ]
  },
  {
   "cell_type": "code",
   "execution_count": 27,
   "id": "ranging-greenhouse",
   "metadata": {},
   "outputs": [
    {
     "name": "stdout",
     "output_type": "stream",
     "text": [
      "(1.0, 1.0, 1.0)\n",
      "\n",
      "\n",
      "(1.0, 1.0, 1.0)\n",
      "\n",
      "\n",
      "(1.0, 1.0, 1.0)\n",
      "\n",
      "\n",
      "(1.0, 1.0, 1.0)\n",
      "\n",
      "\n",
      "(1.0, 1.0, 1.0)\n",
      "\n",
      "\n"
     ]
    }
   ],
   "source": [
    "def matrix_all_ones(m,n):\n",
    "    '''\n",
    "    Returns a matrix of all ones with shape m by n\n",
    "    '''\n",
    "    matJ = [ tuple([ 1.0 for j in range(0, n)]) for i in range(0, m)]\n",
    "    return Matrix(vals = tuple(matJ))\n",
    "\n",
    "m = 5\n",
    "n = 3\n",
    "J = matrix_all_ones(m,n)\n",
    "J.show()"
   ]
  }
 ],
 "metadata": {
  "kernelspec": {
   "display_name": "Python 3",
   "language": "python",
   "name": "python3"
  },
  "language_info": {
   "codemirror_mode": {
    "name": "ipython",
    "version": 3
   },
   "file_extension": ".py",
   "mimetype": "text/x-python",
   "name": "python",
   "nbconvert_exporter": "python",
   "pygments_lexer": "ipython3",
   "version": "3.8.6"
  }
 },
 "nbformat": 4,
 "nbformat_minor": 5
}
