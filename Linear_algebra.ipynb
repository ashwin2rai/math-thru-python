{
 "cells": [
  {
   "cell_type": "markdown",
   "id": "optical-wound",
   "metadata": {},
   "source": [
    "## Notes\n",
    "\n",
    "1. The notebooks are largely self-contained, i.e, if you see a symbol there will be an explanation about it at some point in the notebook.\n",
    "    - Most often there will be links to the cell where the symbols are explained\n",
    "    - If the symbols are not explained in this notebook, a reference to the appropriate notebook will be provided\n",
    "    \n",
    "    \n",
    "2. **Github does a poor job of rendering this notebook**. The online render of this notebook is missing links, symbols, and notations are badly formatted. It is advised that you clone a local copy (or download the notebook) and open it locally.\n",
    "\n",
    "\n",
    "3. **See the Collections notebook before this notebook to gain familiarity with set notations**"
   ]
  },
  {
   "cell_type": "markdown",
   "id": "behavioral-drain",
   "metadata": {},
   "source": [
    "# Contents\n",
    "\n",
    "1. [Linear Algebra](#linalg)\n",
    "    - [Vectors](#linalgvector)\n",
    "        - [Intro](#linalgvectorintro)\n",
    "        - [Set of all vectors](#linalgvectorset)\n",
    "        - [Physical quantities and basis vectors](#linalgvectorphys)\n",
    "        - [All zero and one vectors](#linalgvectorzeroone)  \n",
    "        - [Sum](#linalgvectorsum)\n",
    "        - [Scalar Multiple](#linalgvectorscalmul)\n",
    "        - [Magnitude or Norm of a vector](#linalgvectornorm)\n",
    "        - [P-Norm of a vector](#linalgvectorpnorm)\n",
    "        - [Manhatten, Euclidean, Absolute Value, and Infinite Norm](#linalgvectordiffnorm)\n",
    "        - [Dot (inner) product](#linalgvectordot)\n",
    "        - [Orthogonality](#linalgvectorortho)"
   ]
  },
  {
   "cell_type": "markdown",
   "id": "binding-clearance",
   "metadata": {},
   "source": [
    "## Importing Libraries"
   ]
  },
  {
   "cell_type": "code",
   "execution_count": 1,
   "id": "soviet-genetics",
   "metadata": {},
   "outputs": [],
   "source": [
    "import random\n",
    "import math"
   ]
  },
  {
   "cell_type": "markdown",
   "id": "liquid-morocco",
   "metadata": {},
   "source": [
    "<a id='linalg'></a>\n",
    "<a id='linalgvector'></a>\n",
    "<a id='linalgvectorintro'></a>"
   ]
  },
  {
   "cell_type": "markdown",
   "id": "little-coupon",
   "metadata": {},
   "source": [
    "---\n",
    "\n",
    "<u>**Vectors**</u>\n",
    "\n",
    "<u>**Introduction**</u>\n",
    "\n",
    "A (real) vector is a representation of $n$ real numbers in a single column (may be represented in a single row for notational convenience):\n",
    "\n",
    "$$\n",
    "\\mathbf{x} = \\vec{x} = \\underline{x} = x =  \\begin{bmatrix}\n",
    "x_1 \\\\\n",
    "x_2 \\\\\n",
    "x_3 \\\\\n",
    "\\vdots \\\\\n",
    "x_n\n",
    "\\end{bmatrix}\t\n",
    "$$\n",
    "\n",
    "\n",
    "Vectors are often denoted using bold lower case letters such as $\\mathbf{v}$, but can also be denoted using an arrow on top of a normal case letter such as $\\vec{v}$. Some authors may also denote them with a tilde underline such as $\\underline{v}$, and some mathematicians may simply use a lower case normal case letter, $v$."
   ]
  },
  {
   "cell_type": "code",
   "execution_count": 2,
   "id": "opening-zealand",
   "metadata": {},
   "outputs": [
    {
     "name": "stdout",
     "output_type": "stream",
     "text": [
      "Length of vector:  6\n"
     ]
    },
    {
     "data": {
      "text/plain": [
       "[2, 3, 4, 10, -3, 5]"
      ]
     },
     "execution_count": 2,
     "metadata": {},
     "output_type": "execute_result"
    }
   ],
   "source": [
    "#x is a vector of length 6\n",
    "\n",
    "x = [2 ,3, 4, 10, -3, 5]\n",
    "\n",
    "print('Length of vector: ', len(x))\n",
    "x "
   ]
  },
  {
   "cell_type": "markdown",
   "id": "revolutionary-break",
   "metadata": {},
   "source": [
    "<a id='linalgvectorset'></a>"
   ]
  },
  {
   "cell_type": "markdown",
   "id": "finnish-professional",
   "metadata": {},
   "source": [
    "---\n",
    "\n",
    "<u>**Set of all vectos**</u>\n",
    "\n",
    "The set of all real vectors of length $n$ real numbers is denoted $$\\mathbb{R}^n$$\n",
    "\n",
    "The set of all complex vectors of length $n$ complex numbers is denoted $$\\mathbb{C}^n$$\n",
    "\n",
    "**Please see Numbers notebook for a higher dimensional numbers set perspective of this concept**"
   ]
  },
  {
   "cell_type": "code",
   "execution_count": 3,
   "id": "congressional-accessory",
   "metadata": {},
   "outputs": [
    {
     "data": {
      "text/plain": [
       "[[1.8762883741177219, 2.2105765767501566, 0.25076336903256724],\n",
       " [0.0034944354312358428, 1.5986981291478997, 1.9882777683924275],\n",
       " [1.6066455417128411, 1.4069512154426411, 7.391100775142202],\n",
       " [5.103228309067136, 1.0539997734890807, 0.5303202951302173],\n",
       " [6.55222109819897, 2.299887896328306, 1.9141789002370952],\n",
       " [2.6505738166968036, 6.455634006479866, 5.77733110646542],\n",
       " [1.4557139225263231, 1.250561944233838, 2.6598435672899456],\n",
       " [3.8722246443650183, 5.597801341976427, 7.356757587990027],\n",
       " [4.416540788979773, 2.556006545563043, 2.301511720262167],\n",
       " [2.9281073994258575, 2.494572976591532, 0.44130218828767154]]"
      ]
     },
     "execution_count": 3,
     "metadata": {},
     "output_type": "execute_result"
    }
   ],
   "source": [
    "#Small subset from R^3, each 3 element list is a single vector\n",
    "\n",
    "no_of_samples = 10\n",
    "n = 3\n",
    "\n",
    "R_n = [ [random.random()*random.randint(1,10) for i in range(n)]  for j in range(no_of_samples) ]\n",
    "\n",
    "R_n"
   ]
  },
  {
   "cell_type": "markdown",
   "id": "electric-logging",
   "metadata": {},
   "source": [
    "<a id='linalgvectorphys'></a>"
   ]
  },
  {
   "cell_type": "markdown",
   "id": "casual-princess",
   "metadata": {},
   "source": [
    "---\n",
    "\n",
    "<u>**Physical quantities and basis vectors**</u>\n",
    "\n",
    "Vectors that are used to represent physical quantities such as displacement, velocities, forces etc are typically represented in three dimensions due to the use of Euclidean space and hence are elements of $\\mathbb{R}^3$ (See [Set of all vectors](#linalgvectorset)).\n",
    "\n",
    "Such vectors are often expressed using basis vectors or $\\mathbf{i}-\\mathbf{j}-\\mathbf{k}$ cordinates. These basis vectors are defined as:\n",
    "\n",
    "$$\n",
    "\\mathbf{i} = \\begin{bmatrix}\n",
    "1 \\\\\n",
    "0 \\\\\n",
    "0\n",
    "\\end{bmatrix}, \n",
    "\\mathbf{j} = \\begin{bmatrix}\n",
    "0 \\\\\n",
    "1 \\\\\n",
    "0\n",
    "\\end{bmatrix}, \n",
    "\\mathbf{k} = \\begin{bmatrix}\n",
    "0 \\\\\n",
    "0 \\\\\n",
    "1\n",
    "\\end{bmatrix}$$\n",
    "\n",
    "Basis vectors (or *unit vectors* in general) can also be denoted using hats on top of the letters $\\mathbf{\\hat{i}}$ such that:\n",
    "\n",
    "$$\n",
    "\\mathbf{\\hat{i}} = \\begin{bmatrix}\n",
    "1 \\\\\n",
    "0 \\\\\n",
    "0\n",
    "\\end{bmatrix}, \n",
    "\\mathbf{\\hat{j}} = \\begin{bmatrix}\n",
    "0 \\\\\n",
    "1 \\\\\n",
    "0\n",
    "\\end{bmatrix}, \n",
    "\\mathbf{\\hat{k}} = \\begin{bmatrix}\n",
    "0 \\\\\n",
    "0 \\\\\n",
    "1\n",
    "\\end{bmatrix}$$\n",
    "\n",
    "\n",
    "\n",
    "The basis vectors can then be used to represent a three dimensional vector $\\mathbf{v} = \\begin{bmatrix}\n",
    "a \\\\\n",
    "b \\\\\n",
    "c\n",
    "\\end{bmatrix}$ as:\n",
    "\n",
    "$$ \n",
    "\\mathbf{v} = a \\mathbf{\\hat{i}} + b \\mathbf{\\hat{j}} + c \\mathbf{\\hat{k}} \n",
    "$$\n",
    "\n"
   ]
  },
  {
   "cell_type": "code",
   "execution_count": 4,
   "id": "empirical-bradford",
   "metadata": {},
   "outputs": [
    {
     "data": {
      "text/plain": [
       "([2, 3, 4], [2, 3, 4])"
      ]
     },
     "execution_count": 4,
     "metadata": {},
     "output_type": "execute_result"
    }
   ],
   "source": [
    "v = [2, 3, 4]\n",
    "\n",
    "i = [1,0,0]\n",
    "j = [0,1,0]\n",
    "k = [0,0,1]\n",
    "\n",
    "A = [i,\n",
    "     j,\n",
    "     k]\n",
    "\n",
    "new_v = [0,0,0] #Initializating\n",
    "\n",
    "for val in range(len(new_v)):\n",
    "    new_v[val] = sum([ a*v[idx] for idx, a in enumerate(A[val])])\n",
    "\n",
    "v, new_v"
   ]
  },
  {
   "cell_type": "markdown",
   "id": "historical-length",
   "metadata": {},
   "source": [
    "In $\\mathbb{R}^n$ the standard basis vectors are denoted using: $\\mathbf{e}_1, \\mathbf{e}_2, \\ldots ,\\mathbf{e}_n$ where $\\mathbf{e}_j$ is a vector with all 0s except for a single 1 at position $j$ such that the norm of each basis vector is 1 and are called *unit vectors*. (See [Magnitude or Norm of a vector](#linalgvectornorm)) \n",
    "\n",
    "$$\n",
    "\\mathbf{\\hat{e}_1} = \\begin{bmatrix}\n",
    "1 \\\\\n",
    "0 \\\\\n",
    "\\vdots \\\\\n",
    "0 \\\\\n",
    "0\n",
    "\\end{bmatrix}, \n",
    "\\mathbf{\\hat{e}_2} = \\begin{bmatrix}\n",
    "0 \\\\\n",
    "1 \\\\\n",
    "\\vdots \\\\\n",
    "0 \\\\\n",
    "0\n",
    "\\end{bmatrix}, \\ldots, \n",
    "\\mathbf{\\hat{e}_{n-1}} = \\begin{bmatrix}\n",
    "0 \\\\\n",
    "0 \\\\\n",
    "\\vdots \\\\\n",
    "1 \\\\\n",
    "0\n",
    "\\end{bmatrix},\n",
    "\\mathbf{\\hat{e}_n} = \\begin{bmatrix}\n",
    "0 \\\\\n",
    "0 \\\\\n",
    "\\vdots \\\\\n",
    "0 \\\\\n",
    "1\n",
    "\\end{bmatrix}$$\n",
    "\n",
    "$$ \n",
    "\\mathbf{v} = \\begin{bmatrix}\n",
    "v_1 \\\\\n",
    "v_2 \\\\\n",
    "\\vdots \\\\\n",
    "v_{n-1} \\\\\n",
    "v_n\n",
    "\\end{bmatrix},\n",
    "\\mathbf{v} = v_1 \\mathbf{\\hat{e}_1} +  v_2 \\mathbf{\\hat{e}_2} + \\ldots +  v_{n-1} \\mathbf{\\hat{e}_{n-1}} + v_n \\mathbf{\\hat{e}_n}\n",
    "$$\n",
    "\n"
   ]
  },
  {
   "cell_type": "markdown",
   "id": "communist-landing",
   "metadata": {},
   "source": [
    "<a id='linalgvectorzeroone'></a>"
   ]
  },
  {
   "cell_type": "markdown",
   "id": "crazy-damage",
   "metadata": {},
   "source": [
    "---\n",
    "\n",
    "<u>**All zero and one vectors**</u>\n",
    "\n",
    "A vector whose elements are all 0s are denoted using: $\\mathbf{0}$, $\\vec{0}$, or simply $0$, although $0$ is discouraged since it is difficult to distinguish it from the number 0.\n",
    "\n",
    "$$\n",
    "\\mathbf{0} = \\vec{0} = 0 =  \\begin{bmatrix}\n",
    "0 \\\\\n",
    "0 \\\\\n",
    "0 \\\\\n",
    "\\vdots \\\\\n",
    "0\n",
    "\\end{bmatrix}\t\n",
    "$$\n",
    "\n",
    "A vector whose elements are all 1s are denoted using: $\\mathbf{1}$, $\\vec{1}$, $\\mathbf{e}$ or $\\vec{e}$.\n",
    "\n",
    "$$\n",
    "\\mathbf{1} = \\vec{1} = \\mathbf{e} = \\vec{e} =  \\begin{bmatrix}\n",
    "1 \\\\\n",
    "1 \\\\\n",
    "1 \\\\\n",
    "\\vdots \\\\\n",
    "1\n",
    "\\end{bmatrix}\t\n",
    "$$"
   ]
  },
  {
   "cell_type": "code",
   "execution_count": 5,
   "id": "israeli-cover",
   "metadata": {},
   "outputs": [
    {
     "data": {
      "text/plain": [
       "([0, 0, 0, 0, 0, 0], [1, 1, 1, 1, 1, 1])"
      ]
     },
     "execution_count": 5,
     "metadata": {},
     "output_type": "execute_result"
    }
   ],
   "source": [
    "#All zero and all one vectors of length 6\n",
    "\n",
    "all_zero = [0,0,0,0,0,0]\n",
    "all_one = [1,1,1,1,1,1]\n",
    "\n",
    "all_zero, all_one"
   ]
  },
  {
   "cell_type": "markdown",
   "id": "resistant-guest",
   "metadata": {},
   "source": [
    "<a id='linalgvectorsum'></a>"
   ]
  },
  {
   "cell_type": "markdown",
   "id": "environmental-observer",
   "metadata": {},
   "source": [
    "---\n",
    "\n",
    "<u>**Vector sum**</u>\n",
    "\n",
    "Two (or more) vectors, say $\\mathbf{x}$ and $\\mathbf{y}$, of the same length, say $n$ numbers, can be summed and it is denoted:\n",
    "\n",
    "$$\\mathbf{x} + \\mathbf{y}$$"
   ]
  },
  {
   "cell_type": "code",
   "execution_count": 6,
   "id": "conditional-monday",
   "metadata": {},
   "outputs": [
    {
     "data": {
      "text/plain": [
       "[3, 11.5, 6, 0.5999999999999996, -3, 8.0]"
      ]
     },
     "execution_count": 6,
     "metadata": {},
     "output_type": "execute_result"
    }
   ],
   "source": [
    "x = [2 , 3.5, 4,  10.6, -3, 5.5]\n",
    "y = [1 , 8,   2, -10,    0, 2.5]\n",
    "\n",
    "sum_vec = [a + b for a,b in zip(x,y)] #x + y\n",
    "sum_vec"
   ]
  },
  {
   "cell_type": "markdown",
   "id": "laughing-width",
   "metadata": {},
   "source": [
    "<a id='linalgvectorscalmul'></a>"
   ]
  },
  {
   "cell_type": "markdown",
   "id": "accomplished-sense",
   "metadata": {},
   "source": [
    "---\n",
    "\n",
    "<u>**Scalar multiple**</u>\n",
    "\n",
    "The scalar multiple where a scalar $s$ is multiplied to a vector, $\\mathbf{x}$ is denoted:\n",
    "\n",
    "$$s\\mathbf{x}$$"
   ]
  },
  {
   "cell_type": "code",
   "execution_count": 7,
   "id": "dominican-memphis",
   "metadata": {},
   "outputs": [
    {
     "data": {
      "text/plain": [
       "[8, 14.0, 16, 42.4, -12, 22.0]"
      ]
     },
     "execution_count": 7,
     "metadata": {},
     "output_type": "execute_result"
    }
   ],
   "source": [
    "x = [2 , 3.5, 4,  10.6, -3, 5.5]\n",
    "s = 4\n",
    "\n",
    "scal_mul = [s*a for a in x] #sx\n",
    "scal_mul"
   ]
  },
  {
   "cell_type": "markdown",
   "id": "refined-beast",
   "metadata": {},
   "source": [
    "<a id='linalgvectornorm'></a>"
   ]
  },
  {
   "cell_type": "markdown",
   "id": "documented-intellectual",
   "metadata": {},
   "source": [
    "---\n",
    "\n",
    "<u>**Magnitude or Norm of a vector**</u>\n",
    "\n",
    "The magnitude or norm of a vector \n",
    "$\\mathbf{x} = \\begin{bmatrix}\n",
    "x_1 \\\\\n",
    "x_2 \\\\\n",
    "x_3 \\\\\n",
    "\\vdots \\\\\n",
    "x_{n-1} \\\\\n",
    "x_n\n",
    "\\end{bmatrix}$ is denoted as:\n",
    "\n",
    "$$\\lVert \\mathbf{x} \\rVert = \\sqrt{x_1^2 + x_2^2 + \\ldots + x_{n-1}^2 + x_{n}^2}$$"
   ]
  },
  {
   "cell_type": "code",
   "execution_count": 8,
   "id": "criminal-ancient",
   "metadata": {},
   "outputs": [
    {
     "data": {
      "text/plain": [
       "5.0"
      ]
     },
     "execution_count": 8,
     "metadata": {},
     "output_type": "execute_result"
    }
   ],
   "source": [
    "x = [0, 4, 3]\n",
    "\n",
    "norm = math.sqrt(sum([a**2 for a in x]))\n",
    "\n",
    "norm"
   ]
  },
  {
   "cell_type": "markdown",
   "id": "imposed-growth",
   "metadata": {},
   "source": [
    "**Note 1:** This may also be called length of the vector by some authors in which case they are referring to the norm and not to the number of elements in the vector\n",
    "\n",
    "**Note 2:** Some authors use single bars instead of double bars to denote the norm. This may cause confusion when referring to absolute value which is part of the definition of norms in general (See [P-Norm of a vector](#linalgvectorpnorm)).\n",
    "\n",
    "$$| \\mathbf{x} | = \\sqrt{x_1^2 + x_2^2 + \\ldots + x_{n-1}^2 + x_{n}^2}$$\n",
    "\n",
    "**Note 3:** In general we can have $p$-norms but generally the $2$-norm is denoted without the $2$ explicitly, whereas the $1$-norm is denoted with the $1$ explcitly (See [P-Norm of a vector](#linalgvectorpnorm))\n",
    "\n",
    "$${\\lVert \\mathbf{x} \\rVert}_2 = \\lVert \\mathbf{x} \\rVert$$\n",
    "$${\\lVert \\mathbf{x} \\rVert}_1 \\ne \\lVert \\mathbf{x} \\rVert$$\n",
    "\n",
    "\n",
    "\n",
    "**Note 4:** For complex vectors it is better to look at the general definition of the norm, which is the p-norm (See [P-Norm of a vector](#linalgvectorpnorm))\n"
   ]
  },
  {
   "cell_type": "markdown",
   "id": "spoken-learning",
   "metadata": {},
   "source": [
    "<a id='linalgvectorpnorm'></a>"
   ]
  },
  {
   "cell_type": "markdown",
   "id": "spread-assistant",
   "metadata": {},
   "source": [
    "---\n",
    "\n",
    "<u>**P-Norm of a vector**</u>\n",
    "\n",
    "This is the generalization of the concept of the magnitude or norm (See [Magnitude or Norm of a vector](#linalgvectornorm)). \n",
    "\n",
    "For a positive real number $p$, the $p$-norm of vector $\\mathbf{x} = \\begin{bmatrix}\n",
    "x_1 \\\\\n",
    "x_2 \\\\\n",
    "x_3 \\\\\n",
    "\\vdots \\\\\n",
    "x_{n-1} \\\\\n",
    "x_n\n",
    "\\end{bmatrix}$ is: \n",
    "\n",
    "$$ {\\lVert x \\rVert}_p = {\\big[{|x_1|}^p + {|x_2|}^p + \\ldots + {|x_{n-1}|}^p + {|x_n|}^p \\big]}^{1/p} $$\n",
    "\n",
    "where $|x_j|$ denotes absolute value"
   ]
  },
  {
   "cell_type": "code",
   "execution_count": 14,
   "id": "related-giant",
   "metadata": {},
   "outputs": [
    {
     "data": {
      "text/plain": [
       "('p: ', 2, 'x: ', [0, 4, 3], 'pnorm: ', 5.0)"
      ]
     },
     "execution_count": 14,
     "metadata": {},
     "output_type": "execute_result"
    }
   ],
   "source": [
    "x = [0, 4, 3]\n",
    "p = 2\n",
    "\n",
    "pnorm = math.pow(sum([abs(a)**p for a in x]), 1/p)\n",
    "\n",
    "'p: ', p,'x: ', x,'pnorm: ', pnorm"
   ]
  },
  {
   "cell_type": "markdown",
   "id": "private-darwin",
   "metadata": {},
   "source": [
    "<a id='linalgvectordiffnorm'></a>"
   ]
  },
  {
   "cell_type": "markdown",
   "id": "synthetic-bronze",
   "metadata": {},
   "source": [
    "---\n",
    "\n",
    "<u>**Manhattan, Euclidean, Absolute Value, and Infinity Norm**</u>\n",
    "\n",
    "From the generalization of the $p$-norm, some specific values of $p$ can have many applications in various fields and so certain values of $p$-norm have special names. (See [P-Norm of a vector](#linalgvectorpnorm))\n",
    "\n",
    "For the explanations assume a vector $\\mathbf{x} = \\begin{bmatrix}\n",
    "x_1 \\\\\n",
    "x_2 \\\\\n",
    "x_3 \\\\\n",
    "\\vdots \\\\\n",
    "x_{n-1} \\\\\n",
    "x_n\n",
    "\\end{bmatrix}$\n",
    "\n",
    "When $p = 1$, this norm is called the Manhattan norm or the Taxicab norm or the $\\ell^1$ norm (pronounced ell 1).\n",
    "\n",
    "$$\n",
    "{\\lVert \\mathbf{x} \\rVert}_1 = |x_1| + |x_1| + \\ldots + |x_{n-1}| + |x_n| = \\sum_{i=1}^{n} |x_i|\n",
    "$$\n",
    "\n",
    "When $p = 2$, this is called the Euclidean norm, or magnitude of a vector or the $\\ell^2$ norm or simply the norm of the vector (See [Magnitude or Norm of a vector](#linalgvectornorm)). This is generally denoted without the subscript $2$.\n",
    "\n",
    "$${\\lVert \\mathbf{x} \\rVert}_2 = \\lVert \\mathbf{x} \\rVert = \\sqrt{x_1^2 + x_2^2 + \\ldots + x_{n-1}^2 + x_{n}^2} = \\sqrt{\\sum_{i=1}^{n} x^2_i}$$\n",
    "\n",
    "When $p = \\infty$, this is called the Infinity norm or Maximum norm and is defined as:\n",
    "\n",
    "$$ {\\lVert \\mathbf{x} \\rVert}_{\\infty} = \\max \\big\\{ |x_1|,|x_1|, \\ldots ,|x_{n-1}|,|x_n| \\big\\}$$ \n",
    "\n",
    "If the vector is one dimensional (a scalar), the p-norm of the vector is the absolute value. In the example below, the one dimensional vector is not denoted using bold face indicating it is a scalar.\n",
    "\n",
    "$$ \\lVert x \\rVert = |x|$$\n"
   ]
  },
  {
   "cell_type": "code",
   "execution_count": 10,
   "id": "atlantic-suite",
   "metadata": {},
   "outputs": [
    {
     "name": "stdout",
     "output_type": "stream",
     "text": [
      "x:  [0, 3, 4]\n",
      "p is 1\n",
      "The Manhattan norm is 7.0\n",
      "\n",
      "x:  [0, 3, 4]\n",
      "p is 2\n",
      "The Euclidean norm is 5.0\n",
      "\n",
      "x:  [0, 3, 4]\n",
      "p is 3\n",
      "The 3 norm is 4.5\n",
      "\n",
      "x:  [0, 3, 4]\n",
      "p is inf\n",
      "The Infinity norm is 4\n",
      "\n",
      "x:  [-4]\n",
      "p is 3\n",
      "The Absolute value norm is 4.0\n",
      "\n"
     ]
    }
   ],
   "source": [
    "terms = {\n",
    "        1: 'Manhattan',\n",
    "        2: 'Euclidean',\n",
    "        'inf': 'Infinity'\n",
    "    }\n",
    "\n",
    "def norms(p, x, terms):\n",
    "    if p == 'inf':\n",
    "        norm = max([abs(a) for a in x]) #infinity norm\n",
    "    else:\n",
    "        norm = round( math.pow(sum([abs(a)**p for a in x]), 1/p) , 2) #general p-norm calc\n",
    "    \n",
    "    if len(x) == 1:\n",
    "        name = 'Absolute value' #one dimensional vector case\n",
    "    elif p in [1,2,'inf']:\n",
    "        name = terms[p]\n",
    "    else:\n",
    "        name = str(p)\n",
    "    print(f'The {name} norm is {norm}\\n')\n",
    "    \n",
    "x = [0,3,4]\n",
    "p = 1\n",
    "print('x: ', x)\n",
    "print('p is', p)\n",
    "norms(p, x, terms)\n",
    "\n",
    "p = 2\n",
    "print('x: ', x)\n",
    "print('p is', p)\n",
    "norms(p, x, terms)\n",
    "\n",
    "p = 3\n",
    "print('x: ', x)\n",
    "print('p is', p)\n",
    "norms(p, x, terms)\n",
    "\n",
    "p = 'inf'\n",
    "print('x: ', x)\n",
    "print('p is', p)\n",
    "norms(p, x, terms)\n",
    "\n",
    "x = [-4]\n",
    "p = 3\n",
    "print('x: ', x)\n",
    "print('p is', p)\n",
    "norms(p, x, terms)"
   ]
  },
  {
   "cell_type": "markdown",
   "id": "stock-error",
   "metadata": {},
   "source": [
    "<a id='linalgvectordot'></a>"
   ]
  },
  {
   "cell_type": "markdown",
   "id": "adverse-filling",
   "metadata": {},
   "source": [
    "---\n",
    "\n",
    "<u>**Dot (inner) product**</u>\n",
    "\n",
    "The inner product or dot product or elementwise multiplication of two vectors $\\mathbf{x} = \\begin{bmatrix}\n",
    "x_1 \\\\\n",
    "x_2 \\\\\n",
    "x_3 \\\\\n",
    "\\vdots \\\\\n",
    "x_{n-1} \\\\\n",
    "x_n\n",
    "\\end{bmatrix}$ and $\\mathbf{y} = \\begin{bmatrix}\n",
    "y_1 \\\\\n",
    "y_2 \\\\\n",
    "y_3 \\\\\n",
    "\\vdots \\\\\n",
    "y_{n-1} \\\\\n",
    "y_n\n",
    "\\end{bmatrix}$ is denoted as:\n",
    "\n",
    "$$ \\mathbf{x} \\cdot \\mathbf{y} = x_1 y_1 + x_2 y_2 + \\ldots + x_{n-1} y_{n-1} + x_n y_n $$\n",
    "\n",
    "Sometimes, the bullet glyph is used to represent dot products $\\mathbf{x} \\bullet \\mathbf{y}$ and the smaller dot is used to represent multiplication in general $ x_1 \\cdot y_1$\n",
    "\n",
    "The dot product may also be denoted using angle brackets, $\\langle \\mathbf{x}, \\mathbf{y} \\rangle$, or using the transpose notations $\\mathbf{x}^t \\mathbf{y} $ or $\\mathbf{x}^T \\mathbf{y} $ (See Transpose)"
   ]
  },
  {
   "cell_type": "code",
   "execution_count": 11,
   "id": "sought-injury",
   "metadata": {},
   "outputs": [
    {
     "data": {
      "text/plain": [
       "22"
      ]
     },
     "execution_count": 11,
     "metadata": {},
     "output_type": "execute_result"
    }
   ],
   "source": [
    "x = [2,3,6]\n",
    "y = [5,2,1]\n",
    "\n",
    "\n",
    "def dot_product(x,y):\n",
    "    return sum([a*b for a,b in zip(x,y)])\n",
    "\n",
    "x_dot_y = dot_product(x,y)\n",
    "x_dot_y"
   ]
  },
  {
   "cell_type": "markdown",
   "id": "collected-wesley",
   "metadata": {},
   "source": [
    "If $\\mathbf{x}$ and $\\mathbf{y}$ are complex $n$-vectors, then often the dot product may be represented as:\n",
    "\n",
    "$$\\langle \\mathbf{x},\\mathbf{y} \\rangle = \\sum_{k=1}^{n} x_k \\overline{y_k}$$\n",
    "\n",
    "although some authors define it as:\n",
    "\n",
    "$$\\langle \\mathbf{x},\\mathbf{y} \\rangle = \\sum_{k=1}^{n} \\overline{x_k} y_k $$\n",
    "\n",
    "where $\\overline{x}$ denotes complex conjugate.\n",
    "\n",
    "**See the Numbers notebook to learn more about complex conjugate**"
   ]
  },
  {
   "cell_type": "markdown",
   "id": "swiss-trigger",
   "metadata": {},
   "source": [
    "Some literature from the physics community also denote inner product as:\n",
    "\n",
    "$$\\langle \\mathbf{x} \\mid \\mathbf{y} \\rangle$$\n",
    "\n",
    "This is known as the *bra-ket* notation where the $\\langle x \\mid $ is the row vector called the bra-vector and the $\\mid y \\rangle $ is the column vector called the ket-vector."
   ]
  },
  {
   "cell_type": "markdown",
   "id": "assigned-interval",
   "metadata": {},
   "source": [
    "Inner products arise in a context beyond $\\mathbb{R}^n$ and $\\mathbb{C}^n$ such as in a calculus where $f,g: \\mathbb{R} \\rightarrow \\mathbb{R}$ then\n",
    "\n",
    "$$\\langle f,g \\rangle = \\int_{-\\infty}^{\\infty} f(t)g(t) \\, dt $$\n",
    "\n",
    "**For more information on the calculus perspective please see the Calculus notebook**"
   ]
  },
  {
   "cell_type": "markdown",
   "id": "least-robinson",
   "metadata": {},
   "source": [
    "<a id='linalgvectorortho'></a>"
   ]
  },
  {
   "cell_type": "markdown",
   "id": "suitable-auditor",
   "metadata": {},
   "source": [
    "---\n",
    "\n",
    "<u>**Orthogonality**</u>\n",
    "\n",
    "Two vectors are called orthogonal if their dot product is zero, which then can be denoted as:\n",
    "\n",
    "$$\\mathbf{x} \\perp \\mathbf{y}$$"
   ]
  },
  {
   "cell_type": "code",
   "execution_count": 12,
   "id": "graphic-following",
   "metadata": {
    "scrolled": true
   },
   "outputs": [
    {
     "name": "stdout",
     "output_type": "stream",
     "text": [
      "x  [2, -1, 0]\n",
      "y  [1, 2, 0]\n",
      "Is orthogonal:  True\n",
      "x  [5, 2, 0]\n",
      "y  [-3, -10, 0]\n",
      "Is orthogonal:  False\n"
     ]
    }
   ],
   "source": [
    "x = [ 2, -1, 0]\n",
    "y = [ 1, 2, 0]\n",
    "\n",
    "def is_orthogonal(x,y):\n",
    "    return round(dot_product(x,y), 4) == 0\n",
    "\n",
    "print('x ',x)\n",
    "print('y ',y)\n",
    "print('Is orthogonal: ',is_orthogonal(x,y))\n",
    "\n",
    "x = [ 5, 2, 0]\n",
    "y = [ -3, -10, 0]\n",
    "\n",
    "print('x ',x)\n",
    "print('y ',y)\n",
    "print('Is orthogonal: ',is_orthogonal(x,y))"
   ]
  },
  {
   "cell_type": "markdown",
   "id": "australian-advancement",
   "metadata": {},
   "source": [
    "The $\\perp$ symbol is also used to define subspaces of $\\mathbb{R}^n$. If $\\mathcal{V}$ is a subspace of $\\mathbb{R}^n$, then $\\mathcal{V}^{\\perp}$ is the set of vectors that are orthogonal to all vectors in $\\mathcal{V}$:\n",
    "\n",
    "$$\\mathcal{V}^{\\perp} = \\{ \\mathbf{x} \\in \\mathbb{R}^n \\mid \\forall \\mathbf{v} \\in \\mathcal{V}, \\mathbf{x} \\perp \\mathbf{v} \\}$$\n",
    "\n",
    "Then the subspace $\\mathcal{V}^{\\perp}$ is called the orthogonal complement of $\\mathcal{V}$"
   ]
  },
  {
   "cell_type": "code",
   "execution_count": null,
   "id": "advised-jefferson",
   "metadata": {},
   "outputs": [],
   "source": []
  }
 ],
 "metadata": {
  "kernelspec": {
   "display_name": "Python 3",
   "language": "python",
   "name": "python3"
  },
  "language_info": {
   "codemirror_mode": {
    "name": "ipython",
    "version": 3
   },
   "file_extension": ".py",
   "mimetype": "text/x-python",
   "name": "python",
   "nbconvert_exporter": "python",
   "pygments_lexer": "ipython3",
   "version": "3.8.6"
  }
 },
 "nbformat": 4,
 "nbformat_minor": 5
}
