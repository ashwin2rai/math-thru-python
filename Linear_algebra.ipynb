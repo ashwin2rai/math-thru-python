{
 "cells": [
  {
   "cell_type": "markdown",
   "metadata": {},
   "source": [
    "## Notes\n",
    "\n",
    "1. The notebooks are largely self-contained, i.e, if you see a symbol there will be an explanation about it at some point in the notebook.\n",
    "    - Most often there will be links to the cell where the symbols are explained\n",
    "    - If the symbols are not explained in this notebook, a reference to the appropriate notebook will be provided\n",
    "    \n",
    "    \n",
    "2. **Github does a poor job of rendering this notebook**. The online render of this notebook is missing links, symbols, and notations are badly formatted. It is advised that you clone a local copy (or download the notebook) and open it locally.\n",
    "\n",
    "\n",
    "3. **See the Collections notebook before this notebook to gain familiarity with set notations**"
   ]
  },
  {
   "cell_type": "markdown",
   "metadata": {},
   "source": [
    "# Contents\n",
    "\n",
    "1. [Linear Algebra](#linalg)\n",
    "    - [Vectors](#linalgvector)\n",
    "        - [Intro](#linalgvectorintro)\n",
    "        - [Set of all vectors](#linalgvectorset)\n",
    "        - [Physical quantities and basis vectors](#linalgvectorphys)\n",
    "     "
   ]
  },
  {
   "cell_type": "markdown",
   "metadata": {},
   "source": [
    "## Importing Libraries"
   ]
  },
  {
   "cell_type": "code",
   "execution_count": 1,
   "metadata": {},
   "outputs": [],
   "source": [
    "import random"
   ]
  },
  {
   "cell_type": "markdown",
   "metadata": {},
   "source": [
    "<a id='linalg'></a>\n",
    "<a id='linalgvector'></a>\n",
    "<a id='linalgvectorintro'></a>"
   ]
  },
  {
   "cell_type": "markdown",
   "metadata": {},
   "source": [
    "---\n",
    "\n",
    "<u>**Vectors**</u>\n",
    "\n",
    "<u>**Introduction**</u>\n",
    "\n",
    "A (real) vector is a representation of $n$ real numbers as a column:\n",
    "\n",
    "$$\n",
    "\\mathbf{x} = \\vec{x} = \\underline{x} = x =  \\begin{bmatrix}\n",
    "x_1 \\\\\n",
    "x_2 \\\\\n",
    "x_3 \\\\\n",
    "\\vdots \\\\\n",
    "x_n\n",
    "\\end{bmatrix}\t\n",
    "$$\n",
    "\n",
    "\n",
    "Vectors are often denoted using bold lower case letters such as $\\mathbf{v}$, but can also be denoted using an arrow on top of a normal case letter such as $\\vec{v}$. Some authors may also denote them with a tilde underline such as $\\underline{v}$, and some mathematicians may simply use a lower case normal case letter, $v$."
   ]
  },
  {
   "cell_type": "code",
   "execution_count": 2,
   "metadata": {},
   "outputs": [
    {
     "name": "stdout",
     "output_type": "stream",
     "text": [
      "Length of vector:  6\n"
     ]
    },
    {
     "data": {
      "text/plain": [
       "[2, 3, 4, 10, -3, 5]"
      ]
     },
     "execution_count": 2,
     "metadata": {},
     "output_type": "execute_result"
    }
   ],
   "source": [
    "#x is a vector of length 6\n",
    "\n",
    "x = [2 ,3, 4, 10, -3, 5]\n",
    "\n",
    "print('Length of vector: ', len(x))\n",
    "x "
   ]
  },
  {
   "cell_type": "markdown",
   "metadata": {},
   "source": [
    "<a id='linalgvectorset'></a>"
   ]
  },
  {
   "cell_type": "markdown",
   "metadata": {},
   "source": [
    "---\n",
    "\n",
    "<u>**Set of all vectos**</u>\n",
    "\n",
    "The set of all real vectors of length $n$ real numbers is denoted $$\\mathbb{R}^n$$\n",
    "\n",
    "The set of all complex vectors of length $n$ complex numbers is denoted $$\\mathbb{C}^n$$\n",
    "\n",
    "**Please see Numbers notebook for a higher dimensional numbers set perspective of this concept**"
   ]
  },
  {
   "cell_type": "code",
   "execution_count": 3,
   "metadata": {},
   "outputs": [
    {
     "data": {
      "text/plain": [
       "[[0.8705160986541352, 2.0074879665541023, 0.40203237742993736],\n",
       " [1.9471668979229104, 3.067282525379003, 1.143421739332506],\n",
       " [0.8496897187671937, 2.98784570143354, 0.5902286343910997],\n",
       " [0.08836257084448018, 3.3296605687057927, 0.8059056263841777],\n",
       " [0.31906023640823644, 5.085851701267094, 1.6938418029247506],\n",
       " [3.633831195361851, 0.18797372461758022, 2.9348780545607984],\n",
       " [2.8860459193524237, 7.336889896228117, 3.0252799780483377],\n",
       " [1.5884749968614824, 3.840029204019203, 5.169256949821753],\n",
       " [3.3093027122341807, 1.4952426017624239, 1.380771363474611],\n",
       " [0.6886141231377207, 0.43901251960138166, 0.0492906366279694]]"
      ]
     },
     "execution_count": 3,
     "metadata": {},
     "output_type": "execute_result"
    }
   ],
   "source": [
    "#Small subset from R^3, each 3 element list is a single vector\n",
    "\n",
    "no_of_samples = 10\n",
    "n = 3\n",
    "\n",
    "R_n = [ [random.random()*random.randint(1,10) for i in range(n)]  for j in range(no_of_samples) ]\n",
    "\n",
    "R_n"
   ]
  },
  {
   "cell_type": "markdown",
   "metadata": {},
   "source": [
    "<a id='linalgvectorphys'></a>"
   ]
  },
  {
   "cell_type": "markdown",
   "metadata": {},
   "source": [
    "---\n",
    "\n",
    "<u>**Physical quantities and basis vectors**</u>\n",
    "\n",
    "Vectors that are used to represent physical quantities such as displacement, velocities, forces etc are typically represented in three dimensions due to the use of Euclidean space and hence are elements of $\\mathbb{R}^3$ (See [Set of all vectors](#linalgvectorset)).\n",
    "\n",
    "Such vectors are often expressed using basis vectors or $\\mathbf{i}-\\mathbf{j}-\\mathbf{k}$ cordinates. These basis vectors are defined as:\n",
    "\n",
    "$$\n",
    "\\mathbf{i} = \\begin{bmatrix}\n",
    "1 \\\\\n",
    "0 \\\\\n",
    "0\n",
    "\\end{bmatrix}, \n",
    "\\mathbf{j} = \\begin{bmatrix}\n",
    "0 \\\\\n",
    "1 \\\\\n",
    "0\n",
    "\\end{bmatrix}, \n",
    "\\mathbf{k} = \\begin{bmatrix}\n",
    "0 \\\\\n",
    "0 \\\\\n",
    "1\n",
    "\\end{bmatrix}$$\n",
    "\n",
    "Basis vectors (or *unit vectors* in general) can also be denoted using hats on top of the letters $\\mathbf{\\hat{i}}$ such that:\n",
    "\n",
    "$$\n",
    "\\mathbf{\\hat{i}} = \\begin{bmatrix}\n",
    "1 \\\\\n",
    "0 \\\\\n",
    "0\n",
    "\\end{bmatrix}, \n",
    "\\mathbf{\\hat{j}} = \\begin{bmatrix}\n",
    "0 \\\\\n",
    "1 \\\\\n",
    "0\n",
    "\\end{bmatrix}, \n",
    "\\mathbf{\\hat{k}} = \\begin{bmatrix}\n",
    "0 \\\\\n",
    "0 \\\\\n",
    "1\n",
    "\\end{bmatrix}$$\n",
    "\n",
    "\n",
    "\n",
    "The basis vectors can then be used to represent a three dimensional vector $\\mathbf{v} = \\begin{bmatrix}\n",
    "a \\\\\n",
    "b \\\\\n",
    "c\n",
    "\\end{bmatrix}$ as:\n",
    "\n",
    "$$ \n",
    "\\mathbf{v} = a \\mathbf{\\hat{i}} + b \\mathbf{\\hat{j}} + c \\mathbf{\\hat{k}} \n",
    "$$\n",
    "\n"
   ]
  },
  {
   "cell_type": "code",
   "execution_count": 4,
   "metadata": {},
   "outputs": [
    {
     "data": {
      "text/plain": [
       "([2, 3, 4], [2, 3, 4])"
      ]
     },
     "execution_count": 4,
     "metadata": {},
     "output_type": "execute_result"
    }
   ],
   "source": [
    "v = [2, 3, 4]\n",
    "\n",
    "i = [1,0,0]\n",
    "j = [0,1,0]\n",
    "k = [0,0,1]\n",
    "\n",
    "A = [i,\n",
    "     j,\n",
    "     k]\n",
    "\n",
    "new_v = [0,0,0] #Initializating\n",
    "\n",
    "for val in range(len(new_v)):\n",
    "    new_v[val] = sum([ a*v[idx] for idx, a in enumerate(A[val])])\n",
    "\n",
    "v, new_v"
   ]
  },
  {
   "cell_type": "markdown",
   "metadata": {},
   "source": [
    "In $\\mathbb{R}^n$ the standard basis vectors are denoted using: $\\mathbf{e}_1, \\mathbf{e}_2, \\ldots ,\\mathbf{e}_n$ where $\\mathbf{e}_j$ is a vector with all 0s except for a single 1 at position $j$ such that the norm of each basis vector is 1 and are called *unit vectors*. (See Magnitude of a vector) \n",
    "\n",
    "$$\n",
    "\\mathbf{\\hat{e}_1} = \\begin{bmatrix}\n",
    "1 \\\\\n",
    "0 \\\\\n",
    "\\vdots \\\\\n",
    "0 \\\\\n",
    "0\n",
    "\\end{bmatrix}, \n",
    "\\mathbf{\\hat{e}_2} = \\begin{bmatrix}\n",
    "0 \\\\\n",
    "1 \\\\\n",
    "\\vdots \\\\\n",
    "0 \\\\\n",
    "0\n",
    "\\end{bmatrix}, \\ldots, \n",
    "\\mathbf{\\hat{e}_{n-1}} = \\begin{bmatrix}\n",
    "0 \\\\\n",
    "0 \\\\\n",
    "\\vdots \\\\\n",
    "1 \\\\\n",
    "0\n",
    "\\end{bmatrix},\n",
    "\\mathbf{\\hat{e}_n} = \\begin{bmatrix}\n",
    "0 \\\\\n",
    "0 \\\\\n",
    "\\vdots \\\\\n",
    "0 \\\\\n",
    "1\n",
    "\\end{bmatrix}$$\n",
    "\n",
    "$$ \n",
    "\\mathbf{v} = \\begin{bmatrix}\n",
    "v_1 \\\\\n",
    "v_2 \\\\\n",
    "\\vdots \\\\\n",
    "v_{n-1} \\\\\n",
    "v_n\n",
    "\\end{bmatrix},\n",
    "\\mathbf{v} = v_1 \\mathbf{\\hat{e}_1} +  v_2 \\mathbf{\\hat{e}_2} + \\ldots +  v_{n-1} \\mathbf{\\hat{e}_{n-1}} + v_n \\mathbf{\\hat{e}_n}\n",
    "$$\n",
    "\n"
   ]
  },
  {
   "cell_type": "code",
   "execution_count": null,
   "metadata": {},
   "outputs": [],
   "source": []
  }
 ],
 "metadata": {
  "kernelspec": {
   "display_name": "Python 3",
   "language": "python",
   "name": "python3"
  },
  "language_info": {
   "codemirror_mode": {
    "name": "ipython",
    "version": 3
   },
   "file_extension": ".py",
   "mimetype": "text/x-python",
   "name": "python",
   "nbconvert_exporter": "python",
   "pygments_lexer": "ipython3",
   "version": "3.8.3"
  }
 },
 "nbformat": 4,
 "nbformat_minor": 5
}
